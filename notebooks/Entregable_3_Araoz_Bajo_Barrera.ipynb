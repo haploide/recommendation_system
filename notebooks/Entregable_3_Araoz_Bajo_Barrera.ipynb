{
 "cells": [
  {
   "cell_type": "markdown",
   "metadata": {},
   "source": [
    "# 3er Entregable\n",
    "\n",
    "Integrantes:\n",
    "- Araoz, Tania\n",
    "- Bajo, Pablo\n",
    "- Barrera, Manuel"
   ]
  },
  {
   "cell_type": "markdown",
   "metadata": {},
   "source": [
    "## Carga de librerias a utilizar "
   ]
  },
  {
   "cell_type": "code",
   "execution_count": 59,
   "metadata": {},
   "outputs": [],
   "source": [
    "import pandas as pd\n",
    "from datetime import datetime\n",
    "from scipy.sparse import csr_matrix\n",
    "from lightfm import LightFM\n",
    "import numpy as np\n",
    "from sklearn.model_selection import GridSearchCV"
   ]
  },
  {
   "cell_type": "markdown",
   "metadata": {},
   "source": [
    "## Carga de datasets"
   ]
  },
  {
   "cell_type": "code",
   "execution_count": 60,
   "metadata": {},
   "outputs": [
    {
     "data": {
      "text/html": [
       "<div>\n",
       "<style scoped>\n",
       "    .dataframe tbody tr th:only-of-type {\n",
       "        vertical-align: middle;\n",
       "    }\n",
       "\n",
       "    .dataframe tbody tr th {\n",
       "        vertical-align: top;\n",
       "    }\n",
       "\n",
       "    .dataframe thead th {\n",
       "        text-align: right;\n",
       "    }\n",
       "</style>\n",
       "<table border=\"1\" class=\"dataframe\">\n",
       "  <thead>\n",
       "    <tr style=\"text-align: right;\">\n",
       "      <th></th>\n",
       "      <th>movieId</th>\n",
       "      <th>title</th>\n",
       "      <th>genres</th>\n",
       "    </tr>\n",
       "  </thead>\n",
       "  <tbody>\n",
       "    <tr>\n",
       "      <th>0</th>\n",
       "      <td>1</td>\n",
       "      <td>Toy Story (1995)</td>\n",
       "      <td>Adventure|Animation|Children|Comedy|Fantasy</td>\n",
       "    </tr>\n",
       "    <tr>\n",
       "      <th>1</th>\n",
       "      <td>2</td>\n",
       "      <td>Jumanji (1995)</td>\n",
       "      <td>Adventure|Children|Fantasy</td>\n",
       "    </tr>\n",
       "    <tr>\n",
       "      <th>2</th>\n",
       "      <td>3</td>\n",
       "      <td>Grumpier Old Men (1995)</td>\n",
       "      <td>Comedy|Romance</td>\n",
       "    </tr>\n",
       "    <tr>\n",
       "      <th>3</th>\n",
       "      <td>4</td>\n",
       "      <td>Waiting to Exhale (1995)</td>\n",
       "      <td>Comedy|Drama|Romance</td>\n",
       "    </tr>\n",
       "    <tr>\n",
       "      <th>4</th>\n",
       "      <td>5</td>\n",
       "      <td>Father of the Bride Part II (1995)</td>\n",
       "      <td>Comedy</td>\n",
       "    </tr>\n",
       "  </tbody>\n",
       "</table>\n",
       "</div>"
      ],
      "text/plain": [
       "   movieId                               title  \\\n",
       "0        1                    Toy Story (1995)   \n",
       "1        2                      Jumanji (1995)   \n",
       "2        3             Grumpier Old Men (1995)   \n",
       "3        4            Waiting to Exhale (1995)   \n",
       "4        5  Father of the Bride Part II (1995)   \n",
       "\n",
       "                                        genres  \n",
       "0  Adventure|Animation|Children|Comedy|Fantasy  \n",
       "1                   Adventure|Children|Fantasy  \n",
       "2                               Comedy|Romance  \n",
       "3                         Comedy|Drama|Romance  \n",
       "4                                       Comedy  "
      ]
     },
     "execution_count": 60,
     "metadata": {},
     "output_type": "execute_result"
    }
   ],
   "source": [
    "movies = pd.read_csv(\"../data/ml-latest/movies.csv\")\n",
    "movies.head()"
   ]
  },
  {
   "cell_type": "markdown",
   "metadata": {},
   "source": [
    "Dataset de ratings con interacciones"
   ]
  },
  {
   "cell_type": "code",
   "execution_count": 61,
   "metadata": {},
   "outputs": [
    {
     "data": {
      "text/html": [
       "<div>\n",
       "<style scoped>\n",
       "    .dataframe tbody tr th:only-of-type {\n",
       "        vertical-align: middle;\n",
       "    }\n",
       "\n",
       "    .dataframe tbody tr th {\n",
       "        vertical-align: top;\n",
       "    }\n",
       "\n",
       "    .dataframe thead th {\n",
       "        text-align: right;\n",
       "    }\n",
       "</style>\n",
       "<table border=\"1\" class=\"dataframe\">\n",
       "  <thead>\n",
       "    <tr style=\"text-align: right;\">\n",
       "      <th></th>\n",
       "      <th>userId</th>\n",
       "      <th>movieId</th>\n",
       "      <th>rating</th>\n",
       "      <th>timestamp</th>\n",
       "    </tr>\n",
       "  </thead>\n",
       "  <tbody>\n",
       "    <tr>\n",
       "      <th>0</th>\n",
       "      <td>86847</td>\n",
       "      <td>34</td>\n",
       "      <td>5.0</td>\n",
       "      <td>822873600</td>\n",
       "    </tr>\n",
       "    <tr>\n",
       "      <th>1</th>\n",
       "      <td>268919</td>\n",
       "      <td>23</td>\n",
       "      <td>2.0</td>\n",
       "      <td>823185233</td>\n",
       "    </tr>\n",
       "    <tr>\n",
       "      <th>2</th>\n",
       "      <td>25445</td>\n",
       "      <td>52</td>\n",
       "      <td>4.0</td>\n",
       "      <td>823255313</td>\n",
       "    </tr>\n",
       "    <tr>\n",
       "      <th>3</th>\n",
       "      <td>80271</td>\n",
       "      <td>70</td>\n",
       "      <td>3.0</td>\n",
       "      <td>823264587</td>\n",
       "    </tr>\n",
       "    <tr>\n",
       "      <th>4</th>\n",
       "      <td>311037</td>\n",
       "      <td>74</td>\n",
       "      <td>4.0</td>\n",
       "      <td>823867612</td>\n",
       "    </tr>\n",
       "  </tbody>\n",
       "</table>\n",
       "</div>"
      ],
      "text/plain": [
       "   userId  movieId  rating  timestamp\n",
       "0   86847       34     5.0  822873600\n",
       "1  268919       23     2.0  823185233\n",
       "2   25445       52     4.0  823255313\n",
       "3   80271       70     3.0  823264587\n",
       "4  311037       74     4.0  823867612"
      ]
     },
     "execution_count": 61,
     "metadata": {},
     "output_type": "execute_result"
    }
   ],
   "source": [
    "ratings = pd.read_csv(\"../data/ml-latest/ratings.csv\").sample(300000, random_state=42).sort_values(by='timestamp', ascending=True).reset_index(drop=True)\n",
    "ratings.head()"
   ]
  },
  {
   "cell_type": "markdown",
   "metadata": {},
   "source": [
    "> Como el data set es muy grande, se recorta a 300mil registros, se utiliza el método sample de pandas con random state para tener siempre el mismo dataset."
   ]
  },
  {
   "cell_type": "code",
   "execution_count": 62,
   "metadata": {},
   "outputs": [
    {
     "name": "stdout",
     "output_type": "stream",
     "text": [
      "<class 'pandas.core.frame.DataFrame'>\n",
      "RangeIndex: 300000 entries, 0 to 299999\n",
      "Data columns (total 4 columns):\n",
      " #   Column     Non-Null Count   Dtype  \n",
      "---  ------     --------------   -----  \n",
      " 0   userId     300000 non-null  int64  \n",
      " 1   movieId    300000 non-null  int64  \n",
      " 2   rating     300000 non-null  float64\n",
      " 3   timestamp  300000 non-null  int64  \n",
      "dtypes: float64(1), int64(3)\n",
      "memory usage: 9.2 MB\n"
     ]
    }
   ],
   "source": [
    "ratings.info()"
   ]
  },
  {
   "cell_type": "markdown",
   "metadata": {},
   "source": [
    "> El dataset contiene 300000 interacciones."
   ]
  },
  {
   "cell_type": "markdown",
   "metadata": {},
   "source": [
    "> El timestamp está en formato int64, se debe convertir a formato fecha para poder trabajar."
   ]
  },
  {
   "cell_type": "code",
   "execution_count": 63,
   "metadata": {},
   "outputs": [
    {
     "data": {
      "text/plain": [
       "userId       0\n",
       "movieId      0\n",
       "rating       0\n",
       "timestamp    0\n",
       "dtype: int64"
      ]
     },
     "execution_count": 63,
     "metadata": {},
     "output_type": "execute_result"
    }
   ],
   "source": [
    "ratings.isna().sum()"
   ]
  },
  {
   "cell_type": "markdown",
   "metadata": {},
   "source": [
    "> No hay valores nulos"
   ]
  },
  {
   "cell_type": "code",
   "execution_count": 64,
   "metadata": {},
   "outputs": [
    {
     "data": {
      "text/plain": [
       "119409"
      ]
     },
     "execution_count": 64,
     "metadata": {},
     "output_type": "execute_result"
    }
   ],
   "source": [
    "ratings['userId'].nunique()"
   ]
  },
  {
   "cell_type": "markdown",
   "metadata": {},
   "source": [
    "> El dataset tiene 119409 ususarios."
   ]
  },
  {
   "cell_type": "code",
   "execution_count": 65,
   "metadata": {},
   "outputs": [
    {
     "data": {
      "text/plain": [
       "17006"
      ]
     },
     "execution_count": 65,
     "metadata": {},
     "output_type": "execute_result"
    }
   ],
   "source": [
    "ratings['movieId'].nunique()"
   ]
  },
  {
   "cell_type": "markdown",
   "metadata": {},
   "source": [
    "> el dataset contiene ratings de 17006 peliculas."
   ]
  },
  {
   "cell_type": "code",
   "execution_count": 66,
   "metadata": {},
   "outputs": [
    {
     "data": {
      "text/plain": [
       "array([0.5, 1. , 1.5, 2. , 2.5, 3. , 3.5, 4. , 4.5, 5. ])"
      ]
     },
     "execution_count": 66,
     "metadata": {},
     "output_type": "execute_result"
    }
   ],
   "source": [
    "ratings['rating'].sort_values(ascending=True).unique()"
   ]
  },
  {
   "cell_type": "markdown",
   "metadata": {},
   "source": [
    "> Los valores posibles de ratings van del 0.5 al 5, con un incremento de 0.5. "
   ]
  },
  {
   "cell_type": "markdown",
   "metadata": {},
   "source": [
    "## Preprocesado"
   ]
  },
  {
   "cell_type": "markdown",
   "metadata": {},
   "source": [
    "Convertimos el timestamp numerico en formato fecha"
   ]
  },
  {
   "cell_type": "code",
   "execution_count": 67,
   "metadata": {},
   "outputs": [],
   "source": [
    "ratings[\"timestamp\"] = ratings[\"timestamp\"].apply(lambda x: datetime.utcfromtimestamp(x).strftime('%Y/%m/%d'))"
   ]
  },
  {
   "cell_type": "code",
   "execution_count": 68,
   "metadata": {},
   "outputs": [
    {
     "data": {
      "text/plain": [
       "0         1996/01/29\n",
       "1         1996/02/01\n",
       "2         1996/02/02\n",
       "3         1996/02/02\n",
       "4         1996/02/09\n",
       "             ...    \n",
       "299995    2023/07/19\n",
       "299996    2023/07/19\n",
       "299997    2023/07/20\n",
       "299998    2023/07/20\n",
       "299999    2023/07/20\n",
       "Name: timestamp, Length: 300000, dtype: object"
      ]
     },
     "execution_count": 68,
     "metadata": {},
     "output_type": "execute_result"
    }
   ],
   "source": [
    "ratings[\"timestamp\"]"
   ]
  },
  {
   "cell_type": "markdown",
   "metadata": {},
   "source": [
    "> Vemos que la fecha tiene un formato de fecha, pero la columna es de tipo object"
   ]
  },
  {
   "cell_type": "markdown",
   "metadata": {},
   "source": [
    "Utilizando pandas convertimos a un formato de fechas que permita el filtrado"
   ]
  },
  {
   "cell_type": "code",
   "execution_count": 69,
   "metadata": {},
   "outputs": [],
   "source": [
    "ratings[\"timestamp\"] = pd.to_datetime(ratings['timestamp'], format='%Y/%m/%d')"
   ]
  },
  {
   "cell_type": "code",
   "execution_count": 70,
   "metadata": {},
   "outputs": [
    {
     "data": {
      "text/plain": [
       "0        1996-01-29\n",
       "1        1996-02-01\n",
       "2        1996-02-02\n",
       "3        1996-02-02\n",
       "4        1996-02-09\n",
       "            ...    \n",
       "299995   2023-07-19\n",
       "299996   2023-07-19\n",
       "299997   2023-07-20\n",
       "299998   2023-07-20\n",
       "299999   2023-07-20\n",
       "Name: timestamp, Length: 300000, dtype: datetime64[ns]"
      ]
     },
     "execution_count": 70,
     "metadata": {},
     "output_type": "execute_result"
    }
   ],
   "source": [
    "ratings[\"timestamp\"]"
   ]
  },
  {
   "cell_type": "markdown",
   "metadata": {},
   "source": [
    "> Vemos que la columna tiene el formato datetime64"
   ]
  },
  {
   "cell_type": "code",
   "execution_count": 71,
   "metadata": {},
   "outputs": [
    {
     "data": {
      "text/html": [
       "<div>\n",
       "<style scoped>\n",
       "    .dataframe tbody tr th:only-of-type {\n",
       "        vertical-align: middle;\n",
       "    }\n",
       "\n",
       "    .dataframe tbody tr th {\n",
       "        vertical-align: top;\n",
       "    }\n",
       "\n",
       "    .dataframe thead th {\n",
       "        text-align: right;\n",
       "    }\n",
       "</style>\n",
       "<table border=\"1\" class=\"dataframe\">\n",
       "  <thead>\n",
       "    <tr style=\"text-align: right;\">\n",
       "      <th></th>\n",
       "      <th>userId</th>\n",
       "      <th>movieId</th>\n",
       "      <th>rating</th>\n",
       "      <th>timestamp</th>\n",
       "    </tr>\n",
       "  </thead>\n",
       "  <tbody>\n",
       "    <tr>\n",
       "      <th>0</th>\n",
       "      <td>86847</td>\n",
       "      <td>34</td>\n",
       "      <td>5.0</td>\n",
       "      <td>1996-01-29</td>\n",
       "    </tr>\n",
       "    <tr>\n",
       "      <th>1</th>\n",
       "      <td>268919</td>\n",
       "      <td>23</td>\n",
       "      <td>2.0</td>\n",
       "      <td>1996-02-01</td>\n",
       "    </tr>\n",
       "    <tr>\n",
       "      <th>2</th>\n",
       "      <td>25445</td>\n",
       "      <td>52</td>\n",
       "      <td>4.0</td>\n",
       "      <td>1996-02-02</td>\n",
       "    </tr>\n",
       "    <tr>\n",
       "      <th>3</th>\n",
       "      <td>80271</td>\n",
       "      <td>70</td>\n",
       "      <td>3.0</td>\n",
       "      <td>1996-02-02</td>\n",
       "    </tr>\n",
       "    <tr>\n",
       "      <th>4</th>\n",
       "      <td>311037</td>\n",
       "      <td>74</td>\n",
       "      <td>4.0</td>\n",
       "      <td>1996-02-09</td>\n",
       "    </tr>\n",
       "  </tbody>\n",
       "</table>\n",
       "</div>"
      ],
      "text/plain": [
       "   userId  movieId  rating  timestamp\n",
       "0   86847       34     5.0 1996-01-29\n",
       "1  268919       23     2.0 1996-02-01\n",
       "2   25445       52     4.0 1996-02-02\n",
       "3   80271       70     3.0 1996-02-02\n",
       "4  311037       74     4.0 1996-02-09"
      ]
     },
     "execution_count": 71,
     "metadata": {},
     "output_type": "execute_result"
    }
   ],
   "source": [
    "ratings.head()"
   ]
  },
  {
   "cell_type": "markdown",
   "metadata": {},
   "source": [
    "> Nos queda un dataset con formato de fecha de fácil manipulación"
   ]
  },
  {
   "cell_type": "markdown",
   "metadata": {},
   "source": [
    "Vemos el rango de fechas del dataset"
   ]
  },
  {
   "cell_type": "code",
   "execution_count": 72,
   "metadata": {},
   "outputs": [
    {
     "data": {
      "text/plain": [
       "Timestamp('1996-01-29 00:00:00')"
      ]
     },
     "execution_count": 72,
     "metadata": {},
     "output_type": "execute_result"
    }
   ],
   "source": [
    "ratings.timestamp.min()"
   ]
  },
  {
   "cell_type": "code",
   "execution_count": 73,
   "metadata": {},
   "outputs": [
    {
     "data": {
      "text/plain": [
       "Timestamp('2023-07-20 00:00:00')"
      ]
     },
     "execution_count": 73,
     "metadata": {},
     "output_type": "execute_result"
    }
   ],
   "source": [
    "ratings.timestamp.max()"
   ]
  },
  {
   "cell_type": "markdown",
   "metadata": {},
   "source": [
    "> Vemos que el rango de fechas va desde el 29/03/1996 al 24/09/24"
   ]
  },
  {
   "cell_type": "markdown",
   "metadata": {},
   "source": [
    "### Dividimos dataset en train, test y validation\n",
    "Vemos la catidad de ratings por año"
   ]
  },
  {
   "cell_type": "code",
   "execution_count": 74,
   "metadata": {},
   "outputs": [
    {
     "data": {
      "text/html": [
       "<div>\n",
       "<style scoped>\n",
       "    .dataframe tbody tr th:only-of-type {\n",
       "        vertical-align: middle;\n",
       "    }\n",
       "\n",
       "    .dataframe tbody tr th {\n",
       "        vertical-align: top;\n",
       "    }\n",
       "\n",
       "    .dataframe thead th {\n",
       "        text-align: right;\n",
       "    }\n",
       "</style>\n",
       "<table border=\"1\" class=\"dataframe\">\n",
       "  <thead>\n",
       "    <tr style=\"text-align: right;\">\n",
       "      <th></th>\n",
       "      <th>year</th>\n",
       "      <th>reviews_count</th>\n",
       "    </tr>\n",
       "  </thead>\n",
       "  <tbody>\n",
       "    <tr>\n",
       "      <th>0</th>\n",
       "      <td>1996</td>\n",
       "      <td>15406</td>\n",
       "    </tr>\n",
       "    <tr>\n",
       "      <th>1</th>\n",
       "      <td>1997</td>\n",
       "      <td>6824</td>\n",
       "    </tr>\n",
       "    <tr>\n",
       "      <th>2</th>\n",
       "      <td>1998</td>\n",
       "      <td>2927</td>\n",
       "    </tr>\n",
       "    <tr>\n",
       "      <th>3</th>\n",
       "      <td>1999</td>\n",
       "      <td>10944</td>\n",
       "    </tr>\n",
       "    <tr>\n",
       "      <th>4</th>\n",
       "      <td>2000</td>\n",
       "      <td>18405</td>\n",
       "    </tr>\n",
       "    <tr>\n",
       "      <th>5</th>\n",
       "      <td>2001</td>\n",
       "      <td>10987</td>\n",
       "    </tr>\n",
       "    <tr>\n",
       "      <th>6</th>\n",
       "      <td>2002</td>\n",
       "      <td>8038</td>\n",
       "    </tr>\n",
       "    <tr>\n",
       "      <th>7</th>\n",
       "      <td>2003</td>\n",
       "      <td>9622</td>\n",
       "    </tr>\n",
       "    <tr>\n",
       "      <th>8</th>\n",
       "      <td>2004</td>\n",
       "      <td>10693</td>\n",
       "    </tr>\n",
       "    <tr>\n",
       "      <th>9</th>\n",
       "      <td>2005</td>\n",
       "      <td>16230</td>\n",
       "    </tr>\n",
       "    <tr>\n",
       "      <th>10</th>\n",
       "      <td>2006</td>\n",
       "      <td>10581</td>\n",
       "    </tr>\n",
       "    <tr>\n",
       "      <th>11</th>\n",
       "      <td>2007</td>\n",
       "      <td>9765</td>\n",
       "    </tr>\n",
       "    <tr>\n",
       "      <th>12</th>\n",
       "      <td>2008</td>\n",
       "      <td>10587</td>\n",
       "    </tr>\n",
       "    <tr>\n",
       "      <th>13</th>\n",
       "      <td>2009</td>\n",
       "      <td>8742</td>\n",
       "    </tr>\n",
       "    <tr>\n",
       "      <th>14</th>\n",
       "      <td>2010</td>\n",
       "      <td>8559</td>\n",
       "    </tr>\n",
       "    <tr>\n",
       "      <th>15</th>\n",
       "      <td>2011</td>\n",
       "      <td>7121</td>\n",
       "    </tr>\n",
       "    <tr>\n",
       "      <th>16</th>\n",
       "      <td>2012</td>\n",
       "      <td>6931</td>\n",
       "    </tr>\n",
       "    <tr>\n",
       "      <th>17</th>\n",
       "      <td>2013</td>\n",
       "      <td>5451</td>\n",
       "    </tr>\n",
       "    <tr>\n",
       "      <th>18</th>\n",
       "      <td>2014</td>\n",
       "      <td>5097</td>\n",
       "    </tr>\n",
       "    <tr>\n",
       "      <th>19</th>\n",
       "      <td>2015</td>\n",
       "      <td>16411</td>\n",
       "    </tr>\n",
       "    <tr>\n",
       "      <th>20</th>\n",
       "      <td>2016</td>\n",
       "      <td>17918</td>\n",
       "    </tr>\n",
       "    <tr>\n",
       "      <th>21</th>\n",
       "      <td>2017</td>\n",
       "      <td>16571</td>\n",
       "    </tr>\n",
       "    <tr>\n",
       "      <th>22</th>\n",
       "      <td>2018</td>\n",
       "      <td>12816</td>\n",
       "    </tr>\n",
       "    <tr>\n",
       "      <th>23</th>\n",
       "      <td>2019</td>\n",
       "      <td>12904</td>\n",
       "    </tr>\n",
       "    <tr>\n",
       "      <th>24</th>\n",
       "      <td>2020</td>\n",
       "      <td>15463</td>\n",
       "    </tr>\n",
       "  </tbody>\n",
       "</table>\n",
       "</div>"
      ],
      "text/plain": [
       "    year  reviews_count\n",
       "0   1996          15406\n",
       "1   1997           6824\n",
       "2   1998           2927\n",
       "3   1999          10944\n",
       "4   2000          18405\n",
       "5   2001          10987\n",
       "6   2002           8038\n",
       "7   2003           9622\n",
       "8   2004          10693\n",
       "9   2005          16230\n",
       "10  2006          10581\n",
       "11  2007           9765\n",
       "12  2008          10587\n",
       "13  2009           8742\n",
       "14  2010           8559\n",
       "15  2011           7121\n",
       "16  2012           6931\n",
       "17  2013           5451\n",
       "18  2014           5097\n",
       "19  2015          16411\n",
       "20  2016          17918\n",
       "21  2017          16571\n",
       "22  2018          12816\n",
       "23  2019          12904\n",
       "24  2020          15463"
      ]
     },
     "execution_count": 74,
     "metadata": {},
     "output_type": "execute_result"
    }
   ],
   "source": [
    "plot_df = ratings.copy()\n",
    "plot_df[\"year\"] = ratings.timestamp.dt.year\n",
    "plot_df = plot_df.groupby(\"year\", as_index=False).count()[[\"year\", \"userId\"]]\n",
    "plot_df.columns = [\"year\", \"reviews_count\"]\n",
    "plot_df.head(25)"
   ]
  },
  {
   "cell_type": "markdown",
   "metadata": {},
   "source": [
    "> Tomamos una proporción 80/20 para dividir el dataset en train - test"
   ]
  },
  {
   "cell_type": "code",
   "execution_count": 75,
   "metadata": {},
   "outputs": [
    {
     "data": {
      "text/html": [
       "<div>\n",
       "<style scoped>\n",
       "    .dataframe tbody tr th:only-of-type {\n",
       "        vertical-align: middle;\n",
       "    }\n",
       "\n",
       "    .dataframe tbody tr th {\n",
       "        vertical-align: top;\n",
       "    }\n",
       "\n",
       "    .dataframe thead th {\n",
       "        text-align: right;\n",
       "    }\n",
       "</style>\n",
       "<table border=\"1\" class=\"dataframe\">\n",
       "  <thead>\n",
       "    <tr style=\"text-align: right;\">\n",
       "      <th></th>\n",
       "      <th>userId</th>\n",
       "      <th>movieId</th>\n",
       "      <th>rating</th>\n",
       "      <th>timestamp</th>\n",
       "    </tr>\n",
       "  </thead>\n",
       "  <tbody>\n",
       "    <tr>\n",
       "      <th>0</th>\n",
       "      <td>86847</td>\n",
       "      <td>34</td>\n",
       "      <td>5.0</td>\n",
       "      <td>1996-01-29</td>\n",
       "    </tr>\n",
       "    <tr>\n",
       "      <th>1</th>\n",
       "      <td>268919</td>\n",
       "      <td>23</td>\n",
       "      <td>2.0</td>\n",
       "      <td>1996-02-01</td>\n",
       "    </tr>\n",
       "    <tr>\n",
       "      <th>2</th>\n",
       "      <td>25445</td>\n",
       "      <td>52</td>\n",
       "      <td>4.0</td>\n",
       "      <td>1996-02-02</td>\n",
       "    </tr>\n",
       "    <tr>\n",
       "      <th>3</th>\n",
       "      <td>80271</td>\n",
       "      <td>70</td>\n",
       "      <td>3.0</td>\n",
       "      <td>1996-02-02</td>\n",
       "    </tr>\n",
       "    <tr>\n",
       "      <th>4</th>\n",
       "      <td>311037</td>\n",
       "      <td>74</td>\n",
       "      <td>4.0</td>\n",
       "      <td>1996-02-09</td>\n",
       "    </tr>\n",
       "  </tbody>\n",
       "</table>\n",
       "</div>"
      ],
      "text/plain": [
       "   userId  movieId  rating  timestamp\n",
       "0   86847       34     5.0 1996-01-29\n",
       "1  268919       23     2.0 1996-02-01\n",
       "2   25445       52     4.0 1996-02-02\n",
       "3   80271       70     3.0 1996-02-02\n",
       "4  311037       74     4.0 1996-02-09"
      ]
     },
     "execution_count": 75,
     "metadata": {},
     "output_type": "execute_result"
    }
   ],
   "source": [
    "train = ratings[(ratings.timestamp < datetime(year=2017, month=1, day=1))]\n",
    "train.head()"
   ]
  },
  {
   "cell_type": "code",
   "execution_count": 76,
   "metadata": {},
   "outputs": [
    {
     "data": {
      "text/plain": [
       "(217239, 4)"
      ]
     },
     "execution_count": 76,
     "metadata": {},
     "output_type": "execute_result"
    }
   ],
   "source": [
    "train.shape"
   ]
  },
  {
   "cell_type": "markdown",
   "metadata": {},
   "source": [
    "> Dataset de train quedan 217239 interacciones"
   ]
  },
  {
   "cell_type": "code",
   "execution_count": 77,
   "metadata": {},
   "outputs": [
    {
     "data": {
      "text/html": [
       "<div>\n",
       "<style scoped>\n",
       "    .dataframe tbody tr th:only-of-type {\n",
       "        vertical-align: middle;\n",
       "    }\n",
       "\n",
       "    .dataframe tbody tr th {\n",
       "        vertical-align: top;\n",
       "    }\n",
       "\n",
       "    .dataframe thead th {\n",
       "        text-align: right;\n",
       "    }\n",
       "</style>\n",
       "<table border=\"1\" class=\"dataframe\">\n",
       "  <thead>\n",
       "    <tr style=\"text-align: right;\">\n",
       "      <th></th>\n",
       "      <th>userId</th>\n",
       "      <th>movieId</th>\n",
       "      <th>rating</th>\n",
       "      <th>timestamp</th>\n",
       "    </tr>\n",
       "  </thead>\n",
       "  <tbody>\n",
       "    <tr>\n",
       "      <th>217239</th>\n",
       "      <td>291055</td>\n",
       "      <td>5218</td>\n",
       "      <td>4.0</td>\n",
       "      <td>2017-01-01</td>\n",
       "    </tr>\n",
       "    <tr>\n",
       "      <th>217240</th>\n",
       "      <td>291055</td>\n",
       "      <td>135887</td>\n",
       "      <td>4.5</td>\n",
       "      <td>2017-01-01</td>\n",
       "    </tr>\n",
       "    <tr>\n",
       "      <th>217241</th>\n",
       "      <td>291055</td>\n",
       "      <td>7451</td>\n",
       "      <td>2.0</td>\n",
       "      <td>2017-01-01</td>\n",
       "    </tr>\n",
       "    <tr>\n",
       "      <th>217242</th>\n",
       "      <td>291055</td>\n",
       "      <td>5444</td>\n",
       "      <td>2.5</td>\n",
       "      <td>2017-01-01</td>\n",
       "    </tr>\n",
       "    <tr>\n",
       "      <th>217243</th>\n",
       "      <td>178800</td>\n",
       "      <td>40339</td>\n",
       "      <td>2.5</td>\n",
       "      <td>2017-01-01</td>\n",
       "    </tr>\n",
       "  </tbody>\n",
       "</table>\n",
       "</div>"
      ],
      "text/plain": [
       "        userId  movieId  rating  timestamp\n",
       "217239  291055     5218     4.0 2017-01-01\n",
       "217240  291055   135887     4.5 2017-01-01\n",
       "217241  291055     7451     2.0 2017-01-01\n",
       "217242  291055     5444     2.5 2017-01-01\n",
       "217243  178800    40339     2.5 2017-01-01"
      ]
     },
     "execution_count": 77,
     "metadata": {},
     "output_type": "execute_result"
    }
   ],
   "source": [
    "test = ratings[ratings.timestamp >= datetime(year=2017, month=1, day=1)]\n",
    "test.head()"
   ]
  },
  {
   "cell_type": "code",
   "execution_count": 78,
   "metadata": {},
   "outputs": [
    {
     "data": {
      "text/plain": [
       "(82761, 4)"
      ]
     },
     "execution_count": 78,
     "metadata": {},
     "output_type": "execute_result"
    }
   ],
   "source": [
    "test.shape"
   ]
  },
  {
   "cell_type": "code",
   "execution_count": 79,
   "metadata": {},
   "outputs": [
    {
     "data": {
      "text/plain": [
       "30230"
      ]
     },
     "execution_count": 79,
     "metadata": {},
     "output_type": "execute_result"
    }
   ],
   "source": [
    "test.userId.nunique()"
   ]
  },
  {
   "cell_type": "markdown",
   "metadata": {},
   "source": [
    "> El dataset de test tiene 30230 ususarios."
   ]
  },
  {
   "cell_type": "code",
   "execution_count": 80,
   "metadata": {},
   "outputs": [
    {
     "data": {
      "text/plain": [
       "11954"
      ]
     },
     "execution_count": 80,
     "metadata": {},
     "output_type": "execute_result"
    }
   ],
   "source": [
    "test.movieId.nunique()"
   ]
  },
  {
   "cell_type": "markdown",
   "metadata": {},
   "source": [
    "> el dataset test contiene ratings de 11954 peliculas."
   ]
  },
  {
   "cell_type": "code",
   "execution_count": 81,
   "metadata": {},
   "outputs": [
    {
     "data": {
      "text/html": [
       "<div>\n",
       "<style scoped>\n",
       "    .dataframe tbody tr th:only-of-type {\n",
       "        vertical-align: middle;\n",
       "    }\n",
       "\n",
       "    .dataframe tbody tr th {\n",
       "        vertical-align: top;\n",
       "    }\n",
       "\n",
       "    .dataframe thead th {\n",
       "        text-align: right;\n",
       "    }\n",
       "</style>\n",
       "<table border=\"1\" class=\"dataframe\">\n",
       "  <thead>\n",
       "    <tr style=\"text-align: right;\">\n",
       "      <th></th>\n",
       "      <th>year</th>\n",
       "      <th>reviews_count</th>\n",
       "    </tr>\n",
       "  </thead>\n",
       "  <tbody>\n",
       "    <tr>\n",
       "      <th>0</th>\n",
       "      <td>1996</td>\n",
       "      <td>15406</td>\n",
       "    </tr>\n",
       "    <tr>\n",
       "      <th>1</th>\n",
       "      <td>1997</td>\n",
       "      <td>6824</td>\n",
       "    </tr>\n",
       "    <tr>\n",
       "      <th>2</th>\n",
       "      <td>1998</td>\n",
       "      <td>2927</td>\n",
       "    </tr>\n",
       "    <tr>\n",
       "      <th>3</th>\n",
       "      <td>1999</td>\n",
       "      <td>10944</td>\n",
       "    </tr>\n",
       "    <tr>\n",
       "      <th>4</th>\n",
       "      <td>2000</td>\n",
       "      <td>18405</td>\n",
       "    </tr>\n",
       "    <tr>\n",
       "      <th>5</th>\n",
       "      <td>2001</td>\n",
       "      <td>10987</td>\n",
       "    </tr>\n",
       "    <tr>\n",
       "      <th>6</th>\n",
       "      <td>2002</td>\n",
       "      <td>8038</td>\n",
       "    </tr>\n",
       "    <tr>\n",
       "      <th>7</th>\n",
       "      <td>2003</td>\n",
       "      <td>9622</td>\n",
       "    </tr>\n",
       "    <tr>\n",
       "      <th>8</th>\n",
       "      <td>2004</td>\n",
       "      <td>10693</td>\n",
       "    </tr>\n",
       "    <tr>\n",
       "      <th>9</th>\n",
       "      <td>2005</td>\n",
       "      <td>16230</td>\n",
       "    </tr>\n",
       "    <tr>\n",
       "      <th>10</th>\n",
       "      <td>2006</td>\n",
       "      <td>10581</td>\n",
       "    </tr>\n",
       "    <tr>\n",
       "      <th>11</th>\n",
       "      <td>2007</td>\n",
       "      <td>9765</td>\n",
       "    </tr>\n",
       "    <tr>\n",
       "      <th>12</th>\n",
       "      <td>2008</td>\n",
       "      <td>10587</td>\n",
       "    </tr>\n",
       "    <tr>\n",
       "      <th>13</th>\n",
       "      <td>2009</td>\n",
       "      <td>8742</td>\n",
       "    </tr>\n",
       "    <tr>\n",
       "      <th>14</th>\n",
       "      <td>2010</td>\n",
       "      <td>8559</td>\n",
       "    </tr>\n",
       "    <tr>\n",
       "      <th>15</th>\n",
       "      <td>2011</td>\n",
       "      <td>7121</td>\n",
       "    </tr>\n",
       "    <tr>\n",
       "      <th>16</th>\n",
       "      <td>2012</td>\n",
       "      <td>6931</td>\n",
       "    </tr>\n",
       "    <tr>\n",
       "      <th>17</th>\n",
       "      <td>2013</td>\n",
       "      <td>5451</td>\n",
       "    </tr>\n",
       "    <tr>\n",
       "      <th>18</th>\n",
       "      <td>2014</td>\n",
       "      <td>5097</td>\n",
       "    </tr>\n",
       "    <tr>\n",
       "      <th>19</th>\n",
       "      <td>2015</td>\n",
       "      <td>16411</td>\n",
       "    </tr>\n",
       "    <tr>\n",
       "      <th>20</th>\n",
       "      <td>2016</td>\n",
       "      <td>17918</td>\n",
       "    </tr>\n",
       "  </tbody>\n",
       "</table>\n",
       "</div>"
      ],
      "text/plain": [
       "    year  reviews_count\n",
       "0   1996          15406\n",
       "1   1997           6824\n",
       "2   1998           2927\n",
       "3   1999          10944\n",
       "4   2000          18405\n",
       "5   2001          10987\n",
       "6   2002           8038\n",
       "7   2003           9622\n",
       "8   2004          10693\n",
       "9   2005          16230\n",
       "10  2006          10581\n",
       "11  2007           9765\n",
       "12  2008          10587\n",
       "13  2009           8742\n",
       "14  2010           8559\n",
       "15  2011           7121\n",
       "16  2012           6931\n",
       "17  2013           5451\n",
       "18  2014           5097\n",
       "19  2015          16411\n",
       "20  2016          17918"
      ]
     },
     "execution_count": 81,
     "metadata": {},
     "output_type": "execute_result"
    }
   ],
   "source": [
    "plot_df = train.copy()\n",
    "plot_df[\"year\"] = train.timestamp.dt.year\n",
    "plot_df = plot_df.groupby(\"year\", as_index=False).count()[[\"year\", \"userId\"]]\n",
    "plot_df.columns = [\"year\", \"reviews_count\"]\n",
    "plot_df.head(25)"
   ]
  },
  {
   "cell_type": "markdown",
   "metadata": {},
   "source": [
    "> Definimos el conjunto de validación, en función de nuestro conjunto de entrenamiento. Con cantidad 90/10."
   ]
  },
  {
   "cell_type": "code",
   "execution_count": 82,
   "metadata": {},
   "outputs": [
    {
     "data": {
      "text/html": [
       "<div>\n",
       "<style scoped>\n",
       "    .dataframe tbody tr th:only-of-type {\n",
       "        vertical-align: middle;\n",
       "    }\n",
       "\n",
       "    .dataframe tbody tr th {\n",
       "        vertical-align: top;\n",
       "    }\n",
       "\n",
       "    .dataframe thead th {\n",
       "        text-align: right;\n",
       "    }\n",
       "</style>\n",
       "<table border=\"1\" class=\"dataframe\">\n",
       "  <thead>\n",
       "    <tr style=\"text-align: right;\">\n",
       "      <th></th>\n",
       "      <th>userId</th>\n",
       "      <th>movieId</th>\n",
       "      <th>rating</th>\n",
       "      <th>timestamp</th>\n",
       "    </tr>\n",
       "  </thead>\n",
       "  <tbody>\n",
       "    <tr>\n",
       "      <th>182910</th>\n",
       "      <td>201998</td>\n",
       "      <td>4701</td>\n",
       "      <td>3.5</td>\n",
       "      <td>2015-01-01</td>\n",
       "    </tr>\n",
       "    <tr>\n",
       "      <th>182911</th>\n",
       "      <td>61766</td>\n",
       "      <td>63859</td>\n",
       "      <td>3.0</td>\n",
       "      <td>2015-01-01</td>\n",
       "    </tr>\n",
       "    <tr>\n",
       "      <th>182912</th>\n",
       "      <td>61766</td>\n",
       "      <td>74685</td>\n",
       "      <td>0.5</td>\n",
       "      <td>2015-01-01</td>\n",
       "    </tr>\n",
       "    <tr>\n",
       "      <th>182913</th>\n",
       "      <td>215460</td>\n",
       "      <td>5218</td>\n",
       "      <td>2.5</td>\n",
       "      <td>2015-01-01</td>\n",
       "    </tr>\n",
       "    <tr>\n",
       "      <th>182914</th>\n",
       "      <td>188012</td>\n",
       "      <td>112552</td>\n",
       "      <td>5.0</td>\n",
       "      <td>2015-01-01</td>\n",
       "    </tr>\n",
       "  </tbody>\n",
       "</table>\n",
       "</div>"
      ],
      "text/plain": [
       "        userId  movieId  rating  timestamp\n",
       "182910  201998     4701     3.5 2015-01-01\n",
       "182911   61766    63859     3.0 2015-01-01\n",
       "182912   61766    74685     0.5 2015-01-01\n",
       "182913  215460     5218     2.5 2015-01-01\n",
       "182914  188012   112552     5.0 2015-01-01"
      ]
     },
     "execution_count": 82,
     "metadata": {},
     "output_type": "execute_result"
    }
   ],
   "source": [
    "validation = train[train.timestamp >= datetime(year=2015, month=1, day=1)]\n",
    "validation.head()"
   ]
  },
  {
   "cell_type": "code",
   "execution_count": 83,
   "metadata": {},
   "outputs": [
    {
     "data": {
      "text/plain": [
       "(34329, 4)"
      ]
     },
     "execution_count": 83,
     "metadata": {},
     "output_type": "execute_result"
    }
   ],
   "source": [
    "validation.shape"
   ]
  },
  {
   "cell_type": "code",
   "execution_count": 84,
   "metadata": {},
   "outputs": [
    {
     "data": {
      "text/plain": [
       "14731"
      ]
     },
     "execution_count": 84,
     "metadata": {},
     "output_type": "execute_result"
    }
   ],
   "source": [
    "validation.userId.nunique()"
   ]
  },
  {
   "cell_type": "markdown",
   "metadata": {},
   "source": [
    "> El dataset de validacion tiene 14731 ususarios."
   ]
  },
  {
   "cell_type": "code",
   "execution_count": 85,
   "metadata": {},
   "outputs": [
    {
     "data": {
      "text/plain": [
       "6010"
      ]
     },
     "execution_count": 85,
     "metadata": {},
     "output_type": "execute_result"
    }
   ],
   "source": [
    "validation.movieId.nunique()"
   ]
  },
  {
   "cell_type": "markdown",
   "metadata": {},
   "source": [
    "> el dataset validación contiene ratings de 6010 peliculas."
   ]
  },
  {
   "cell_type": "code",
   "execution_count": 86,
   "metadata": {},
   "outputs": [
    {
     "data": {
      "text/html": [
       "<div>\n",
       "<style scoped>\n",
       "    .dataframe tbody tr th:only-of-type {\n",
       "        vertical-align: middle;\n",
       "    }\n",
       "\n",
       "    .dataframe tbody tr th {\n",
       "        vertical-align: top;\n",
       "    }\n",
       "\n",
       "    .dataframe thead th {\n",
       "        text-align: right;\n",
       "    }\n",
       "</style>\n",
       "<table border=\"1\" class=\"dataframe\">\n",
       "  <thead>\n",
       "    <tr style=\"text-align: right;\">\n",
       "      <th></th>\n",
       "      <th>year</th>\n",
       "      <th>reviews_count</th>\n",
       "    </tr>\n",
       "  </thead>\n",
       "  <tbody>\n",
       "    <tr>\n",
       "      <th>0</th>\n",
       "      <td>2015</td>\n",
       "      <td>16411</td>\n",
       "    </tr>\n",
       "    <tr>\n",
       "      <th>1</th>\n",
       "      <td>2016</td>\n",
       "      <td>17918</td>\n",
       "    </tr>\n",
       "  </tbody>\n",
       "</table>\n",
       "</div>"
      ],
      "text/plain": [
       "   year  reviews_count\n",
       "0  2015          16411\n",
       "1  2016          17918"
      ]
     },
     "execution_count": 86,
     "metadata": {},
     "output_type": "execute_result"
    }
   ],
   "source": [
    "plot_df = validation.copy()\n",
    "plot_df[\"year\"] = validation.timestamp.dt.year\n",
    "plot_df = plot_df.groupby(\"year\", as_index=False).count()[[\"year\", \"userId\"]]\n",
    "plot_df.columns = [\"year\", \"reviews_count\"]\n",
    "plot_df.head(25)"
   ]
  },
  {
   "cell_type": "markdown",
   "metadata": {},
   "source": [
    "Redefinimos el conjunto de entrenamiento."
   ]
  },
  {
   "cell_type": "code",
   "execution_count": 87,
   "metadata": {},
   "outputs": [
    {
     "data": {
      "text/html": [
       "<div>\n",
       "<style scoped>\n",
       "    .dataframe tbody tr th:only-of-type {\n",
       "        vertical-align: middle;\n",
       "    }\n",
       "\n",
       "    .dataframe tbody tr th {\n",
       "        vertical-align: top;\n",
       "    }\n",
       "\n",
       "    .dataframe thead th {\n",
       "        text-align: right;\n",
       "    }\n",
       "</style>\n",
       "<table border=\"1\" class=\"dataframe\">\n",
       "  <thead>\n",
       "    <tr style=\"text-align: right;\">\n",
       "      <th></th>\n",
       "      <th>userId</th>\n",
       "      <th>movieId</th>\n",
       "      <th>rating</th>\n",
       "      <th>timestamp</th>\n",
       "    </tr>\n",
       "  </thead>\n",
       "  <tbody>\n",
       "    <tr>\n",
       "      <th>0</th>\n",
       "      <td>86847</td>\n",
       "      <td>34</td>\n",
       "      <td>5.0</td>\n",
       "      <td>1996-01-29</td>\n",
       "    </tr>\n",
       "    <tr>\n",
       "      <th>1</th>\n",
       "      <td>268919</td>\n",
       "      <td>23</td>\n",
       "      <td>2.0</td>\n",
       "      <td>1996-02-01</td>\n",
       "    </tr>\n",
       "    <tr>\n",
       "      <th>2</th>\n",
       "      <td>25445</td>\n",
       "      <td>52</td>\n",
       "      <td>4.0</td>\n",
       "      <td>1996-02-02</td>\n",
       "    </tr>\n",
       "    <tr>\n",
       "      <th>3</th>\n",
       "      <td>80271</td>\n",
       "      <td>70</td>\n",
       "      <td>3.0</td>\n",
       "      <td>1996-02-02</td>\n",
       "    </tr>\n",
       "    <tr>\n",
       "      <th>4</th>\n",
       "      <td>311037</td>\n",
       "      <td>74</td>\n",
       "      <td>4.0</td>\n",
       "      <td>1996-02-09</td>\n",
       "    </tr>\n",
       "  </tbody>\n",
       "</table>\n",
       "</div>"
      ],
      "text/plain": [
       "   userId  movieId  rating  timestamp\n",
       "0   86847       34     5.0 1996-01-29\n",
       "1  268919       23     2.0 1996-02-01\n",
       "2   25445       52     4.0 1996-02-02\n",
       "3   80271       70     3.0 1996-02-02\n",
       "4  311037       74     4.0 1996-02-09"
      ]
     },
     "execution_count": 87,
     "metadata": {},
     "output_type": "execute_result"
    }
   ],
   "source": [
    "train = train[(train.timestamp < datetime(year=2015, month=1, day=1))]\n",
    "train.head()"
   ]
  },
  {
   "cell_type": "code",
   "execution_count": 88,
   "metadata": {},
   "outputs": [
    {
     "data": {
      "text/html": [
       "<div>\n",
       "<style scoped>\n",
       "    .dataframe tbody tr th:only-of-type {\n",
       "        vertical-align: middle;\n",
       "    }\n",
       "\n",
       "    .dataframe tbody tr th {\n",
       "        vertical-align: top;\n",
       "    }\n",
       "\n",
       "    .dataframe thead th {\n",
       "        text-align: right;\n",
       "    }\n",
       "</style>\n",
       "<table border=\"1\" class=\"dataframe\">\n",
       "  <thead>\n",
       "    <tr style=\"text-align: right;\">\n",
       "      <th></th>\n",
       "      <th>year</th>\n",
       "      <th>reviews_count</th>\n",
       "    </tr>\n",
       "  </thead>\n",
       "  <tbody>\n",
       "    <tr>\n",
       "      <th>0</th>\n",
       "      <td>1996</td>\n",
       "      <td>15406</td>\n",
       "    </tr>\n",
       "    <tr>\n",
       "      <th>1</th>\n",
       "      <td>1997</td>\n",
       "      <td>6824</td>\n",
       "    </tr>\n",
       "    <tr>\n",
       "      <th>2</th>\n",
       "      <td>1998</td>\n",
       "      <td>2927</td>\n",
       "    </tr>\n",
       "    <tr>\n",
       "      <th>3</th>\n",
       "      <td>1999</td>\n",
       "      <td>10944</td>\n",
       "    </tr>\n",
       "    <tr>\n",
       "      <th>4</th>\n",
       "      <td>2000</td>\n",
       "      <td>18405</td>\n",
       "    </tr>\n",
       "    <tr>\n",
       "      <th>5</th>\n",
       "      <td>2001</td>\n",
       "      <td>10987</td>\n",
       "    </tr>\n",
       "    <tr>\n",
       "      <th>6</th>\n",
       "      <td>2002</td>\n",
       "      <td>8038</td>\n",
       "    </tr>\n",
       "    <tr>\n",
       "      <th>7</th>\n",
       "      <td>2003</td>\n",
       "      <td>9622</td>\n",
       "    </tr>\n",
       "    <tr>\n",
       "      <th>8</th>\n",
       "      <td>2004</td>\n",
       "      <td>10693</td>\n",
       "    </tr>\n",
       "    <tr>\n",
       "      <th>9</th>\n",
       "      <td>2005</td>\n",
       "      <td>16230</td>\n",
       "    </tr>\n",
       "    <tr>\n",
       "      <th>10</th>\n",
       "      <td>2006</td>\n",
       "      <td>10581</td>\n",
       "    </tr>\n",
       "    <tr>\n",
       "      <th>11</th>\n",
       "      <td>2007</td>\n",
       "      <td>9765</td>\n",
       "    </tr>\n",
       "    <tr>\n",
       "      <th>12</th>\n",
       "      <td>2008</td>\n",
       "      <td>10587</td>\n",
       "    </tr>\n",
       "    <tr>\n",
       "      <th>13</th>\n",
       "      <td>2009</td>\n",
       "      <td>8742</td>\n",
       "    </tr>\n",
       "    <tr>\n",
       "      <th>14</th>\n",
       "      <td>2010</td>\n",
       "      <td>8559</td>\n",
       "    </tr>\n",
       "    <tr>\n",
       "      <th>15</th>\n",
       "      <td>2011</td>\n",
       "      <td>7121</td>\n",
       "    </tr>\n",
       "    <tr>\n",
       "      <th>16</th>\n",
       "      <td>2012</td>\n",
       "      <td>6931</td>\n",
       "    </tr>\n",
       "    <tr>\n",
       "      <th>17</th>\n",
       "      <td>2013</td>\n",
       "      <td>5451</td>\n",
       "    </tr>\n",
       "    <tr>\n",
       "      <th>18</th>\n",
       "      <td>2014</td>\n",
       "      <td>5097</td>\n",
       "    </tr>\n",
       "  </tbody>\n",
       "</table>\n",
       "</div>"
      ],
      "text/plain": [
       "    year  reviews_count\n",
       "0   1996          15406\n",
       "1   1997           6824\n",
       "2   1998           2927\n",
       "3   1999          10944\n",
       "4   2000          18405\n",
       "5   2001          10987\n",
       "6   2002           8038\n",
       "7   2003           9622\n",
       "8   2004          10693\n",
       "9   2005          16230\n",
       "10  2006          10581\n",
       "11  2007           9765\n",
       "12  2008          10587\n",
       "13  2009           8742\n",
       "14  2010           8559\n",
       "15  2011           7121\n",
       "16  2012           6931\n",
       "17  2013           5451\n",
       "18  2014           5097"
      ]
     },
     "execution_count": 88,
     "metadata": {},
     "output_type": "execute_result"
    }
   ],
   "source": [
    "plot_df = train.copy()\n",
    "plot_df[\"year\"] = train.timestamp.dt.year\n",
    "plot_df = plot_df.groupby(\"year\", as_index=False).count()[[\"year\", \"userId\"]]\n",
    "plot_df.columns = [\"year\", \"reviews_count\"]\n",
    "plot_df.head(25)"
   ]
  },
  {
   "cell_type": "code",
   "execution_count": 89,
   "metadata": {},
   "outputs": [
    {
     "data": {
      "text/plain": [
       "(182910, 4)"
      ]
     },
     "execution_count": 89,
     "metadata": {},
     "output_type": "execute_result"
    }
   ],
   "source": [
    "train.shape"
   ]
  },
  {
   "cell_type": "code",
   "execution_count": 90,
   "metadata": {},
   "outputs": [
    {
     "data": {
      "text/plain": [
       "78748"
      ]
     },
     "execution_count": 90,
     "metadata": {},
     "output_type": "execute_result"
    }
   ],
   "source": [
    "train.userId.nunique()"
   ]
  },
  {
   "cell_type": "markdown",
   "metadata": {},
   "source": [
    "> El dataset train tiene 78748 ususarios."
   ]
  },
  {
   "cell_type": "code",
   "execution_count": 91,
   "metadata": {},
   "outputs": [
    {
     "data": {
      "text/plain": [
       "9542"
      ]
     },
     "execution_count": 91,
     "metadata": {},
     "output_type": "execute_result"
    }
   ],
   "source": [
    "train.movieId.nunique()"
   ]
  },
  {
   "cell_type": "markdown",
   "metadata": {},
   "source": [
    "> el dataset train contiene ratings de 9542 peliculas."
   ]
  },
  {
   "cell_type": "markdown",
   "metadata": {},
   "source": [
    "> La matriz resultante deberá tener 78748 filas representando a los usuarios, y 9542 columnas representando las películas"
   ]
  },
  {
   "cell_type": "markdown",
   "metadata": {},
   "source": [
    "### CooldStart\n",
    "Analizamos los casos de coldstart en cada dataset"
   ]
  },
  {
   "cell_type": "code",
   "execution_count": 92,
   "metadata": {},
   "outputs": [
    {
     "data": {
      "text/plain": [
       "28749"
      ]
     },
     "execution_count": 92,
     "metadata": {},
     "output_type": "execute_result"
    }
   ],
   "source": [
    "test[~test.userId.isin(train.userId.unique())].userId.nunique()"
   ]
  },
  {
   "cell_type": "markdown",
   "metadata": {},
   "source": [
    "> Tenemos 28749 Usuarios que se encuentra en el dataset de test y no en el de train."
   ]
  },
  {
   "cell_type": "code",
   "execution_count": 93,
   "metadata": {},
   "outputs": [
    {
     "data": {
      "text/plain": [
       "13275"
      ]
     },
     "execution_count": 93,
     "metadata": {},
     "output_type": "execute_result"
    }
   ],
   "source": [
    "validation[~validation.userId.isin(train.userId.unique())].userId.nunique()"
   ]
  },
  {
   "cell_type": "markdown",
   "metadata": {},
   "source": [
    "> Tenemos 13275 Usuarios que se encuentra en el dataset de validation y no en el de train."
   ]
  },
  {
   "cell_type": "markdown",
   "metadata": {},
   "source": [
    "### Matriz de Interacciones\n",
    "Para el armado de la matriz de interaccion nos quedamos con las columnas que vamos a usar"
   ]
  },
  {
   "cell_type": "code",
   "execution_count": 94,
   "metadata": {},
   "outputs": [
    {
     "data": {
      "text/html": [
       "<div>\n",
       "<style scoped>\n",
       "    .dataframe tbody tr th:only-of-type {\n",
       "        vertical-align: middle;\n",
       "    }\n",
       "\n",
       "    .dataframe tbody tr th {\n",
       "        vertical-align: top;\n",
       "    }\n",
       "\n",
       "    .dataframe thead th {\n",
       "        text-align: right;\n",
       "    }\n",
       "</style>\n",
       "<table border=\"1\" class=\"dataframe\">\n",
       "  <thead>\n",
       "    <tr style=\"text-align: right;\">\n",
       "      <th></th>\n",
       "      <th>userId</th>\n",
       "      <th>movieId</th>\n",
       "      <th>rating</th>\n",
       "    </tr>\n",
       "  </thead>\n",
       "  <tbody>\n",
       "    <tr>\n",
       "      <th>0</th>\n",
       "      <td>86847</td>\n",
       "      <td>34</td>\n",
       "      <td>5.0</td>\n",
       "    </tr>\n",
       "    <tr>\n",
       "      <th>1</th>\n",
       "      <td>268919</td>\n",
       "      <td>23</td>\n",
       "      <td>2.0</td>\n",
       "    </tr>\n",
       "    <tr>\n",
       "      <th>2</th>\n",
       "      <td>25445</td>\n",
       "      <td>52</td>\n",
       "      <td>4.0</td>\n",
       "    </tr>\n",
       "    <tr>\n",
       "      <th>3</th>\n",
       "      <td>80271</td>\n",
       "      <td>70</td>\n",
       "      <td>3.0</td>\n",
       "    </tr>\n",
       "    <tr>\n",
       "      <th>4</th>\n",
       "      <td>311037</td>\n",
       "      <td>74</td>\n",
       "      <td>4.0</td>\n",
       "    </tr>\n",
       "  </tbody>\n",
       "</table>\n",
       "</div>"
      ],
      "text/plain": [
       "   userId  movieId  rating\n",
       "0   86847       34     5.0\n",
       "1  268919       23     2.0\n",
       "2   25445       52     4.0\n",
       "3   80271       70     3.0\n",
       "4  311037       74     4.0"
      ]
     },
     "execution_count": 94,
     "metadata": {},
     "output_type": "execute_result"
    }
   ],
   "source": [
    "interactions_train = train[[\"userId\", \"movieId\", \"rating\"]].copy()\n",
    "interactions_train.head()"
   ]
  },
  {
   "cell_type": "markdown",
   "metadata": {},
   "source": [
    "Armamos la matriz con metodo pivot de pandas"
   ]
  },
  {
   "cell_type": "code",
   "execution_count": 95,
   "metadata": {},
   "outputs": [],
   "source": [
    "interactions_matrix = interactions_train.pivot(index=\"userId\", columns=\"movieId\", values=\"rating\")"
   ]
  },
  {
   "cell_type": "code",
   "execution_count": 96,
   "metadata": {},
   "outputs": [
    {
     "data": {
      "text/html": [
       "<div>\n",
       "<style scoped>\n",
       "    .dataframe tbody tr th:only-of-type {\n",
       "        vertical-align: middle;\n",
       "    }\n",
       "\n",
       "    .dataframe tbody tr th {\n",
       "        vertical-align: top;\n",
       "    }\n",
       "\n",
       "    .dataframe thead th {\n",
       "        text-align: right;\n",
       "    }\n",
       "</style>\n",
       "<table border=\"1\" class=\"dataframe\">\n",
       "  <thead>\n",
       "    <tr style=\"text-align: right;\">\n",
       "      <th>movieId</th>\n",
       "      <th>1</th>\n",
       "      <th>2</th>\n",
       "      <th>3</th>\n",
       "      <th>4</th>\n",
       "      <th>5</th>\n",
       "      <th>6</th>\n",
       "      <th>7</th>\n",
       "      <th>8</th>\n",
       "      <th>9</th>\n",
       "      <th>10</th>\n",
       "      <th>...</th>\n",
       "      <th>117865</th>\n",
       "      <th>118101</th>\n",
       "      <th>118198</th>\n",
       "      <th>118344</th>\n",
       "      <th>118492</th>\n",
       "      <th>118696</th>\n",
       "      <th>118866</th>\n",
       "      <th>119141</th>\n",
       "      <th>119804</th>\n",
       "      <th>120128</th>\n",
       "    </tr>\n",
       "    <tr>\n",
       "      <th>userId</th>\n",
       "      <th></th>\n",
       "      <th></th>\n",
       "      <th></th>\n",
       "      <th></th>\n",
       "      <th></th>\n",
       "      <th></th>\n",
       "      <th></th>\n",
       "      <th></th>\n",
       "      <th></th>\n",
       "      <th></th>\n",
       "      <th></th>\n",
       "      <th></th>\n",
       "      <th></th>\n",
       "      <th></th>\n",
       "      <th></th>\n",
       "      <th></th>\n",
       "      <th></th>\n",
       "      <th></th>\n",
       "      <th></th>\n",
       "      <th></th>\n",
       "      <th></th>\n",
       "    </tr>\n",
       "  </thead>\n",
       "  <tbody>\n",
       "    <tr>\n",
       "      <th>6</th>\n",
       "      <td>NaN</td>\n",
       "      <td>NaN</td>\n",
       "      <td>NaN</td>\n",
       "      <td>NaN</td>\n",
       "      <td>NaN</td>\n",
       "      <td>NaN</td>\n",
       "      <td>NaN</td>\n",
       "      <td>NaN</td>\n",
       "      <td>NaN</td>\n",
       "      <td>NaN</td>\n",
       "      <td>...</td>\n",
       "      <td>NaN</td>\n",
       "      <td>NaN</td>\n",
       "      <td>NaN</td>\n",
       "      <td>NaN</td>\n",
       "      <td>NaN</td>\n",
       "      <td>NaN</td>\n",
       "      <td>NaN</td>\n",
       "      <td>NaN</td>\n",
       "      <td>NaN</td>\n",
       "      <td>NaN</td>\n",
       "    </tr>\n",
       "    <tr>\n",
       "      <th>7</th>\n",
       "      <td>NaN</td>\n",
       "      <td>NaN</td>\n",
       "      <td>NaN</td>\n",
       "      <td>NaN</td>\n",
       "      <td>NaN</td>\n",
       "      <td>NaN</td>\n",
       "      <td>NaN</td>\n",
       "      <td>NaN</td>\n",
       "      <td>NaN</td>\n",
       "      <td>NaN</td>\n",
       "      <td>...</td>\n",
       "      <td>NaN</td>\n",
       "      <td>NaN</td>\n",
       "      <td>NaN</td>\n",
       "      <td>NaN</td>\n",
       "      <td>NaN</td>\n",
       "      <td>NaN</td>\n",
       "      <td>NaN</td>\n",
       "      <td>NaN</td>\n",
       "      <td>NaN</td>\n",
       "      <td>NaN</td>\n",
       "    </tr>\n",
       "    <tr>\n",
       "      <th>14</th>\n",
       "      <td>NaN</td>\n",
       "      <td>NaN</td>\n",
       "      <td>NaN</td>\n",
       "      <td>NaN</td>\n",
       "      <td>NaN</td>\n",
       "      <td>NaN</td>\n",
       "      <td>NaN</td>\n",
       "      <td>NaN</td>\n",
       "      <td>NaN</td>\n",
       "      <td>NaN</td>\n",
       "      <td>...</td>\n",
       "      <td>NaN</td>\n",
       "      <td>NaN</td>\n",
       "      <td>NaN</td>\n",
       "      <td>NaN</td>\n",
       "      <td>NaN</td>\n",
       "      <td>NaN</td>\n",
       "      <td>NaN</td>\n",
       "      <td>NaN</td>\n",
       "      <td>NaN</td>\n",
       "      <td>NaN</td>\n",
       "    </tr>\n",
       "    <tr>\n",
       "      <th>21</th>\n",
       "      <td>NaN</td>\n",
       "      <td>NaN</td>\n",
       "      <td>NaN</td>\n",
       "      <td>NaN</td>\n",
       "      <td>NaN</td>\n",
       "      <td>NaN</td>\n",
       "      <td>NaN</td>\n",
       "      <td>NaN</td>\n",
       "      <td>NaN</td>\n",
       "      <td>NaN</td>\n",
       "      <td>...</td>\n",
       "      <td>NaN</td>\n",
       "      <td>NaN</td>\n",
       "      <td>NaN</td>\n",
       "      <td>NaN</td>\n",
       "      <td>NaN</td>\n",
       "      <td>NaN</td>\n",
       "      <td>NaN</td>\n",
       "      <td>NaN</td>\n",
       "      <td>NaN</td>\n",
       "      <td>NaN</td>\n",
       "    </tr>\n",
       "    <tr>\n",
       "      <th>24</th>\n",
       "      <td>NaN</td>\n",
       "      <td>NaN</td>\n",
       "      <td>NaN</td>\n",
       "      <td>NaN</td>\n",
       "      <td>NaN</td>\n",
       "      <td>NaN</td>\n",
       "      <td>NaN</td>\n",
       "      <td>NaN</td>\n",
       "      <td>NaN</td>\n",
       "      <td>NaN</td>\n",
       "      <td>...</td>\n",
       "      <td>NaN</td>\n",
       "      <td>NaN</td>\n",
       "      <td>NaN</td>\n",
       "      <td>NaN</td>\n",
       "      <td>NaN</td>\n",
       "      <td>NaN</td>\n",
       "      <td>NaN</td>\n",
       "      <td>NaN</td>\n",
       "      <td>NaN</td>\n",
       "      <td>NaN</td>\n",
       "    </tr>\n",
       "  </tbody>\n",
       "</table>\n",
       "<p>5 rows × 9542 columns</p>\n",
       "</div>"
      ],
      "text/plain": [
       "movieId  1       2       3       4       5       6       7       8       \\\n",
       "userId                                                                    \n",
       "6           NaN     NaN     NaN     NaN     NaN     NaN     NaN     NaN   \n",
       "7           NaN     NaN     NaN     NaN     NaN     NaN     NaN     NaN   \n",
       "14          NaN     NaN     NaN     NaN     NaN     NaN     NaN     NaN   \n",
       "21          NaN     NaN     NaN     NaN     NaN     NaN     NaN     NaN   \n",
       "24          NaN     NaN     NaN     NaN     NaN     NaN     NaN     NaN   \n",
       "\n",
       "movieId  9       10      ...  117865  118101  118198  118344  118492  118696  \\\n",
       "userId                   ...                                                   \n",
       "6           NaN     NaN  ...     NaN     NaN     NaN     NaN     NaN     NaN   \n",
       "7           NaN     NaN  ...     NaN     NaN     NaN     NaN     NaN     NaN   \n",
       "14          NaN     NaN  ...     NaN     NaN     NaN     NaN     NaN     NaN   \n",
       "21          NaN     NaN  ...     NaN     NaN     NaN     NaN     NaN     NaN   \n",
       "24          NaN     NaN  ...     NaN     NaN     NaN     NaN     NaN     NaN   \n",
       "\n",
       "movieId  118866  119141  119804  120128  \n",
       "userId                                   \n",
       "6           NaN     NaN     NaN     NaN  \n",
       "7           NaN     NaN     NaN     NaN  \n",
       "14          NaN     NaN     NaN     NaN  \n",
       "21          NaN     NaN     NaN     NaN  \n",
       "24          NaN     NaN     NaN     NaN  \n",
       "\n",
       "[5 rows x 9542 columns]"
      ]
     },
     "execution_count": 96,
     "metadata": {},
     "output_type": "execute_result"
    }
   ],
   "source": [
    "interactions_matrix.head()"
   ]
  },
  {
   "cell_type": "markdown",
   "metadata": {},
   "source": [
    "Completamos los valores nulos cons 0"
   ]
  },
  {
   "cell_type": "code",
   "execution_count": 97,
   "metadata": {},
   "outputs": [
    {
     "ename": "MemoryError",
     "evalue": "Unable to allocate 5.60 GiB for an array with shape (78748, 9542) and data type float64",
     "output_type": "error",
     "traceback": [
      "\u001b[1;31m---------------------------------------------------------------------------\u001b[0m",
      "\u001b[1;31mMemoryError\u001b[0m                               Traceback (most recent call last)",
      "\u001b[1;32m~\\AppData\\Local\\Temp\\ipykernel_29172\\1095024481.py\u001b[0m in \u001b[0;36m<cell line: 0>\u001b[1;34m()\u001b[0m\n\u001b[1;32m----> 1\u001b[1;33m \u001b[0minteractions_matrix\u001b[0m \u001b[1;33m=\u001b[0m \u001b[0minteractions_matrix\u001b[0m\u001b[1;33m.\u001b[0m\u001b[0mfillna\u001b[0m\u001b[1;33m(\u001b[0m\u001b[1;36m0\u001b[0m\u001b[1;33m)\u001b[0m\u001b[1;33m\u001b[0m\u001b[1;33m\u001b[0m\u001b[0m\n\u001b[0m",
      "\u001b[1;32mc:\\Users\\pbajo\\AppData\\Local\\Programs\\Python\\Python311\\Lib\\site-packages\\pandas\\util\\_decorators.py\u001b[0m in \u001b[0;36mwrapper\u001b[1;34m(*args, **kwargs)\u001b[0m\n\u001b[0;32m    329\u001b[0m                     \u001b[0mstacklevel\u001b[0m\u001b[1;33m=\u001b[0m\u001b[0mfind_stack_level\u001b[0m\u001b[1;33m(\u001b[0m\u001b[1;33m)\u001b[0m\u001b[1;33m,\u001b[0m\u001b[1;33m\u001b[0m\u001b[1;33m\u001b[0m\u001b[0m\n\u001b[0;32m    330\u001b[0m                 )\n\u001b[1;32m--> 331\u001b[1;33m             \u001b[1;32mreturn\u001b[0m \u001b[0mfunc\u001b[0m\u001b[1;33m(\u001b[0m\u001b[1;33m*\u001b[0m\u001b[0margs\u001b[0m\u001b[1;33m,\u001b[0m \u001b[1;33m**\u001b[0m\u001b[0mkwargs\u001b[0m\u001b[1;33m)\u001b[0m\u001b[1;33m\u001b[0m\u001b[1;33m\u001b[0m\u001b[0m\n\u001b[0m\u001b[0;32m    332\u001b[0m \u001b[1;33m\u001b[0m\u001b[0m\n\u001b[0;32m    333\u001b[0m         \u001b[1;31m# error: \"Callable[[VarArg(Any), KwArg(Any)], Any]\" has no\u001b[0m\u001b[1;33m\u001b[0m\u001b[1;33m\u001b[0m\u001b[0m\n",
      "\u001b[1;32mc:\\Users\\pbajo\\AppData\\Local\\Programs\\Python\\Python311\\Lib\\site-packages\\pandas\\core\\frame.py\u001b[0m in \u001b[0;36mfillna\u001b[1;34m(self, value, method, axis, inplace, limit, downcast)\u001b[0m\n\u001b[0;32m   5633\u001b[0m         \u001b[0mdowncast\u001b[0m\u001b[1;33m:\u001b[0m \u001b[0mdict\u001b[0m \u001b[1;33m|\u001b[0m \u001b[1;32mNone\u001b[0m \u001b[1;33m=\u001b[0m \u001b[1;32mNone\u001b[0m\u001b[1;33m,\u001b[0m\u001b[1;33m\u001b[0m\u001b[1;33m\u001b[0m\u001b[0m\n\u001b[0;32m   5634\u001b[0m     ) -> DataFrame | None:\n\u001b[1;32m-> 5635\u001b[1;33m         return super().fillna(\n\u001b[0m\u001b[0;32m   5636\u001b[0m             \u001b[0mvalue\u001b[0m\u001b[1;33m=\u001b[0m\u001b[0mvalue\u001b[0m\u001b[1;33m,\u001b[0m\u001b[1;33m\u001b[0m\u001b[1;33m\u001b[0m\u001b[0m\n\u001b[0;32m   5637\u001b[0m             \u001b[0mmethod\u001b[0m\u001b[1;33m=\u001b[0m\u001b[0mmethod\u001b[0m\u001b[1;33m,\u001b[0m\u001b[1;33m\u001b[0m\u001b[1;33m\u001b[0m\u001b[0m\n",
      "\u001b[1;32mc:\\Users\\pbajo\\AppData\\Local\\Programs\\Python\\Python311\\Lib\\site-packages\\pandas\\core\\generic.py\u001b[0m in \u001b[0;36mfillna\u001b[1;34m(self, value, method, axis, inplace, limit, downcast)\u001b[0m\n\u001b[0;32m   6920\u001b[0m                 \u001b[1;32melse\u001b[0m\u001b[1;33m:\u001b[0m\u001b[1;33m\u001b[0m\u001b[1;33m\u001b[0m\u001b[0m\n\u001b[0;32m   6921\u001b[0m \u001b[1;33m\u001b[0m\u001b[0m\n\u001b[1;32m-> 6922\u001b[1;33m                     new_data = self._mgr.fillna(\n\u001b[0m\u001b[0;32m   6923\u001b[0m                         \u001b[0mvalue\u001b[0m\u001b[1;33m=\u001b[0m\u001b[0mvalue\u001b[0m\u001b[1;33m,\u001b[0m \u001b[0mlimit\u001b[0m\u001b[1;33m=\u001b[0m\u001b[0mlimit\u001b[0m\u001b[1;33m,\u001b[0m \u001b[0minplace\u001b[0m\u001b[1;33m=\u001b[0m\u001b[0minplace\u001b[0m\u001b[1;33m,\u001b[0m \u001b[0mdowncast\u001b[0m\u001b[1;33m=\u001b[0m\u001b[0mdowncast\u001b[0m\u001b[1;33m\u001b[0m\u001b[1;33m\u001b[0m\u001b[0m\n\u001b[0;32m   6924\u001b[0m                     )\n",
      "\u001b[1;32mc:\\Users\\pbajo\\AppData\\Local\\Programs\\Python\\Python311\\Lib\\site-packages\\pandas\\core\\internals\\managers.py\u001b[0m in \u001b[0;36mfillna\u001b[1;34m(self, value, limit, inplace, downcast)\u001b[0m\n\u001b[0;32m    441\u001b[0m                 \u001b[0mself\u001b[0m \u001b[1;33m=\u001b[0m \u001b[0mself\u001b[0m\u001b[1;33m.\u001b[0m\u001b[0mcopy\u001b[0m\u001b[1;33m(\u001b[0m\u001b[1;33m)\u001b[0m\u001b[1;33m\u001b[0m\u001b[1;33m\u001b[0m\u001b[0m\n\u001b[0;32m    442\u001b[0m \u001b[1;33m\u001b[0m\u001b[0m\n\u001b[1;32m--> 443\u001b[1;33m         return self.apply(\n\u001b[0m\u001b[0;32m    444\u001b[0m             \u001b[1;34m\"fillna\"\u001b[0m\u001b[1;33m,\u001b[0m \u001b[0mvalue\u001b[0m\u001b[1;33m=\u001b[0m\u001b[0mvalue\u001b[0m\u001b[1;33m,\u001b[0m \u001b[0mlimit\u001b[0m\u001b[1;33m=\u001b[0m\u001b[0mlimit\u001b[0m\u001b[1;33m,\u001b[0m \u001b[0minplace\u001b[0m\u001b[1;33m=\u001b[0m\u001b[0minplace\u001b[0m\u001b[1;33m,\u001b[0m \u001b[0mdowncast\u001b[0m\u001b[1;33m=\u001b[0m\u001b[0mdowncast\u001b[0m\u001b[1;33m\u001b[0m\u001b[1;33m\u001b[0m\u001b[0m\n\u001b[0;32m    445\u001b[0m         )\n",
      "\u001b[1;32mc:\\Users\\pbajo\\AppData\\Local\\Programs\\Python\\Python311\\Lib\\site-packages\\pandas\\core\\internals\\managers.py\u001b[0m in \u001b[0;36mapply\u001b[1;34m(self, f, align_keys, ignore_failures, **kwargs)\u001b[0m\n\u001b[0;32m    350\u001b[0m                     \u001b[0mapplied\u001b[0m \u001b[1;33m=\u001b[0m \u001b[0mb\u001b[0m\u001b[1;33m.\u001b[0m\u001b[0mapply\u001b[0m\u001b[1;33m(\u001b[0m\u001b[0mf\u001b[0m\u001b[1;33m,\u001b[0m \u001b[1;33m**\u001b[0m\u001b[0mkwargs\u001b[0m\u001b[1;33m)\u001b[0m\u001b[1;33m\u001b[0m\u001b[1;33m\u001b[0m\u001b[0m\n\u001b[0;32m    351\u001b[0m                 \u001b[1;32melse\u001b[0m\u001b[1;33m:\u001b[0m\u001b[1;33m\u001b[0m\u001b[1;33m\u001b[0m\u001b[0m\n\u001b[1;32m--> 352\u001b[1;33m                     \u001b[0mapplied\u001b[0m \u001b[1;33m=\u001b[0m \u001b[0mgetattr\u001b[0m\u001b[1;33m(\u001b[0m\u001b[0mb\u001b[0m\u001b[1;33m,\u001b[0m \u001b[0mf\u001b[0m\u001b[1;33m)\u001b[0m\u001b[1;33m(\u001b[0m\u001b[1;33m**\u001b[0m\u001b[0mkwargs\u001b[0m\u001b[1;33m)\u001b[0m\u001b[1;33m\u001b[0m\u001b[1;33m\u001b[0m\u001b[0m\n\u001b[0m\u001b[0;32m    353\u001b[0m             \u001b[1;32mexcept\u001b[0m \u001b[1;33m(\u001b[0m\u001b[0mTypeError\u001b[0m\u001b[1;33m,\u001b[0m \u001b[0mNotImplementedError\u001b[0m\u001b[1;33m)\u001b[0m\u001b[1;33m:\u001b[0m\u001b[1;33m\u001b[0m\u001b[1;33m\u001b[0m\u001b[0m\n\u001b[0;32m    354\u001b[0m                 \u001b[1;32mif\u001b[0m \u001b[1;32mnot\u001b[0m \u001b[0mignore_failures\u001b[0m\u001b[1;33m:\u001b[0m\u001b[1;33m\u001b[0m\u001b[1;33m\u001b[0m\u001b[0m\n",
      "\u001b[1;32mc:\\Users\\pbajo\\AppData\\Local\\Programs\\Python\\Python311\\Lib\\site-packages\\pandas\\core\\internals\\blocks.py\u001b[0m in \u001b[0;36mfillna\u001b[1;34m(self, value, limit, inplace, downcast)\u001b[0m\n\u001b[0;32m   1198\u001b[0m             \u001b[1;31m# without _downcast, we would break\u001b[0m\u001b[1;33m\u001b[0m\u001b[1;33m\u001b[0m\u001b[0m\n\u001b[0;32m   1199\u001b[0m             \u001b[1;31m#  test_fillna_dtype_conversion_equiv_replace\u001b[0m\u001b[1;33m\u001b[0m\u001b[1;33m\u001b[0m\u001b[0m\n\u001b[1;32m-> 1200\u001b[1;33m             \u001b[0mnbs\u001b[0m \u001b[1;33m=\u001b[0m \u001b[0mself\u001b[0m\u001b[1;33m.\u001b[0m\u001b[0mwhere\u001b[0m\u001b[1;33m(\u001b[0m\u001b[0mvalue\u001b[0m\u001b[1;33m,\u001b[0m \u001b[1;33m~\u001b[0m\u001b[0mmask\u001b[0m\u001b[1;33m.\u001b[0m\u001b[0mT\u001b[0m\u001b[1;33m,\u001b[0m \u001b[0m_downcast\u001b[0m\u001b[1;33m=\u001b[0m\u001b[1;32mFalse\u001b[0m\u001b[1;33m)\u001b[0m\u001b[1;33m\u001b[0m\u001b[1;33m\u001b[0m\u001b[0m\n\u001b[0m\u001b[0;32m   1201\u001b[0m \u001b[1;33m\u001b[0m\u001b[0m\n\u001b[0;32m   1202\u001b[0m         \u001b[1;31m# Note: blk._maybe_downcast vs self._maybe_downcast(nbs)\u001b[0m\u001b[1;33m\u001b[0m\u001b[1;33m\u001b[0m\u001b[0m\n",
      "\u001b[1;32mc:\\Users\\pbajo\\AppData\\Local\\Programs\\Python\\Python311\\Lib\\site-packages\\pandas\\core\\internals\\blocks.py\u001b[0m in \u001b[0;36mwhere\u001b[1;34m(self, other, cond, _downcast)\u001b[0m\n\u001b[0;32m   1152\u001b[0m \u001b[1;33m\u001b[0m\u001b[0m\n\u001b[0;32m   1153\u001b[0m                 \u001b[1;31m# Note: expressions.where may upcast.\u001b[0m\u001b[1;33m\u001b[0m\u001b[1;33m\u001b[0m\u001b[0m\n\u001b[1;32m-> 1154\u001b[1;33m                 \u001b[0mresult\u001b[0m \u001b[1;33m=\u001b[0m \u001b[0mexpressions\u001b[0m\u001b[1;33m.\u001b[0m\u001b[0mwhere\u001b[0m\u001b[1;33m(\u001b[0m\u001b[1;33m~\u001b[0m\u001b[0micond\u001b[0m\u001b[1;33m,\u001b[0m \u001b[0mvalues\u001b[0m\u001b[1;33m,\u001b[0m \u001b[0mother\u001b[0m\u001b[1;33m)\u001b[0m\u001b[1;33m\u001b[0m\u001b[1;33m\u001b[0m\u001b[0m\n\u001b[0m\u001b[0;32m   1155\u001b[0m                 \u001b[1;31m# The np_can_hold_element check _should_ ensure that we always\u001b[0m\u001b[1;33m\u001b[0m\u001b[1;33m\u001b[0m\u001b[0m\n\u001b[0;32m   1156\u001b[0m                 \u001b[1;31m#  have result.dtype == self.dtype here.\u001b[0m\u001b[1;33m\u001b[0m\u001b[1;33m\u001b[0m\u001b[0m\n",
      "\u001b[1;32mc:\\Users\\pbajo\\AppData\\Local\\Programs\\Python\\Python311\\Lib\\site-packages\\pandas\\core\\computation\\expressions.py\u001b[0m in \u001b[0;36mwhere\u001b[1;34m(cond, a, b, use_numexpr)\u001b[0m\n\u001b[0;32m    256\u001b[0m     \"\"\"\n\u001b[0;32m    257\u001b[0m     \u001b[1;32massert\u001b[0m \u001b[0m_where\u001b[0m \u001b[1;32mis\u001b[0m \u001b[1;32mnot\u001b[0m \u001b[1;32mNone\u001b[0m\u001b[1;33m\u001b[0m\u001b[1;33m\u001b[0m\u001b[0m\n\u001b[1;32m--> 258\u001b[1;33m     \u001b[1;32mreturn\u001b[0m \u001b[0m_where\u001b[0m\u001b[1;33m(\u001b[0m\u001b[0mcond\u001b[0m\u001b[1;33m,\u001b[0m \u001b[0ma\u001b[0m\u001b[1;33m,\u001b[0m \u001b[0mb\u001b[0m\u001b[1;33m)\u001b[0m \u001b[1;32mif\u001b[0m \u001b[0muse_numexpr\u001b[0m \u001b[1;32melse\u001b[0m \u001b[0m_where_standard\u001b[0m\u001b[1;33m(\u001b[0m\u001b[0mcond\u001b[0m\u001b[1;33m,\u001b[0m \u001b[0ma\u001b[0m\u001b[1;33m,\u001b[0m \u001b[0mb\u001b[0m\u001b[1;33m)\u001b[0m\u001b[1;33m\u001b[0m\u001b[1;33m\u001b[0m\u001b[0m\n\u001b[0m\u001b[0;32m    259\u001b[0m \u001b[1;33m\u001b[0m\u001b[0m\n\u001b[0;32m    260\u001b[0m \u001b[1;33m\u001b[0m\u001b[0m\n",
      "\u001b[1;32mc:\\Users\\pbajo\\AppData\\Local\\Programs\\Python\\Python311\\Lib\\site-packages\\pandas\\core\\computation\\expressions.py\u001b[0m in \u001b[0;36m_where_standard\u001b[1;34m(cond, a, b)\u001b[0m\n\u001b[0;32m    170\u001b[0m \u001b[1;32mdef\u001b[0m \u001b[0m_where_standard\u001b[0m\u001b[1;33m(\u001b[0m\u001b[0mcond\u001b[0m\u001b[1;33m,\u001b[0m \u001b[0ma\u001b[0m\u001b[1;33m,\u001b[0m \u001b[0mb\u001b[0m\u001b[1;33m)\u001b[0m\u001b[1;33m:\u001b[0m\u001b[1;33m\u001b[0m\u001b[1;33m\u001b[0m\u001b[0m\n\u001b[0;32m    171\u001b[0m     \u001b[1;31m# Caller is responsible for extracting ndarray if necessary\u001b[0m\u001b[1;33m\u001b[0m\u001b[1;33m\u001b[0m\u001b[0m\n\u001b[1;32m--> 172\u001b[1;33m     \u001b[1;32mreturn\u001b[0m \u001b[0mnp\u001b[0m\u001b[1;33m.\u001b[0m\u001b[0mwhere\u001b[0m\u001b[1;33m(\u001b[0m\u001b[0mcond\u001b[0m\u001b[1;33m,\u001b[0m \u001b[0ma\u001b[0m\u001b[1;33m,\u001b[0m \u001b[0mb\u001b[0m\u001b[1;33m)\u001b[0m\u001b[1;33m\u001b[0m\u001b[1;33m\u001b[0m\u001b[0m\n\u001b[0m\u001b[0;32m    173\u001b[0m \u001b[1;33m\u001b[0m\u001b[0m\n\u001b[0;32m    174\u001b[0m \u001b[1;33m\u001b[0m\u001b[0m\n",
      "\u001b[1;32mc:\\Users\\pbajo\\AppData\\Local\\Programs\\Python\\Python311\\Lib\\site-packages\\numpy\\core\\overrides.py\u001b[0m in \u001b[0;36mwhere\u001b[1;34m(*args, **kwargs)\u001b[0m\n",
      "\u001b[1;31mMemoryError\u001b[0m: Unable to allocate 5.60 GiB for an array with shape (78748, 9542) and data type float64"
     ]
    }
   ],
   "source": [
    "interactions_matrix = interactions_matrix.fillna(0)"
   ]
  },
  {
   "cell_type": "code",
   "execution_count": null,
   "metadata": {},
   "outputs": [
    {
     "data": {
      "text/html": [
       "<div>\n",
       "<style scoped>\n",
       "    .dataframe tbody tr th:only-of-type {\n",
       "        vertical-align: middle;\n",
       "    }\n",
       "\n",
       "    .dataframe tbody tr th {\n",
       "        vertical-align: top;\n",
       "    }\n",
       "\n",
       "    .dataframe thead th {\n",
       "        text-align: right;\n",
       "    }\n",
       "</style>\n",
       "<table border=\"1\" class=\"dataframe\">\n",
       "  <thead>\n",
       "    <tr style=\"text-align: right;\">\n",
       "      <th>movieId</th>\n",
       "      <th>1</th>\n",
       "      <th>2</th>\n",
       "      <th>3</th>\n",
       "      <th>4</th>\n",
       "      <th>5</th>\n",
       "      <th>6</th>\n",
       "      <th>7</th>\n",
       "      <th>8</th>\n",
       "      <th>9</th>\n",
       "      <th>10</th>\n",
       "      <th>...</th>\n",
       "      <th>117865</th>\n",
       "      <th>118101</th>\n",
       "      <th>118198</th>\n",
       "      <th>118344</th>\n",
       "      <th>118492</th>\n",
       "      <th>118696</th>\n",
       "      <th>118866</th>\n",
       "      <th>119141</th>\n",
       "      <th>119804</th>\n",
       "      <th>120128</th>\n",
       "    </tr>\n",
       "    <tr>\n",
       "      <th>userId</th>\n",
       "      <th></th>\n",
       "      <th></th>\n",
       "      <th></th>\n",
       "      <th></th>\n",
       "      <th></th>\n",
       "      <th></th>\n",
       "      <th></th>\n",
       "      <th></th>\n",
       "      <th></th>\n",
       "      <th></th>\n",
       "      <th></th>\n",
       "      <th></th>\n",
       "      <th></th>\n",
       "      <th></th>\n",
       "      <th></th>\n",
       "      <th></th>\n",
       "      <th></th>\n",
       "      <th></th>\n",
       "      <th></th>\n",
       "      <th></th>\n",
       "      <th></th>\n",
       "    </tr>\n",
       "  </thead>\n",
       "  <tbody>\n",
       "    <tr>\n",
       "      <th>6</th>\n",
       "      <td>0.0</td>\n",
       "      <td>0.0</td>\n",
       "      <td>0.0</td>\n",
       "      <td>0.0</td>\n",
       "      <td>0.0</td>\n",
       "      <td>0.0</td>\n",
       "      <td>0.0</td>\n",
       "      <td>0.0</td>\n",
       "      <td>0.0</td>\n",
       "      <td>0.0</td>\n",
       "      <td>...</td>\n",
       "      <td>0.0</td>\n",
       "      <td>0.0</td>\n",
       "      <td>0.0</td>\n",
       "      <td>0.0</td>\n",
       "      <td>0.0</td>\n",
       "      <td>0.0</td>\n",
       "      <td>0.0</td>\n",
       "      <td>0.0</td>\n",
       "      <td>0.0</td>\n",
       "      <td>0.0</td>\n",
       "    </tr>\n",
       "    <tr>\n",
       "      <th>7</th>\n",
       "      <td>0.0</td>\n",
       "      <td>0.0</td>\n",
       "      <td>0.0</td>\n",
       "      <td>0.0</td>\n",
       "      <td>0.0</td>\n",
       "      <td>0.0</td>\n",
       "      <td>0.0</td>\n",
       "      <td>0.0</td>\n",
       "      <td>0.0</td>\n",
       "      <td>0.0</td>\n",
       "      <td>...</td>\n",
       "      <td>0.0</td>\n",
       "      <td>0.0</td>\n",
       "      <td>0.0</td>\n",
       "      <td>0.0</td>\n",
       "      <td>0.0</td>\n",
       "      <td>0.0</td>\n",
       "      <td>0.0</td>\n",
       "      <td>0.0</td>\n",
       "      <td>0.0</td>\n",
       "      <td>0.0</td>\n",
       "    </tr>\n",
       "    <tr>\n",
       "      <th>14</th>\n",
       "      <td>0.0</td>\n",
       "      <td>0.0</td>\n",
       "      <td>0.0</td>\n",
       "      <td>0.0</td>\n",
       "      <td>0.0</td>\n",
       "      <td>0.0</td>\n",
       "      <td>0.0</td>\n",
       "      <td>0.0</td>\n",
       "      <td>0.0</td>\n",
       "      <td>0.0</td>\n",
       "      <td>...</td>\n",
       "      <td>0.0</td>\n",
       "      <td>0.0</td>\n",
       "      <td>0.0</td>\n",
       "      <td>0.0</td>\n",
       "      <td>0.0</td>\n",
       "      <td>0.0</td>\n",
       "      <td>0.0</td>\n",
       "      <td>0.0</td>\n",
       "      <td>0.0</td>\n",
       "      <td>0.0</td>\n",
       "    </tr>\n",
       "    <tr>\n",
       "      <th>21</th>\n",
       "      <td>0.0</td>\n",
       "      <td>0.0</td>\n",
       "      <td>0.0</td>\n",
       "      <td>0.0</td>\n",
       "      <td>0.0</td>\n",
       "      <td>0.0</td>\n",
       "      <td>0.0</td>\n",
       "      <td>0.0</td>\n",
       "      <td>0.0</td>\n",
       "      <td>0.0</td>\n",
       "      <td>...</td>\n",
       "      <td>0.0</td>\n",
       "      <td>0.0</td>\n",
       "      <td>0.0</td>\n",
       "      <td>0.0</td>\n",
       "      <td>0.0</td>\n",
       "      <td>0.0</td>\n",
       "      <td>0.0</td>\n",
       "      <td>0.0</td>\n",
       "      <td>0.0</td>\n",
       "      <td>0.0</td>\n",
       "    </tr>\n",
       "    <tr>\n",
       "      <th>24</th>\n",
       "      <td>0.0</td>\n",
       "      <td>0.0</td>\n",
       "      <td>0.0</td>\n",
       "      <td>0.0</td>\n",
       "      <td>0.0</td>\n",
       "      <td>0.0</td>\n",
       "      <td>0.0</td>\n",
       "      <td>0.0</td>\n",
       "      <td>0.0</td>\n",
       "      <td>0.0</td>\n",
       "      <td>...</td>\n",
       "      <td>0.0</td>\n",
       "      <td>0.0</td>\n",
       "      <td>0.0</td>\n",
       "      <td>0.0</td>\n",
       "      <td>0.0</td>\n",
       "      <td>0.0</td>\n",
       "      <td>0.0</td>\n",
       "      <td>0.0</td>\n",
       "      <td>0.0</td>\n",
       "      <td>0.0</td>\n",
       "    </tr>\n",
       "  </tbody>\n",
       "</table>\n",
       "<p>5 rows × 9542 columns</p>\n",
       "</div>"
      ],
      "text/plain": [
       "movieId  1       2       3       4       5       6       7       8       \\\n",
       "userId                                                                    \n",
       "6           0.0     0.0     0.0     0.0     0.0     0.0     0.0     0.0   \n",
       "7           0.0     0.0     0.0     0.0     0.0     0.0     0.0     0.0   \n",
       "14          0.0     0.0     0.0     0.0     0.0     0.0     0.0     0.0   \n",
       "21          0.0     0.0     0.0     0.0     0.0     0.0     0.0     0.0   \n",
       "24          0.0     0.0     0.0     0.0     0.0     0.0     0.0     0.0   \n",
       "\n",
       "movieId  9       10      ...  117865  118101  118198  118344  118492  118696  \\\n",
       "userId                   ...                                                   \n",
       "6           0.0     0.0  ...     0.0     0.0     0.0     0.0     0.0     0.0   \n",
       "7           0.0     0.0  ...     0.0     0.0     0.0     0.0     0.0     0.0   \n",
       "14          0.0     0.0  ...     0.0     0.0     0.0     0.0     0.0     0.0   \n",
       "21          0.0     0.0  ...     0.0     0.0     0.0     0.0     0.0     0.0   \n",
       "24          0.0     0.0  ...     0.0     0.0     0.0     0.0     0.0     0.0   \n",
       "\n",
       "movieId  118866  119141  119804  120128  \n",
       "userId                                   \n",
       "6           0.0     0.0     0.0     0.0  \n",
       "7           0.0     0.0     0.0     0.0  \n",
       "14          0.0     0.0     0.0     0.0  \n",
       "21          0.0     0.0     0.0     0.0  \n",
       "24          0.0     0.0     0.0     0.0  \n",
       "\n",
       "[5 rows x 9542 columns]"
      ]
     },
     "execution_count": 40,
     "metadata": {},
     "output_type": "execute_result"
    }
   ],
   "source": [
    "interactions_matrix.head()"
   ]
  },
  {
   "cell_type": "code",
   "execution_count": null,
   "metadata": {},
   "outputs": [
    {
     "data": {
      "text/plain": [
       "(78748, 9542)"
      ]
     },
     "execution_count": 41,
     "metadata": {},
     "output_type": "execute_result"
    }
   ],
   "source": [
    "interactions_matrix.shape"
   ]
  },
  {
   "cell_type": "markdown",
   "metadata": {},
   "source": [
    "> Nos queda una matriz de 78748 usuarios y 9542 películas, coincidiendo con lo visto anteriormente."
   ]
  },
  {
   "cell_type": "markdown",
   "metadata": {},
   "source": [
    "Reducimos el tamaño en memoria de la matriz para poder entrenar el modelo"
   ]
  },
  {
   "cell_type": "code",
   "execution_count": null,
   "metadata": {},
   "outputs": [],
   "source": [
    "interactions_matrix_csr = csr_matrix(interactions_matrix.values)"
   ]
  },
  {
   "cell_type": "markdown",
   "metadata": {},
   "source": [
    "Creamos un diccionario para mapear el id de usuario con su índice en la matriz"
   ]
  },
  {
   "cell_type": "code",
   "execution_count": null,
   "metadata": {},
   "outputs": [],
   "source": [
    "user_ids = list(interactions_matrix.index)\n",
    "user_map = {}\n",
    "counter = 0\n",
    "for i in user_ids:\n",
    "    user_map[i] = counter\n",
    "    counter += 1"
   ]
  },
  {
   "cell_type": "code",
   "execution_count": null,
   "metadata": {},
   "outputs": [
    {
     "data": {
      "text/plain": [
       "{6: 0,\n",
       " 7: 1,\n",
       " 14: 2,\n",
       " 21: 3,\n",
       " 24: 4,\n",
       " 25: 5,\n",
       " 31: 6,\n",
       " 35: 7,\n",
       " 39: 8,\n",
       " 41: 9,\n",
       " 43: 10,\n",
       " 45: 11,\n",
       " 48: 12,\n",
       " 51: 13,\n",
       " 53: 14,\n",
       " 62: 15,\n",
       " 63: 16,\n",
       " 64: 17,\n",
       " 69: 18,\n",
       " 72: 19,\n",
       " 73: 20,\n",
       " 79: 21,\n",
       " 82: 22,\n",
       " 88: 23,\n",
       " 101: 24,\n",
       " 111: 25,\n",
       " 113: 26,\n",
       " 117: 27,\n",
       " 118: 28,\n",
       " 119: 29,\n",
       " 123: 30,\n",
       " 124: 31,\n",
       " 126: 32,\n",
       " 128: 33,\n",
       " 135: 34,\n",
       " 137: 35,\n",
       " 141: 36,\n",
       " 142: 37,\n",
       " 144: 38,\n",
       " 148: 39,\n",
       " 149: 40,\n",
       " 153: 41,\n",
       " 155: 42,\n",
       " 157: 43,\n",
       " 160: 44,\n",
       " 164: 45,\n",
       " 174: 46,\n",
       " 176: 47,\n",
       " 177: 48,\n",
       " 181: 49,\n",
       " 183: 50,\n",
       " 187: 51,\n",
       " 189: 52,\n",
       " 190: 53,\n",
       " 193: 54,\n",
       " 198: 55,\n",
       " 202: 56,\n",
       " 207: 57,\n",
       " 212: 58,\n",
       " 214: 59,\n",
       " 222: 60,\n",
       " 223: 61,\n",
       " 224: 62,\n",
       " 227: 63,\n",
       " 229: 64,\n",
       " 231: 65,\n",
       " 233: 66,\n",
       " 240: 67,\n",
       " 241: 68,\n",
       " 246: 69,\n",
       " 249: 70,\n",
       " 255: 71,\n",
       " 260: 72,\n",
       " 262: 73,\n",
       " 263: 74,\n",
       " 265: 75,\n",
       " 267: 76,\n",
       " 270: 77,\n",
       " 283: 78,\n",
       " 284: 79,\n",
       " 289: 80,\n",
       " 311: 81,\n",
       " 314: 82,\n",
       " 315: 83,\n",
       " 318: 84,\n",
       " 322: 85,\n",
       " 326: 86,\n",
       " 328: 87,\n",
       " 330: 88,\n",
       " 332: 89,\n",
       " 335: 90,\n",
       " 339: 91,\n",
       " 347: 92,\n",
       " 349: 93,\n",
       " 367: 94,\n",
       " 381: 95,\n",
       " 384: 96,\n",
       " 385: 97,\n",
       " 392: 98,\n",
       " 408: 99,\n",
       " 412: 100,\n",
       " 417: 101,\n",
       " 423: 102,\n",
       " 425: 103,\n",
       " 432: 104,\n",
       " 433: 105,\n",
       " 436: 106,\n",
       " 439: 107,\n",
       " 440: 108,\n",
       " 444: 109,\n",
       " 445: 110,\n",
       " 446: 111,\n",
       " 449: 112,\n",
       " 453: 113,\n",
       " 456: 114,\n",
       " 458: 115,\n",
       " 463: 116,\n",
       " 467: 117,\n",
       " 468: 118,\n",
       " 473: 119,\n",
       " 475: 120,\n",
       " 477: 121,\n",
       " 478: 122,\n",
       " 479: 123,\n",
       " 481: 124,\n",
       " 482: 125,\n",
       " 487: 126,\n",
       " 490: 127,\n",
       " 491: 128,\n",
       " 495: 129,\n",
       " 502: 130,\n",
       " 503: 131,\n",
       " 506: 132,\n",
       " 510: 133,\n",
       " 511: 134,\n",
       " 513: 135,\n",
       " 518: 136,\n",
       " 525: 137,\n",
       " 526: 138,\n",
       " 529: 139,\n",
       " 530: 140,\n",
       " 531: 141,\n",
       " 534: 142,\n",
       " 536: 143,\n",
       " 538: 144,\n",
       " 539: 145,\n",
       " 541: 146,\n",
       " 543: 147,\n",
       " 545: 148,\n",
       " 548: 149,\n",
       " 550: 150,\n",
       " 552: 151,\n",
       " 553: 152,\n",
       " 562: 153,\n",
       " 564: 154,\n",
       " 565: 155,\n",
       " 567: 156,\n",
       " 570: 157,\n",
       " 581: 158,\n",
       " 586: 159,\n",
       " 588: 160,\n",
       " 589: 161,\n",
       " 592: 162,\n",
       " 598: 163,\n",
       " 605: 164,\n",
       " 608: 165,\n",
       " 614: 166,\n",
       " 624: 167,\n",
       " 627: 168,\n",
       " 632: 169,\n",
       " 638: 170,\n",
       " 641: 171,\n",
       " 651: 172,\n",
       " 652: 173,\n",
       " 653: 174,\n",
       " 654: 175,\n",
       " 657: 176,\n",
       " 663: 177,\n",
       " 670: 178,\n",
       " 675: 179,\n",
       " 676: 180,\n",
       " 683: 181,\n",
       " 686: 182,\n",
       " 702: 183,\n",
       " 706: 184,\n",
       " 709: 185,\n",
       " 713: 186,\n",
       " 716: 187,\n",
       " 722: 188,\n",
       " 725: 189,\n",
       " 726: 190,\n",
       " 734: 191,\n",
       " 740: 192,\n",
       " 745: 193,\n",
       " 751: 194,\n",
       " 754: 195,\n",
       " 759: 196,\n",
       " 762: 197,\n",
       " 771: 198,\n",
       " 772: 199,\n",
       " 776: 200,\n",
       " 781: 201,\n",
       " 782: 202,\n",
       " 783: 203,\n",
       " 786: 204,\n",
       " 793: 205,\n",
       " 808: 206,\n",
       " 815: 207,\n",
       " 821: 208,\n",
       " 826: 209,\n",
       " 831: 210,\n",
       " 840: 211,\n",
       " 841: 212,\n",
       " 842: 213,\n",
       " 846: 214,\n",
       " 862: 215,\n",
       " 867: 216,\n",
       " 868: 217,\n",
       " 870: 218,\n",
       " 876: 219,\n",
       " 881: 220,\n",
       " 883: 221,\n",
       " 885: 222,\n",
       " 886: 223,\n",
       " 887: 224,\n",
       " 889: 225,\n",
       " 897: 226,\n",
       " 901: 227,\n",
       " 903: 228,\n",
       " 904: 229,\n",
       " 912: 230,\n",
       " 916: 231,\n",
       " 922: 232,\n",
       " 927: 233,\n",
       " 931: 234,\n",
       " 933: 235,\n",
       " 935: 236,\n",
       " 940: 237,\n",
       " 943: 238,\n",
       " 944: 239,\n",
       " 948: 240,\n",
       " 956: 241,\n",
       " 958: 242,\n",
       " 962: 243,\n",
       " 965: 244,\n",
       " 970: 245,\n",
       " 972: 246,\n",
       " 974: 247,\n",
       " 979: 248,\n",
       " 982: 249,\n",
       " 983: 250,\n",
       " 987: 251,\n",
       " 988: 252,\n",
       " 990: 253,\n",
       " 994: 254,\n",
       " 1000: 255,\n",
       " 1001: 256,\n",
       " 1003: 257,\n",
       " 1011: 258,\n",
       " 1016: 259,\n",
       " 1034: 260,\n",
       " 1044: 261,\n",
       " 1046: 262,\n",
       " 1050: 263,\n",
       " 1051: 264,\n",
       " 1059: 265,\n",
       " 1062: 266,\n",
       " 1063: 267,\n",
       " 1064: 268,\n",
       " 1065: 269,\n",
       " 1070: 270,\n",
       " 1071: 271,\n",
       " 1081: 272,\n",
       " 1082: 273,\n",
       " 1084: 274,\n",
       " 1085: 275,\n",
       " 1087: 276,\n",
       " 1088: 277,\n",
       " 1090: 278,\n",
       " 1091: 279,\n",
       " 1095: 280,\n",
       " 1096: 281,\n",
       " 1100: 282,\n",
       " 1106: 283,\n",
       " 1109: 284,\n",
       " 1113: 285,\n",
       " 1114: 286,\n",
       " 1116: 287,\n",
       " 1123: 288,\n",
       " 1125: 289,\n",
       " 1126: 290,\n",
       " 1127: 291,\n",
       " 1134: 292,\n",
       " 1135: 293,\n",
       " 1142: 294,\n",
       " 1143: 295,\n",
       " 1144: 296,\n",
       " 1149: 297,\n",
       " 1151: 298,\n",
       " 1153: 299,\n",
       " 1156: 300,\n",
       " 1166: 301,\n",
       " 1172: 302,\n",
       " 1174: 303,\n",
       " 1178: 304,\n",
       " 1188: 305,\n",
       " 1191: 306,\n",
       " 1205: 307,\n",
       " 1213: 308,\n",
       " 1215: 309,\n",
       " 1220: 310,\n",
       " 1235: 311,\n",
       " 1242: 312,\n",
       " 1243: 313,\n",
       " 1247: 314,\n",
       " 1252: 315,\n",
       " 1253: 316,\n",
       " 1256: 317,\n",
       " 1258: 318,\n",
       " 1266: 319,\n",
       " 1267: 320,\n",
       " 1268: 321,\n",
       " 1270: 322,\n",
       " 1278: 323,\n",
       " 1283: 324,\n",
       " 1286: 325,\n",
       " 1291: 326,\n",
       " 1296: 327,\n",
       " 1302: 328,\n",
       " 1303: 329,\n",
       " 1306: 330,\n",
       " 1314: 331,\n",
       " 1324: 332,\n",
       " 1330: 333,\n",
       " 1334: 334,\n",
       " 1337: 335,\n",
       " 1349: 336,\n",
       " 1350: 337,\n",
       " 1353: 338,\n",
       " 1354: 339,\n",
       " 1356: 340,\n",
       " 1370: 341,\n",
       " 1373: 342,\n",
       " 1383: 343,\n",
       " 1386: 344,\n",
       " 1387: 345,\n",
       " 1393: 346,\n",
       " 1398: 347,\n",
       " 1402: 348,\n",
       " 1403: 349,\n",
       " 1404: 350,\n",
       " 1409: 351,\n",
       " 1410: 352,\n",
       " 1413: 353,\n",
       " 1416: 354,\n",
       " 1418: 355,\n",
       " 1429: 356,\n",
       " 1437: 357,\n",
       " 1442: 358,\n",
       " 1444: 359,\n",
       " 1446: 360,\n",
       " 1453: 361,\n",
       " 1455: 362,\n",
       " 1460: 363,\n",
       " 1462: 364,\n",
       " 1463: 365,\n",
       " 1471: 366,\n",
       " 1473: 367,\n",
       " 1476: 368,\n",
       " 1482: 369,\n",
       " 1486: 370,\n",
       " 1494: 371,\n",
       " 1502: 372,\n",
       " 1505: 373,\n",
       " 1510: 374,\n",
       " 1515: 375,\n",
       " 1517: 376,\n",
       " 1518: 377,\n",
       " 1520: 378,\n",
       " 1531: 379,\n",
       " 1533: 380,\n",
       " 1536: 381,\n",
       " 1548: 382,\n",
       " 1549: 383,\n",
       " 1557: 384,\n",
       " 1559: 385,\n",
       " 1577: 386,\n",
       " 1579: 387,\n",
       " 1582: 388,\n",
       " 1588: 389,\n",
       " 1593: 390,\n",
       " 1595: 391,\n",
       " 1599: 392,\n",
       " 1602: 393,\n",
       " 1608: 394,\n",
       " 1611: 395,\n",
       " 1620: 396,\n",
       " 1629: 397,\n",
       " 1644: 398,\n",
       " 1646: 399,\n",
       " 1647: 400,\n",
       " 1650: 401,\n",
       " 1655: 402,\n",
       " 1661: 403,\n",
       " 1668: 404,\n",
       " 1672: 405,\n",
       " 1673: 406,\n",
       " 1674: 407,\n",
       " 1675: 408,\n",
       " 1676: 409,\n",
       " 1677: 410,\n",
       " 1678: 411,\n",
       " 1680: 412,\n",
       " 1682: 413,\n",
       " 1683: 414,\n",
       " 1690: 415,\n",
       " 1695: 416,\n",
       " 1696: 417,\n",
       " 1697: 418,\n",
       " 1698: 419,\n",
       " 1701: 420,\n",
       " 1704: 421,\n",
       " 1715: 422,\n",
       " 1718: 423,\n",
       " 1720: 424,\n",
       " 1724: 425,\n",
       " 1731: 426,\n",
       " 1732: 427,\n",
       " 1733: 428,\n",
       " 1740: 429,\n",
       " 1741: 430,\n",
       " 1744: 431,\n",
       " 1745: 432,\n",
       " 1750: 433,\n",
       " 1755: 434,\n",
       " 1756: 435,\n",
       " 1757: 436,\n",
       " 1759: 437,\n",
       " 1761: 438,\n",
       " 1762: 439,\n",
       " 1763: 440,\n",
       " 1765: 441,\n",
       " 1766: 442,\n",
       " 1767: 443,\n",
       " 1773: 444,\n",
       " 1775: 445,\n",
       " 1777: 446,\n",
       " 1781: 447,\n",
       " 1782: 448,\n",
       " 1783: 449,\n",
       " 1786: 450,\n",
       " 1792: 451,\n",
       " 1802: 452,\n",
       " 1805: 453,\n",
       " 1815: 454,\n",
       " 1817: 455,\n",
       " 1819: 456,\n",
       " 1821: 457,\n",
       " 1829: 458,\n",
       " 1830: 459,\n",
       " 1831: 460,\n",
       " 1833: 461,\n",
       " 1835: 462,\n",
       " 1838: 463,\n",
       " 1844: 464,\n",
       " 1850: 465,\n",
       " 1851: 466,\n",
       " 1853: 467,\n",
       " 1854: 468,\n",
       " 1857: 469,\n",
       " 1860: 470,\n",
       " 1861: 471,\n",
       " 1866: 472,\n",
       " 1867: 473,\n",
       " 1870: 474,\n",
       " 1872: 475,\n",
       " 1873: 476,\n",
       " 1885: 477,\n",
       " 1886: 478,\n",
       " 1892: 479,\n",
       " 1898: 480,\n",
       " 1902: 481,\n",
       " 1906: 482,\n",
       " 1907: 483,\n",
       " 1912: 484,\n",
       " 1913: 485,\n",
       " 1916: 486,\n",
       " 1930: 487,\n",
       " 1934: 488,\n",
       " 1935: 489,\n",
       " 1936: 490,\n",
       " 1937: 491,\n",
       " 1938: 492,\n",
       " 1960: 493,\n",
       " 1964: 494,\n",
       " 1966: 495,\n",
       " 1968: 496,\n",
       " 1969: 497,\n",
       " 1980: 498,\n",
       " 1984: 499,\n",
       " 1986: 500,\n",
       " 1989: 501,\n",
       " 1991: 502,\n",
       " 1994: 503,\n",
       " 1995: 504,\n",
       " 1998: 505,\n",
       " 2002: 506,\n",
       " 2003: 507,\n",
       " 2008: 508,\n",
       " 2010: 509,\n",
       " 2013: 510,\n",
       " 2014: 511,\n",
       " 2020: 512,\n",
       " 2026: 513,\n",
       " 2030: 514,\n",
       " 2031: 515,\n",
       " 2032: 516,\n",
       " 2035: 517,\n",
       " 2036: 518,\n",
       " 2042: 519,\n",
       " 2044: 520,\n",
       " 2051: 521,\n",
       " 2054: 522,\n",
       " 2055: 523,\n",
       " 2056: 524,\n",
       " 2057: 525,\n",
       " 2060: 526,\n",
       " 2062: 527,\n",
       " 2064: 528,\n",
       " 2065: 529,\n",
       " 2066: 530,\n",
       " 2069: 531,\n",
       " 2073: 532,\n",
       " 2080: 533,\n",
       " 2081: 534,\n",
       " 2082: 535,\n",
       " 2084: 536,\n",
       " 2086: 537,\n",
       " 2090: 538,\n",
       " 2091: 539,\n",
       " 2102: 540,\n",
       " 2106: 541,\n",
       " 2109: 542,\n",
       " 2111: 543,\n",
       " 2120: 544,\n",
       " 2122: 545,\n",
       " 2131: 546,\n",
       " 2133: 547,\n",
       " 2134: 548,\n",
       " 2137: 549,\n",
       " 2141: 550,\n",
       " 2142: 551,\n",
       " 2149: 552,\n",
       " 2152: 553,\n",
       " 2153: 554,\n",
       " 2173: 555,\n",
       " 2178: 556,\n",
       " 2186: 557,\n",
       " 2193: 558,\n",
       " 2195: 559,\n",
       " 2213: 560,\n",
       " 2220: 561,\n",
       " 2221: 562,\n",
       " 2225: 563,\n",
       " 2234: 564,\n",
       " 2235: 565,\n",
       " 2247: 566,\n",
       " 2267: 567,\n",
       " 2270: 568,\n",
       " 2286: 569,\n",
       " 2289: 570,\n",
       " 2293: 571,\n",
       " 2295: 572,\n",
       " 2300: 573,\n",
       " 2306: 574,\n",
       " 2308: 575,\n",
       " 2309: 576,\n",
       " 2310: 577,\n",
       " 2311: 578,\n",
       " 2316: 579,\n",
       " 2322: 580,\n",
       " 2324: 581,\n",
       " 2325: 582,\n",
       " 2328: 583,\n",
       " 2332: 584,\n",
       " 2334: 585,\n",
       " 2337: 586,\n",
       " 2346: 587,\n",
       " 2357: 588,\n",
       " 2362: 589,\n",
       " 2365: 590,\n",
       " 2366: 591,\n",
       " 2368: 592,\n",
       " 2369: 593,\n",
       " 2374: 594,\n",
       " 2378: 595,\n",
       " 2381: 596,\n",
       " 2385: 597,\n",
       " 2398: 598,\n",
       " 2400: 599,\n",
       " 2401: 600,\n",
       " 2404: 601,\n",
       " 2406: 602,\n",
       " 2408: 603,\n",
       " 2413: 604,\n",
       " 2417: 605,\n",
       " 2418: 606,\n",
       " 2420: 607,\n",
       " 2422: 608,\n",
       " 2430: 609,\n",
       " 2435: 610,\n",
       " 2437: 611,\n",
       " 2440: 612,\n",
       " 2441: 613,\n",
       " 2446: 614,\n",
       " 2447: 615,\n",
       " 2449: 616,\n",
       " 2451: 617,\n",
       " 2452: 618,\n",
       " 2453: 619,\n",
       " 2457: 620,\n",
       " 2458: 621,\n",
       " 2465: 622,\n",
       " 2470: 623,\n",
       " 2474: 624,\n",
       " 2477: 625,\n",
       " 2481: 626,\n",
       " 2483: 627,\n",
       " 2484: 628,\n",
       " 2486: 629,\n",
       " 2491: 630,\n",
       " 2494: 631,\n",
       " 2496: 632,\n",
       " 2504: 633,\n",
       " 2505: 634,\n",
       " 2517: 635,\n",
       " 2520: 636,\n",
       " 2521: 637,\n",
       " 2522: 638,\n",
       " 2524: 639,\n",
       " 2525: 640,\n",
       " 2526: 641,\n",
       " 2528: 642,\n",
       " 2531: 643,\n",
       " 2544: 644,\n",
       " 2547: 645,\n",
       " 2560: 646,\n",
       " 2561: 647,\n",
       " 2564: 648,\n",
       " 2566: 649,\n",
       " 2567: 650,\n",
       " 2569: 651,\n",
       " 2571: 652,\n",
       " 2582: 653,\n",
       " 2595: 654,\n",
       " 2599: 655,\n",
       " 2602: 656,\n",
       " 2612: 657,\n",
       " 2615: 658,\n",
       " 2616: 659,\n",
       " 2629: 660,\n",
       " 2643: 661,\n",
       " 2646: 662,\n",
       " 2651: 663,\n",
       " 2670: 664,\n",
       " 2673: 665,\n",
       " 2677: 666,\n",
       " 2680: 667,\n",
       " 2681: 668,\n",
       " 2684: 669,\n",
       " 2688: 670,\n",
       " 2689: 671,\n",
       " 2694: 672,\n",
       " 2695: 673,\n",
       " 2696: 674,\n",
       " 2698: 675,\n",
       " 2704: 676,\n",
       " 2706: 677,\n",
       " 2709: 678,\n",
       " 2713: 679,\n",
       " 2719: 680,\n",
       " 2722: 681,\n",
       " 2726: 682,\n",
       " 2727: 683,\n",
       " 2730: 684,\n",
       " 2731: 685,\n",
       " 2732: 686,\n",
       " 2734: 687,\n",
       " 2735: 688,\n",
       " 2736: 689,\n",
       " 2737: 690,\n",
       " 2743: 691,\n",
       " 2748: 692,\n",
       " 2753: 693,\n",
       " 2754: 694,\n",
       " 2758: 695,\n",
       " 2760: 696,\n",
       " 2763: 697,\n",
       " 2764: 698,\n",
       " 2766: 699,\n",
       " 2767: 700,\n",
       " 2776: 701,\n",
       " 2778: 702,\n",
       " 2783: 703,\n",
       " 2786: 704,\n",
       " 2789: 705,\n",
       " 2793: 706,\n",
       " 2798: 707,\n",
       " 2801: 708,\n",
       " 2803: 709,\n",
       " 2805: 710,\n",
       " 2806: 711,\n",
       " 2816: 712,\n",
       " 2821: 713,\n",
       " 2822: 714,\n",
       " 2824: 715,\n",
       " 2844: 716,\n",
       " 2850: 717,\n",
       " 2852: 718,\n",
       " 2854: 719,\n",
       " 2884: 720,\n",
       " 2885: 721,\n",
       " 2888: 722,\n",
       " 2903: 723,\n",
       " 2906: 724,\n",
       " 2908: 725,\n",
       " 2913: 726,\n",
       " 2915: 727,\n",
       " 2919: 728,\n",
       " 2922: 729,\n",
       " 2924: 730,\n",
       " 2926: 731,\n",
       " 2927: 732,\n",
       " 2934: 733,\n",
       " 2935: 734,\n",
       " 2942: 735,\n",
       " 2949: 736,\n",
       " 2950: 737,\n",
       " 2951: 738,\n",
       " 2955: 739,\n",
       " 2956: 740,\n",
       " 2958: 741,\n",
       " 2960: 742,\n",
       " 2967: 743,\n",
       " 2969: 744,\n",
       " 2972: 745,\n",
       " 2974: 746,\n",
       " 2975: 747,\n",
       " 2978: 748,\n",
       " 2981: 749,\n",
       " 2985: 750,\n",
       " 2986: 751,\n",
       " 2987: 752,\n",
       " 2991: 753,\n",
       " 2999: 754,\n",
       " 3000: 755,\n",
       " 3002: 756,\n",
       " 3003: 757,\n",
       " 3008: 758,\n",
       " 3014: 759,\n",
       " 3019: 760,\n",
       " 3023: 761,\n",
       " 3026: 762,\n",
       " 3032: 763,\n",
       " 3034: 764,\n",
       " 3043: 765,\n",
       " 3045: 766,\n",
       " 3046: 767,\n",
       " 3049: 768,\n",
       " 3053: 769,\n",
       " 3058: 770,\n",
       " 3061: 771,\n",
       " 3067: 772,\n",
       " 3071: 773,\n",
       " 3077: 774,\n",
       " 3086: 775,\n",
       " 3088: 776,\n",
       " 3089: 777,\n",
       " 3094: 778,\n",
       " 3104: 779,\n",
       " 3105: 780,\n",
       " 3106: 781,\n",
       " 3107: 782,\n",
       " 3108: 783,\n",
       " 3109: 784,\n",
       " 3118: 785,\n",
       " 3120: 786,\n",
       " 3123: 787,\n",
       " 3125: 788,\n",
       " 3129: 789,\n",
       " 3135: 790,\n",
       " 3143: 791,\n",
       " 3146: 792,\n",
       " 3150: 793,\n",
       " 3152: 794,\n",
       " 3154: 795,\n",
       " 3156: 796,\n",
       " 3158: 797,\n",
       " 3160: 798,\n",
       " 3165: 799,\n",
       " 3167: 800,\n",
       " 3172: 801,\n",
       " 3173: 802,\n",
       " 3175: 803,\n",
       " 3185: 804,\n",
       " 3195: 805,\n",
       " 3197: 806,\n",
       " 3198: 807,\n",
       " 3200: 808,\n",
       " 3201: 809,\n",
       " 3202: 810,\n",
       " 3204: 811,\n",
       " 3205: 812,\n",
       " 3210: 813,\n",
       " 3216: 814,\n",
       " 3218: 815,\n",
       " 3225: 816,\n",
       " 3230: 817,\n",
       " 3232: 818,\n",
       " 3244: 819,\n",
       " 3245: 820,\n",
       " 3248: 821,\n",
       " 3251: 822,\n",
       " 3253: 823,\n",
       " 3255: 824,\n",
       " 3256: 825,\n",
       " 3258: 826,\n",
       " 3266: 827,\n",
       " 3268: 828,\n",
       " 3271: 829,\n",
       " 3272: 830,\n",
       " 3277: 831,\n",
       " 3279: 832,\n",
       " 3281: 833,\n",
       " 3283: 834,\n",
       " 3287: 835,\n",
       " 3289: 836,\n",
       " 3293: 837,\n",
       " 3299: 838,\n",
       " 3309: 839,\n",
       " 3310: 840,\n",
       " 3313: 841,\n",
       " 3318: 842,\n",
       " 3320: 843,\n",
       " 3322: 844,\n",
       " 3323: 845,\n",
       " 3324: 846,\n",
       " 3327: 847,\n",
       " 3328: 848,\n",
       " 3334: 849,\n",
       " 3335: 850,\n",
       " 3341: 851,\n",
       " 3342: 852,\n",
       " 3343: 853,\n",
       " 3348: 854,\n",
       " 3349: 855,\n",
       " 3353: 856,\n",
       " 3355: 857,\n",
       " 3357: 858,\n",
       " 3363: 859,\n",
       " 3364: 860,\n",
       " 3367: 861,\n",
       " 3384: 862,\n",
       " 3388: 863,\n",
       " 3390: 864,\n",
       " 3393: 865,\n",
       " 3395: 866,\n",
       " 3399: 867,\n",
       " 3408: 868,\n",
       " 3413: 869,\n",
       " 3417: 870,\n",
       " 3425: 871,\n",
       " 3430: 872,\n",
       " 3434: 873,\n",
       " 3436: 874,\n",
       " 3437: 875,\n",
       " 3441: 876,\n",
       " 3448: 877,\n",
       " 3450: 878,\n",
       " 3453: 879,\n",
       " 3457: 880,\n",
       " 3459: 881,\n",
       " 3462: 882,\n",
       " 3468: 883,\n",
       " 3469: 884,\n",
       " 3470: 885,\n",
       " 3471: 886,\n",
       " 3480: 887,\n",
       " 3481: 888,\n",
       " 3486: 889,\n",
       " 3489: 890,\n",
       " 3492: 891,\n",
       " 3502: 892,\n",
       " 3503: 893,\n",
       " 3504: 894,\n",
       " 3509: 895,\n",
       " 3510: 896,\n",
       " 3513: 897,\n",
       " 3515: 898,\n",
       " 3517: 899,\n",
       " 3524: 900,\n",
       " 3535: 901,\n",
       " 3541: 902,\n",
       " 3545: 903,\n",
       " 3547: 904,\n",
       " 3549: 905,\n",
       " 3562: 906,\n",
       " 3566: 907,\n",
       " 3569: 908,\n",
       " 3570: 909,\n",
       " 3576: 910,\n",
       " 3583: 911,\n",
       " 3585: 912,\n",
       " 3586: 913,\n",
       " 3589: 914,\n",
       " 3597: 915,\n",
       " 3599: 916,\n",
       " 3607: 917,\n",
       " 3610: 918,\n",
       " 3611: 919,\n",
       " 3616: 920,\n",
       " 3619: 921,\n",
       " 3624: 922,\n",
       " 3626: 923,\n",
       " 3627: 924,\n",
       " 3629: 925,\n",
       " 3632: 926,\n",
       " 3635: 927,\n",
       " 3637: 928,\n",
       " 3639: 929,\n",
       " 3641: 930,\n",
       " 3642: 931,\n",
       " 3643: 932,\n",
       " 3647: 933,\n",
       " 3654: 934,\n",
       " 3655: 935,\n",
       " 3658: 936,\n",
       " 3663: 937,\n",
       " 3664: 938,\n",
       " 3665: 939,\n",
       " 3667: 940,\n",
       " 3669: 941,\n",
       " 3673: 942,\n",
       " 3675: 943,\n",
       " 3680: 944,\n",
       " 3682: 945,\n",
       " 3683: 946,\n",
       " 3684: 947,\n",
       " 3686: 948,\n",
       " 3703: 949,\n",
       " 3707: 950,\n",
       " 3709: 951,\n",
       " 3710: 952,\n",
       " 3712: 953,\n",
       " 3713: 954,\n",
       " 3719: 955,\n",
       " 3721: 956,\n",
       " 3723: 957,\n",
       " 3724: 958,\n",
       " 3734: 959,\n",
       " 3743: 960,\n",
       " 3744: 961,\n",
       " 3749: 962,\n",
       " 3751: 963,\n",
       " 3752: 964,\n",
       " 3756: 965,\n",
       " 3759: 966,\n",
       " 3760: 967,\n",
       " 3762: 968,\n",
       " 3764: 969,\n",
       " 3766: 970,\n",
       " 3771: 971,\n",
       " 3772: 972,\n",
       " 3782: 973,\n",
       " 3789: 974,\n",
       " 3793: 975,\n",
       " 3798: 976,\n",
       " 3800: 977,\n",
       " 3804: 978,\n",
       " 3806: 979,\n",
       " 3810: 980,\n",
       " 3817: 981,\n",
       " 3820: 982,\n",
       " 3824: 983,\n",
       " 3832: 984,\n",
       " 3838: 985,\n",
       " 3847: 986,\n",
       " 3850: 987,\n",
       " 3860: 988,\n",
       " 3862: 989,\n",
       " 3863: 990,\n",
       " 3864: 991,\n",
       " 3865: 992,\n",
       " 3867: 993,\n",
       " 3871: 994,\n",
       " 3875: 995,\n",
       " 3878: 996,\n",
       " 3883: 997,\n",
       " 3885: 998,\n",
       " 3886: 999,\n",
       " ...}"
      ]
     },
     "execution_count": 44,
     "metadata": {},
     "output_type": "execute_result"
    }
   ],
   "source": [
    "user_map"
   ]
  },
  {
   "cell_type": "markdown",
   "metadata": {},
   "source": [
    "## Entrenamiento de Modelo\n",
    "Utilizamos GridSearch para encontrar los mejores hiperparametros"
   ]
  },
  {
   "cell_type": "code",
   "execution_count": null,
   "metadata": {},
   "outputs": [
    {
     "name": "stderr",
     "output_type": "stream",
     "text": [
      "c:\\Users\\pbajo\\AppData\\Local\\Programs\\Python\\Python311\\Lib\\site-packages\\sklearn\\model_selection\\_search.py:979: UserWarning: One or more of the test scores are non-finite: [nan nan nan nan nan nan nan nan nan nan nan nan nan nan nan nan]\n",
      "  warnings.warn(\n"
     ]
    },
    {
     "name": "stdout",
     "output_type": "stream",
     "text": [
      "Wall time: 7min 53s\n"
     ]
    }
   ],
   "source": [
    "%%time\n",
    "model = LightFM()\n",
    "\n",
    "param_grid = {\n",
    "    'loss': ['logistic'],\n",
    "    'no_components': [30, 50, 70, 90],\n",
    "    'learning_rate': [0.03, 0.05, 0.1, 0.2],\n",
    "}\n",
    "\n",
    "grid_search = GridSearchCV(model, param_grid, cv=5, scoring='precision', n_jobs=-1)\n",
    "\n",
    "grid_search.fit(interactions_matrix_csr, epochs=10)\n",
    "\n",
    "best_params = grid_search.best_params_"
   ]
  },
  {
   "cell_type": "markdown",
   "metadata": {},
   "source": [
    "Vemos cuales son los mejores hiperparametros"
   ]
  },
  {
   "cell_type": "code",
   "execution_count": null,
   "metadata": {},
   "outputs": [
    {
     "data": {
      "text/plain": [
       "{'learning_rate': 0.03, 'loss': 'logistic', 'no_components': 30}"
      ]
     },
     "execution_count": 49,
     "metadata": {},
     "output_type": "execute_result"
    }
   ],
   "source": [
    "best_params"
   ]
  },
  {
   "cell_type": "markdown",
   "metadata": {},
   "source": [
    "#### Entrenamiento de modelo\n",
    "Entrenamos el modelo con los mejores hiperparametros"
   ]
  },
  {
   "cell_type": "code",
   "execution_count": null,
   "metadata": {},
   "outputs": [
    {
     "name": "stdout",
     "output_type": "stream",
     "text": [
      "Wall time: 0 ns\n"
     ]
    }
   ],
   "source": [
    "%%time\n",
    "model = LightFM(no_components=30, random_state=100, learning_rate=0.03, loss='logistic')"
   ]
  },
  {
   "cell_type": "code",
   "execution_count": null,
   "metadata": {},
   "outputs": [
    {
     "name": "stdout",
     "output_type": "stream",
     "text": [
      "Wall time: 1min 40s\n"
     ]
    }
   ],
   "source": [
    "%%time\n",
    "model = model.fit(interactions_matrix_csr, epochs=50)"
   ]
  },
  {
   "cell_type": "code",
   "execution_count": null,
   "metadata": {},
   "outputs": [
    {
     "data": {
      "text/plain": [
       "<lightfm.lightfm.LightFM at 0x15e048f68d0>"
      ]
     },
     "execution_count": 50,
     "metadata": {},
     "output_type": "execute_result"
    }
   ],
   "source": [
    "model"
   ]
  },
  {
   "cell_type": "markdown",
   "metadata": {},
   "source": [
    "### Metodos auxiliares\n",
    "Metodo para obtener las recomendaciones en caso de ColdStart"
   ]
  },
  {
   "cell_type": "code",
   "execution_count": null,
   "metadata": {},
   "outputs": [],
   "source": [
    "def getColdStarRecomm(dataset, no_recom): \n",
    "    '''\n",
    "    Esta funcion recibe el dataset y retonar una lista de tamaño no_recom con recomendaciones mas populares \n",
    "    '''\n",
    "    recomm = dataset.groupby(\"movieId\", as_index=False).agg({\"userId\":\"nunique\"}).sort_values(by=\"userId\", ascending=False)\n",
    "    recomm.columns=[\"movieId\", \"popularity\"]\n",
    "    return recomm.movieId.values[:no_recom]"
   ]
  },
  {
   "cell_type": "code",
   "execution_count": null,
   "metadata": {},
   "outputs": [],
   "source": [
    "def getColdStarRandomRecomm(dataset, no_recom):\n",
    "    '''\n",
    "    Esta funcion recibe el dataset y retonar una lista de tamaño no_recom con recomendaciones al azar \n",
    "    '''\n",
    "    recomm = dataset[[ 'movieId', 'userId']].sample(20, random_state=42)\n",
    "    recomm.columns=[\"movieId\", \"popularity\"]\n",
    "    return recomm.movieId.values[:no_recom]"
   ]
  },
  {
   "cell_type": "markdown",
   "metadata": {},
   "source": [
    "Metodo para obtener los scores a partir del modelo"
   ]
  },
  {
   "cell_type": "code",
   "execution_count": null,
   "metadata": {},
   "outputs": [],
   "source": [
    "def predict(user):\n",
    "    '''\n",
    "    Esta funcion recibe un usuario y retorna lista de scores\n",
    "    '''\n",
    "    user_predic = user_map[user]\n",
    "    n_users, n_items = interactions_matrix.shape\n",
    "    item_ids = np.arange(n_items)\n",
    "    return model.predict(user_ids=user_predic, item_ids = item_ids)"
   ]
  },
  {
   "cell_type": "markdown",
   "metadata": {},
   "source": [
    "Metodo para obtener las recomendaciones ordenadas"
   ]
  },
  {
   "cell_type": "code",
   "execution_count": null,
   "metadata": {},
   "outputs": [],
   "source": [
    "def getOrderedMoviesId(preds, no_recom):\n",
    "    '''\n",
    "    Esta funcion recibe los scores predecidos y retorna lista ordenada de moviesId\n",
    "    '''\n",
    "    recomm = pd.Series(preds)\n",
    "    recomm.index = interactions_matrix.columns\n",
    "    return list(pd.Series(recomm.sort_values(ascending=False).index))[:no_recom]"
   ]
  },
  {
   "cell_type": "markdown",
   "metadata": {},
   "source": [
    "Metodo para eliminar de las recomendaciones las peliculas ya vistas"
   ]
  },
  {
   "cell_type": "code",
   "execution_count": null,
   "metadata": {},
   "outputs": [],
   "source": [
    "def getNotWatchedMovieId(user, recomm):\n",
    "    '''\n",
    "    Esta funcion recibe las recomendaciones y retorna lista de recomendaciones sin las peliculas vistas por el usuario\n",
    "    '''\n",
    "    watched = train[train.userId == user].movieId.unique()\n",
    "    return [x for x in recomm if x not in watched][:20]"
   ]
  },
  {
   "cell_type": "code",
   "execution_count": null,
   "metadata": {},
   "outputs": [],
   "source": [
    "def recomm(user, no_recom, strategy):\n",
    "    result = None\n",
    "    if user in list(interactions_matrix.index):\n",
    "        score = predict(user)\n",
    "        recomm = getOrderedMoviesId(score, no_recom)\n",
    "        result = getNotWatchedMovieId(user, recomm)\n",
    "    else:\n",
    "        if strategy == 1:\n",
    "            result = getColdStarRecomm(train, 20)\n",
    "        if strategy == 2:\n",
    "            result = getColdStarRandomRecomm(train, 20)\n",
    "    return result"
   ]
  },
  {
   "cell_type": "markdown",
   "metadata": {},
   "source": [
    "### Recomendaciones\n",
    "Generamos recomendaciones para todos los ususarios de validation variando la estrategia de ColdStart\n",
    "\n",
    "Primero usamos recomendaciones con coldstart de mas populares "
   ]
  },
  {
   "cell_type": "code",
   "execution_count": null,
   "metadata": {},
   "outputs": [],
   "source": [
    "def recommAll_Validation(no_recom, strategy):\n",
    "    recomms_dict = {\n",
    "        'user_id': [],\n",
    "        'recomms': []\n",
    "    }\n",
    "    for user in validation.userId.unique():\n",
    "        recomms_dict['user_id'].append(user)\n",
    "        recomms_dict['recomms'].append(recomm(user, no_recom, strategy))\n",
    "    return pd.DataFrame(recomms_dict)\n"
   ]
  },
  {
   "cell_type": "code",
   "execution_count": null,
   "metadata": {},
   "outputs": [],
   "source": [
    "%%time\n",
    "pd.options.display.max_colwidth = None\n",
    "df_popular = recommAll_Validation(100, 1)#Populares\n",
    "df_popular.head(3)"
   ]
  },
  {
   "cell_type": "markdown",
   "metadata": {},
   "source": [
    "Recomendaciones con coldstar random"
   ]
  },
  {
   "cell_type": "code",
   "execution_count": null,
   "metadata": {},
   "outputs": [],
   "source": [
    "%%time\n",
    "df_random = recommAll_Validation(100, 2)#Random\n",
    "df_random.head(3)"
   ]
  },
  {
   "cell_type": "markdown",
   "metadata": {},
   "source": [
    "### Comparación\n",
    "Primero generamos la recomendaciones ideales del conjunto de validación."
   ]
  },
  {
   "cell_type": "code",
   "execution_count": null,
   "metadata": {},
   "outputs": [],
   "source": [
    "interactions_validation = validation[[\"userId\", \"movieId\", \"rating\"]].copy()\n",
    "interactions_validation.head()"
   ]
  },
  {
   "cell_type": "code",
   "execution_count": null,
   "metadata": {},
   "outputs": [],
   "source": [
    "ideal_recomms = interactions_validation.sort_values(by=[\"userId\", \"rating\"], ascending=False)\\\n",
    "                  .groupby(\"userId\", as_index=False)\\\n",
    "                  .agg({\"movieId\": \"unique\"})\n",
    "ideal_recomms.head(5)"
   ]
  },
  {
   "cell_type": "markdown",
   "metadata": {},
   "source": [
    "Proximo paso sería hacer nuevos dataframe, en donde combinariamos lo recomendado con la lista ideal para poder hacer la comparación.\n",
    "\n",
    "Primero con recomendaciones con estrategia de coldstart con películas populares"
   ]
  },
  {
   "cell_type": "code",
   "execution_count": null,
   "metadata": {},
   "outputs": [],
   "source": [
    "merged_df_popular = pd.merge(df_popular, ideal_recomms, left_on='user_id', right_on='userId', how='inner')\n",
    "merged_df_popular = merged_df_popular.rename(columns={'recomms': 'recomms_df', 'movieId': 'recomms_ideal'})\n",
    "merged_df_popular = merged_df_popular.drop(columns=['userId'])\n",
    "merged_df_popular.head()"
   ]
  },
  {
   "cell_type": "markdown",
   "metadata": {},
   "source": [
    "Hacemos lo mismo pero con las recomendaciones con estrategia de ColdStart de películas al azar"
   ]
  },
  {
   "cell_type": "code",
   "execution_count": null,
   "metadata": {},
   "outputs": [],
   "source": [
    "merged_df_random = pd.merge(df_random, ideal_recomms, left_on='user_id', right_on='userId', how='inner')\n",
    "merged_df_random = merged_df_random.rename(columns={'recomms': 'recomms_df', 'movieId': 'recomms_ideal'})\n",
    "merged_df_random = merged_df_random.drop(columns=['userId'])\n",
    "merged_df_random.head()"
   ]
  },
  {
   "cell_type": "markdown",
   "metadata": {},
   "source": [
    "## MAP - Métricas\n",
    "Utilizamos dos algoritmos de cálculos de métrica Map"
   ]
  },
  {
   "cell_type": "code",
   "execution_count": null,
   "metadata": {},
   "outputs": [],
   "source": [
    "def map(dataframe):\n",
    "  aps = []\n",
    "  for pred, label in dataframe[[\"recomms_ideal\", \"recomms_df\"]].values:\n",
    "    n = len(pred)\n",
    "    arange = np.arange(n, dtype=np.int32) + 1.\n",
    "    rel_k = np.in1d(pred[:n], label)\n",
    "    tp = np.ones(rel_k.sum(), dtype=np.int32).cumsum()\n",
    "    denom = arange[rel_k]\n",
    "    ap = (tp / denom).sum() / len(label)\n",
    "    aps.append(ap)\n",
    "  return aps"
   ]
  },
  {
   "cell_type": "markdown",
   "metadata": {},
   "source": [
    "Algoritmo investigado como alternativa"
   ]
  },
  {
   "cell_type": "code",
   "execution_count": null,
   "metadata": {},
   "outputs": [],
   "source": [
    "def calculate_map(recommendations, test):\n",
    "    average_precisions = []\n",
    "    for i in range(len(test)):\n",
    "        actual = test[i]\n",
    "        predicted = recommendations[i]\n",
    "        relevant_indices = np.nonzero(actual)[0]\n",
    "        if len(relevant_indices) == 0:\n",
    "            continue\n",
    "        precision_sum = 0.0\n",
    "        num_hits = 0\n",
    "        for j, item in enumerate(predicted):\n",
    "            if item in relevant_indices:\n",
    "                num_hits += 1\n",
    "                precision_sum += num_hits / (j + 1)\n",
    "        average_precision = precision_sum / len(relevant_indices)\n",
    "        average_precisions.append(average_precision)\n",
    "    return np.mean(average_precisions)"
   ]
  },
  {
   "cell_type": "markdown",
   "metadata": {},
   "source": [
    "Utilizamos ambos algoritmos para la estrategia de coldstart de peliculas populares"
   ]
  },
  {
   "cell_type": "code",
   "execution_count": null,
   "metadata": {},
   "outputs": [],
   "source": [
    "MAP_1 = np.mean(map(merged_df_popular))\n",
    "print(f'Mean Average Precision = {round(MAP_1, 5)}')"
   ]
  },
  {
   "cell_type": "code",
   "execution_count": null,
   "metadata": {},
   "outputs": [],
   "source": [
    "MAP_2 = calculate_map(merged_df_popular[\"recomms_df\"], merged_df_popular[\"recomms_ideal\"])\n",
    "print(f'Mean Average Precision = {round(MAP_2, 5)}')"
   ]
  },
  {
   "cell_type": "markdown",
   "metadata": {},
   "source": [
    "Realizamos lo mismo pero con estrategia de coldstart con peliculas al azar"
   ]
  },
  {
   "cell_type": "code",
   "execution_count": null,
   "metadata": {},
   "outputs": [],
   "source": [
    "MAP_1 = np.mean(map(merged_df_random))\n",
    "print(f'Mean Average Precision = {round(MAP_1, 5)}')"
   ]
  },
  {
   "cell_type": "code",
   "execution_count": null,
   "metadata": {},
   "outputs": [],
   "source": [
    "MAP_2 = calculate_map(merged_df_random[\"recomms_df\"], merged_df_random[\"recomms_ideal\"])\n",
    "print(f'Mean Average Precision = {round(MAP_2, 5)}')"
   ]
  },
  {
   "cell_type": "markdown",
   "metadata": {},
   "source": [
    "> Vemos que, con la estrategia de ColdStart con peliculas populares obtenemos mejores metricas "
   ]
  },
  {
   "cell_type": "markdown",
   "metadata": {},
   "source": [
    "### Evaluamos las metricas con dataset de test\n",
    "Como vimos que la mejor estrategia es la de ColdStart de películas populares, utilizamos esta para evaluar con dataset de test"
   ]
  },
  {
   "cell_type": "code",
   "execution_count": null,
   "metadata": {},
   "outputs": [],
   "source": [
    "def recommAll_test(no_recom, strategy):\n",
    "    recomms_dict = {\n",
    "        'user_id': [],\n",
    "        'recomms': []\n",
    "    }\n",
    "    for user in test.userId.unique():\n",
    "        recomms_dict['user_id'].append(user)\n",
    "        recomms_dict['recomms'].append(recomm(user, no_recom, strategy))\n",
    "    return pd.DataFrame(recomms_dict)"
   ]
  },
  {
   "cell_type": "markdown",
   "metadata": {},
   "source": [
    "Generamos las recomendaciones"
   ]
  },
  {
   "cell_type": "code",
   "execution_count": null,
   "metadata": {},
   "outputs": [],
   "source": [
    "%%time\n",
    "pd.options.display.max_colwidth = None\n",
    "df_test = recommAll_test(100, 1)#Populares\n",
    "df_test"
   ]
  },
  {
   "cell_type": "markdown",
   "metadata": {},
   "source": [
    "Recomendaciones ideales del conjunto de test."
   ]
  },
  {
   "cell_type": "code",
   "execution_count": null,
   "metadata": {},
   "outputs": [],
   "source": [
    "interactions_test = test[[\"userId\", \"movieId\", \"rating\"]].copy()\n",
    "interactions_test.head()"
   ]
  },
  {
   "cell_type": "code",
   "execution_count": null,
   "metadata": {},
   "outputs": [],
   "source": [
    "ideal_recomms2 = interactions_test.sort_values(by=[\"userId\", \"rating\"], ascending=False)\\\n",
    "                  .groupby(\"userId\", as_index=False)\\\n",
    "                  .agg({\"movieId\": \"unique\"})\n",
    "ideal_recomms2"
   ]
  },
  {
   "cell_type": "markdown",
   "metadata": {},
   "source": [
    "Dataframe, en donde combinariamos lo recomendado con la lista ideal para poder hacer la comparación."
   ]
  },
  {
   "cell_type": "code",
   "execution_count": null,
   "metadata": {},
   "outputs": [],
   "source": [
    "merged_df_test = pd.merge(df_test, ideal_recomms2, left_on='user_id', right_on='userId', how='inner')\n",
    "merged_df_test = merged_df_test.rename(columns={'recomms': 'recomms_df', 'movieId': 'recomms_ideal'})\n",
    "merged_df_test = merged_df_test.drop(columns=['userId'])\n",
    "\n",
    "merged_df_test.head()"
   ]
  },
  {
   "cell_type": "markdown",
   "metadata": {},
   "source": [
    "Generamos las métricas"
   ]
  },
  {
   "cell_type": "code",
   "execution_count": null,
   "metadata": {},
   "outputs": [],
   "source": [
    "MAP_1 = np.mean(map(merged_df_test))\n",
    "print(f'Mean Average Precision = {round(MAP_1, 5)}')"
   ]
  },
  {
   "cell_type": "code",
   "execution_count": null,
   "metadata": {},
   "outputs": [],
   "source": [
    "MAP_2 = calculate_map(merged_df_test[\"recomms_df\"], merged_df_test[\"recomms_ideal\"])\n",
    "print(f'Mean Average Precision = {round(MAP_2, 5)}')"
   ]
  }
 ],
 "metadata": {
  "kernelspec": {
   "display_name": "Python 3",
   "language": "python",
   "name": "python3"
  },
  "language_info": {
   "codemirror_mode": {
    "name": "ipython",
    "version": 3
   },
   "file_extension": ".py",
   "mimetype": "text/x-python",
   "name": "python",
   "nbconvert_exporter": "python",
   "pygments_lexer": "ipython3",
   "version": "3.11.5"
  }
 },
 "nbformat": 4,
 "nbformat_minor": 2
}
