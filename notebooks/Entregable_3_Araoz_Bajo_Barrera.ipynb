{
 "cells": [
  {
   "cell_type": "markdown",
   "metadata": {},
   "source": [
    "# 3er Entregable\n",
    "\n",
    "Integrantes:\n",
    "- Araoz, Tania\n",
    "- Bajo, Pablo\n",
    "- Barrera, Manuel"
   ]
  },
  {
   "cell_type": "markdown",
   "metadata": {},
   "source": [
    "### Carga de librerias a utilizar "
   ]
  },
  {
   "cell_type": "code",
   "execution_count": 386,
   "metadata": {},
   "outputs": [],
   "source": [
    "import pandas as pd\n",
    "from datetime import datetime\n",
    "from scipy.sparse import csr_matrix\n",
    "from lightfm import LightFM\n",
    "import numpy as np"
   ]
  },
  {
   "cell_type": "markdown",
   "metadata": {},
   "source": [
    "### Carga de datasets"
   ]
  },
  {
   "cell_type": "code",
   "execution_count": 387,
   "metadata": {},
   "outputs": [
    {
     "data": {
      "text/html": [
       "<div>\n",
       "<style scoped>\n",
       "    .dataframe tbody tr th:only-of-type {\n",
       "        vertical-align: middle;\n",
       "    }\n",
       "\n",
       "    .dataframe tbody tr th {\n",
       "        vertical-align: top;\n",
       "    }\n",
       "\n",
       "    .dataframe thead th {\n",
       "        text-align: right;\n",
       "    }\n",
       "</style>\n",
       "<table border=\"1\" class=\"dataframe\">\n",
       "  <thead>\n",
       "    <tr style=\"text-align: right;\">\n",
       "      <th></th>\n",
       "      <th>movieId</th>\n",
       "      <th>title</th>\n",
       "      <th>genres</th>\n",
       "    </tr>\n",
       "  </thead>\n",
       "  <tbody>\n",
       "    <tr>\n",
       "      <th>0</th>\n",
       "      <td>1</td>\n",
       "      <td>Toy Story (1995)</td>\n",
       "      <td>Adventure|Animation|Children|Comedy|Fantasy</td>\n",
       "    </tr>\n",
       "    <tr>\n",
       "      <th>1</th>\n",
       "      <td>2</td>\n",
       "      <td>Jumanji (1995)</td>\n",
       "      <td>Adventure|Children|Fantasy</td>\n",
       "    </tr>\n",
       "    <tr>\n",
       "      <th>2</th>\n",
       "      <td>3</td>\n",
       "      <td>Grumpier Old Men (1995)</td>\n",
       "      <td>Comedy|Romance</td>\n",
       "    </tr>\n",
       "    <tr>\n",
       "      <th>3</th>\n",
       "      <td>4</td>\n",
       "      <td>Waiting to Exhale (1995)</td>\n",
       "      <td>Comedy|Drama|Romance</td>\n",
       "    </tr>\n",
       "    <tr>\n",
       "      <th>4</th>\n",
       "      <td>5</td>\n",
       "      <td>Father of the Bride Part II (1995)</td>\n",
       "      <td>Comedy</td>\n",
       "    </tr>\n",
       "  </tbody>\n",
       "</table>\n",
       "</div>"
      ],
      "text/plain": [
       "   movieId                               title  \\\n",
       "0        1                    Toy Story (1995)   \n",
       "1        2                      Jumanji (1995)   \n",
       "2        3             Grumpier Old Men (1995)   \n",
       "3        4            Waiting to Exhale (1995)   \n",
       "4        5  Father of the Bride Part II (1995)   \n",
       "\n",
       "                                        genres  \n",
       "0  Adventure|Animation|Children|Comedy|Fantasy  \n",
       "1                   Adventure|Children|Fantasy  \n",
       "2                               Comedy|Romance  \n",
       "3                         Comedy|Drama|Romance  \n",
       "4                                       Comedy  "
      ]
     },
     "execution_count": 387,
     "metadata": {},
     "output_type": "execute_result"
    }
   ],
   "source": [
    "movies = pd.read_csv(\"../data/ml-latest/movies.csv\")\n",
    "movies.head()"
   ]
  },
  {
   "cell_type": "code",
   "execution_count": 388,
   "metadata": {},
   "outputs": [
    {
     "data": {
      "text/html": [
       "<div>\n",
       "<style scoped>\n",
       "    .dataframe tbody tr th:only-of-type {\n",
       "        vertical-align: middle;\n",
       "    }\n",
       "\n",
       "    .dataframe tbody tr th {\n",
       "        vertical-align: top;\n",
       "    }\n",
       "\n",
       "    .dataframe thead th {\n",
       "        text-align: right;\n",
       "    }\n",
       "</style>\n",
       "<table border=\"1\" class=\"dataframe\">\n",
       "  <thead>\n",
       "    <tr style=\"text-align: right;\">\n",
       "      <th></th>\n",
       "      <th>userId</th>\n",
       "      <th>movieId</th>\n",
       "      <th>rating</th>\n",
       "      <th>timestamp</th>\n",
       "    </tr>\n",
       "  </thead>\n",
       "  <tbody>\n",
       "    <tr>\n",
       "      <th>0</th>\n",
       "      <td>1</td>\n",
       "      <td>1</td>\n",
       "      <td>4.0</td>\n",
       "      <td>964982703</td>\n",
       "    </tr>\n",
       "    <tr>\n",
       "      <th>1</th>\n",
       "      <td>1</td>\n",
       "      <td>3</td>\n",
       "      <td>4.0</td>\n",
       "      <td>964981247</td>\n",
       "    </tr>\n",
       "    <tr>\n",
       "      <th>2</th>\n",
       "      <td>1</td>\n",
       "      <td>6</td>\n",
       "      <td>4.0</td>\n",
       "      <td>964982224</td>\n",
       "    </tr>\n",
       "    <tr>\n",
       "      <th>3</th>\n",
       "      <td>1</td>\n",
       "      <td>47</td>\n",
       "      <td>5.0</td>\n",
       "      <td>964983815</td>\n",
       "    </tr>\n",
       "    <tr>\n",
       "      <th>4</th>\n",
       "      <td>1</td>\n",
       "      <td>50</td>\n",
       "      <td>5.0</td>\n",
       "      <td>964982931</td>\n",
       "    </tr>\n",
       "    <tr>\n",
       "      <th>...</th>\n",
       "      <td>...</td>\n",
       "      <td>...</td>\n",
       "      <td>...</td>\n",
       "      <td>...</td>\n",
       "    </tr>\n",
       "    <tr>\n",
       "      <th>100831</th>\n",
       "      <td>610</td>\n",
       "      <td>166534</td>\n",
       "      <td>4.0</td>\n",
       "      <td>1493848402</td>\n",
       "    </tr>\n",
       "    <tr>\n",
       "      <th>100832</th>\n",
       "      <td>610</td>\n",
       "      <td>168248</td>\n",
       "      <td>5.0</td>\n",
       "      <td>1493850091</td>\n",
       "    </tr>\n",
       "    <tr>\n",
       "      <th>100833</th>\n",
       "      <td>610</td>\n",
       "      <td>168250</td>\n",
       "      <td>5.0</td>\n",
       "      <td>1494273047</td>\n",
       "    </tr>\n",
       "    <tr>\n",
       "      <th>100834</th>\n",
       "      <td>610</td>\n",
       "      <td>168252</td>\n",
       "      <td>5.0</td>\n",
       "      <td>1493846352</td>\n",
       "    </tr>\n",
       "    <tr>\n",
       "      <th>100835</th>\n",
       "      <td>610</td>\n",
       "      <td>170875</td>\n",
       "      <td>3.0</td>\n",
       "      <td>1493846415</td>\n",
       "    </tr>\n",
       "  </tbody>\n",
       "</table>\n",
       "<p>100836 rows × 4 columns</p>\n",
       "</div>"
      ],
      "text/plain": [
       "        userId  movieId  rating   timestamp\n",
       "0            1        1     4.0   964982703\n",
       "1            1        3     4.0   964981247\n",
       "2            1        6     4.0   964982224\n",
       "3            1       47     5.0   964983815\n",
       "4            1       50     5.0   964982931\n",
       "...        ...      ...     ...         ...\n",
       "100831     610   166534     4.0  1493848402\n",
       "100832     610   168248     5.0  1493850091\n",
       "100833     610   168250     5.0  1494273047\n",
       "100834     610   168252     5.0  1493846352\n",
       "100835     610   170875     3.0  1493846415\n",
       "\n",
       "[100836 rows x 4 columns]"
      ]
     },
     "execution_count": 388,
     "metadata": {},
     "output_type": "execute_result"
    }
   ],
   "source": [
    "ratings = pd.read_csv(\"../data/ml-latest/ratings.csv\")\n",
    "ratings"
   ]
  },
  {
   "cell_type": "markdown",
   "metadata": {},
   "source": [
    "> Se usa el dataset de ratings para trabajar, tiene las interacciones entre usuarios y películas"
   ]
  },
  {
   "cell_type": "code",
   "execution_count": 389,
   "metadata": {},
   "outputs": [
    {
     "name": "stdout",
     "output_type": "stream",
     "text": [
      "<class 'pandas.core.frame.DataFrame'>\n",
      "RangeIndex: 100836 entries, 0 to 100835\n",
      "Data columns (total 4 columns):\n",
      " #   Column     Non-Null Count   Dtype  \n",
      "---  ------     --------------   -----  \n",
      " 0   userId     100836 non-null  int64  \n",
      " 1   movieId    100836 non-null  int64  \n",
      " 2   rating     100836 non-null  float64\n",
      " 3   timestamp  100836 non-null  int64  \n",
      "dtypes: float64(1), int64(3)\n",
      "memory usage: 3.1 MB\n"
     ]
    }
   ],
   "source": [
    "ratings.info()"
   ]
  },
  {
   "cell_type": "markdown",
   "metadata": {},
   "source": [
    "> El dataset contiene 100836 interacciones. <span style=\"color:red\">ACTUALIZAR CON DATASET GRANDE</span>"
   ]
  },
  {
   "cell_type": "markdown",
   "metadata": {},
   "source": [
    "> El timestamp está en formato int64, se debe convertir a formato fecha para poder trabajar."
   ]
  },
  {
   "cell_type": "code",
   "execution_count": 390,
   "metadata": {},
   "outputs": [
    {
     "data": {
      "text/plain": [
       "userId       0\n",
       "movieId      0\n",
       "rating       0\n",
       "timestamp    0\n",
       "dtype: int64"
      ]
     },
     "execution_count": 390,
     "metadata": {},
     "output_type": "execute_result"
    }
   ],
   "source": [
    "ratings.isna().sum()"
   ]
  },
  {
   "cell_type": "markdown",
   "metadata": {},
   "source": [
    "> No hay valores nulos"
   ]
  },
  {
   "cell_type": "code",
   "execution_count": 391,
   "metadata": {},
   "outputs": [
    {
     "data": {
      "text/plain": [
       "610"
      ]
     },
     "execution_count": 391,
     "metadata": {},
     "output_type": "execute_result"
    }
   ],
   "source": [
    "ratings['userId'].nunique()"
   ]
  },
  {
   "cell_type": "markdown",
   "metadata": {},
   "source": [
    "> El dataset tiene 610 ususarios. <span style=\"color:red\">Cambiar con dataset grande</span> "
   ]
  },
  {
   "cell_type": "code",
   "execution_count": 392,
   "metadata": {},
   "outputs": [
    {
     "data": {
      "text/plain": [
       "9724"
      ]
     },
     "execution_count": 392,
     "metadata": {},
     "output_type": "execute_result"
    }
   ],
   "source": [
    "ratings['movieId'].nunique()"
   ]
  },
  {
   "cell_type": "markdown",
   "metadata": {},
   "source": [
    "> el dataset contiene ratings de 9724 peliculas. <span style=\"color:red\">Actualizar con dataset grande</span> "
   ]
  },
  {
   "cell_type": "code",
   "execution_count": 393,
   "metadata": {},
   "outputs": [
    {
     "data": {
      "text/plain": [
       "array([0.5, 1. , 1.5, 2. , 2.5, 3. , 3.5, 4. , 4.5, 5. ])"
      ]
     },
     "execution_count": 393,
     "metadata": {},
     "output_type": "execute_result"
    }
   ],
   "source": [
    "ratings['rating'].sort_values(ascending=True).unique()"
   ]
  },
  {
   "cell_type": "markdown",
   "metadata": {},
   "source": [
    "> Los valores posibles de ratings van del 0.5 al 5, con un incremento de 0.5. "
   ]
  },
  {
   "cell_type": "markdown",
   "metadata": {},
   "source": [
    "#### Preprocesado"
   ]
  },
  {
   "cell_type": "markdown",
   "metadata": {},
   "source": [
    "Convertimos el timestamp numerico en formato fecha"
   ]
  },
  {
   "cell_type": "code",
   "execution_count": 394,
   "metadata": {},
   "outputs": [],
   "source": [
    "ratings[\"timestamp\"] = ratings[\"timestamp\"].apply(lambda x: datetime.utcfromtimestamp(x).strftime('%Y/%m/%d'))"
   ]
  },
  {
   "cell_type": "code",
   "execution_count": 395,
   "metadata": {},
   "outputs": [
    {
     "data": {
      "text/plain": [
       "0         2000/07/30\n",
       "1         2000/07/30\n",
       "2         2000/07/30\n",
       "3         2000/07/30\n",
       "4         2000/07/30\n",
       "             ...    \n",
       "100831    2017/05/03\n",
       "100832    2017/05/03\n",
       "100833    2017/05/08\n",
       "100834    2017/05/03\n",
       "100835    2017/05/03\n",
       "Name: timestamp, Length: 100836, dtype: object"
      ]
     },
     "execution_count": 395,
     "metadata": {},
     "output_type": "execute_result"
    }
   ],
   "source": [
    "ratings[\"timestamp\"]"
   ]
  },
  {
   "cell_type": "markdown",
   "metadata": {},
   "source": [
    "> Vemos que la fecha tiene un formato de fecha, pero la columna es de tipo object"
   ]
  },
  {
   "cell_type": "markdown",
   "metadata": {},
   "source": [
    "Utilizando pandas convertimos a un formato de fechas que permita el filtrado"
   ]
  },
  {
   "cell_type": "code",
   "execution_count": 396,
   "metadata": {},
   "outputs": [],
   "source": [
    "ratings[\"timestamp\"] = pd.to_datetime(ratings['timestamp'], format='%Y/%m/%d')"
   ]
  },
  {
   "cell_type": "code",
   "execution_count": 397,
   "metadata": {},
   "outputs": [
    {
     "data": {
      "text/plain": [
       "0        2000-07-30\n",
       "1        2000-07-30\n",
       "2        2000-07-30\n",
       "3        2000-07-30\n",
       "4        2000-07-30\n",
       "            ...    \n",
       "100831   2017-05-03\n",
       "100832   2017-05-03\n",
       "100833   2017-05-08\n",
       "100834   2017-05-03\n",
       "100835   2017-05-03\n",
       "Name: timestamp, Length: 100836, dtype: datetime64[ns]"
      ]
     },
     "execution_count": 397,
     "metadata": {},
     "output_type": "execute_result"
    }
   ],
   "source": [
    "ratings[\"timestamp\"]"
   ]
  },
  {
   "cell_type": "markdown",
   "metadata": {},
   "source": [
    "> Vemos que la columna tiene el formato datetime64"
   ]
  },
  {
   "cell_type": "code",
   "execution_count": 398,
   "metadata": {},
   "outputs": [
    {
     "data": {
      "text/html": [
       "<div>\n",
       "<style scoped>\n",
       "    .dataframe tbody tr th:only-of-type {\n",
       "        vertical-align: middle;\n",
       "    }\n",
       "\n",
       "    .dataframe tbody tr th {\n",
       "        vertical-align: top;\n",
       "    }\n",
       "\n",
       "    .dataframe thead th {\n",
       "        text-align: right;\n",
       "    }\n",
       "</style>\n",
       "<table border=\"1\" class=\"dataframe\">\n",
       "  <thead>\n",
       "    <tr style=\"text-align: right;\">\n",
       "      <th></th>\n",
       "      <th>userId</th>\n",
       "      <th>movieId</th>\n",
       "      <th>rating</th>\n",
       "      <th>timestamp</th>\n",
       "    </tr>\n",
       "  </thead>\n",
       "  <tbody>\n",
       "    <tr>\n",
       "      <th>0</th>\n",
       "      <td>1</td>\n",
       "      <td>1</td>\n",
       "      <td>4.0</td>\n",
       "      <td>2000-07-30</td>\n",
       "    </tr>\n",
       "    <tr>\n",
       "      <th>1</th>\n",
       "      <td>1</td>\n",
       "      <td>3</td>\n",
       "      <td>4.0</td>\n",
       "      <td>2000-07-30</td>\n",
       "    </tr>\n",
       "    <tr>\n",
       "      <th>2</th>\n",
       "      <td>1</td>\n",
       "      <td>6</td>\n",
       "      <td>4.0</td>\n",
       "      <td>2000-07-30</td>\n",
       "    </tr>\n",
       "    <tr>\n",
       "      <th>3</th>\n",
       "      <td>1</td>\n",
       "      <td>47</td>\n",
       "      <td>5.0</td>\n",
       "      <td>2000-07-30</td>\n",
       "    </tr>\n",
       "    <tr>\n",
       "      <th>4</th>\n",
       "      <td>1</td>\n",
       "      <td>50</td>\n",
       "      <td>5.0</td>\n",
       "      <td>2000-07-30</td>\n",
       "    </tr>\n",
       "  </tbody>\n",
       "</table>\n",
       "</div>"
      ],
      "text/plain": [
       "   userId  movieId  rating  timestamp\n",
       "0       1        1     4.0 2000-07-30\n",
       "1       1        3     4.0 2000-07-30\n",
       "2       1        6     4.0 2000-07-30\n",
       "3       1       47     5.0 2000-07-30\n",
       "4       1       50     5.0 2000-07-30"
      ]
     },
     "execution_count": 398,
     "metadata": {},
     "output_type": "execute_result"
    }
   ],
   "source": [
    "ratings.head()"
   ]
  },
  {
   "cell_type": "markdown",
   "metadata": {},
   "source": [
    "Vemos el rango de fechas del dataset"
   ]
  },
  {
   "cell_type": "code",
   "execution_count": 399,
   "metadata": {},
   "outputs": [
    {
     "data": {
      "text/plain": [
       "Timestamp('1996-03-29 00:00:00')"
      ]
     },
     "execution_count": 399,
     "metadata": {},
     "output_type": "execute_result"
    }
   ],
   "source": [
    "ratings.timestamp.min()"
   ]
  },
  {
   "cell_type": "code",
   "execution_count": 400,
   "metadata": {},
   "outputs": [
    {
     "data": {
      "text/plain": [
       "Timestamp('2018-09-24 00:00:00')"
      ]
     },
     "execution_count": 400,
     "metadata": {},
     "output_type": "execute_result"
    }
   ],
   "source": [
    "ratings.timestamp.max()"
   ]
  },
  {
   "cell_type": "markdown",
   "metadata": {},
   "source": [
    "> Vemos que el rango de fechas va desde el 29/03/1996 al 24/09/24"
   ]
  },
  {
   "cell_type": "markdown",
   "metadata": {},
   "source": [
    "#### Dividimos dataset en train, test y validation\n",
    "Vemos la catidad de ratings por año"
   ]
  },
  {
   "cell_type": "code",
   "execution_count": 401,
   "metadata": {},
   "outputs": [
    {
     "data": {
      "text/html": [
       "<div>\n",
       "<style scoped>\n",
       "    .dataframe tbody tr th:only-of-type {\n",
       "        vertical-align: middle;\n",
       "    }\n",
       "\n",
       "    .dataframe tbody tr th {\n",
       "        vertical-align: top;\n",
       "    }\n",
       "\n",
       "    .dataframe thead th {\n",
       "        text-align: right;\n",
       "    }\n",
       "</style>\n",
       "<table border=\"1\" class=\"dataframe\">\n",
       "  <thead>\n",
       "    <tr style=\"text-align: right;\">\n",
       "      <th></th>\n",
       "      <th>year</th>\n",
       "      <th>reviews_count</th>\n",
       "    </tr>\n",
       "  </thead>\n",
       "  <tbody>\n",
       "    <tr>\n",
       "      <th>0</th>\n",
       "      <td>1996</td>\n",
       "      <td>6040</td>\n",
       "    </tr>\n",
       "    <tr>\n",
       "      <th>1</th>\n",
       "      <td>1997</td>\n",
       "      <td>1916</td>\n",
       "    </tr>\n",
       "    <tr>\n",
       "      <th>2</th>\n",
       "      <td>1998</td>\n",
       "      <td>507</td>\n",
       "    </tr>\n",
       "    <tr>\n",
       "      <th>3</th>\n",
       "      <td>1999</td>\n",
       "      <td>2439</td>\n",
       "    </tr>\n",
       "    <tr>\n",
       "      <th>4</th>\n",
       "      <td>2000</td>\n",
       "      <td>10061</td>\n",
       "    </tr>\n",
       "    <tr>\n",
       "      <th>5</th>\n",
       "      <td>2001</td>\n",
       "      <td>3922</td>\n",
       "    </tr>\n",
       "    <tr>\n",
       "      <th>6</th>\n",
       "      <td>2002</td>\n",
       "      <td>3478</td>\n",
       "    </tr>\n",
       "    <tr>\n",
       "      <th>7</th>\n",
       "      <td>2003</td>\n",
       "      <td>4014</td>\n",
       "    </tr>\n",
       "    <tr>\n",
       "      <th>8</th>\n",
       "      <td>2004</td>\n",
       "      <td>3279</td>\n",
       "    </tr>\n",
       "    <tr>\n",
       "      <th>9</th>\n",
       "      <td>2005</td>\n",
       "      <td>5813</td>\n",
       "    </tr>\n",
       "    <tr>\n",
       "      <th>10</th>\n",
       "      <td>2006</td>\n",
       "      <td>4059</td>\n",
       "    </tr>\n",
       "    <tr>\n",
       "      <th>11</th>\n",
       "      <td>2007</td>\n",
       "      <td>7114</td>\n",
       "    </tr>\n",
       "    <tr>\n",
       "      <th>12</th>\n",
       "      <td>2008</td>\n",
       "      <td>4351</td>\n",
       "    </tr>\n",
       "    <tr>\n",
       "      <th>13</th>\n",
       "      <td>2009</td>\n",
       "      <td>4158</td>\n",
       "    </tr>\n",
       "    <tr>\n",
       "      <th>14</th>\n",
       "      <td>2010</td>\n",
       "      <td>2301</td>\n",
       "    </tr>\n",
       "    <tr>\n",
       "      <th>15</th>\n",
       "      <td>2011</td>\n",
       "      <td>1690</td>\n",
       "    </tr>\n",
       "    <tr>\n",
       "      <th>16</th>\n",
       "      <td>2012</td>\n",
       "      <td>4656</td>\n",
       "    </tr>\n",
       "    <tr>\n",
       "      <th>17</th>\n",
       "      <td>2013</td>\n",
       "      <td>1664</td>\n",
       "    </tr>\n",
       "    <tr>\n",
       "      <th>18</th>\n",
       "      <td>2014</td>\n",
       "      <td>1439</td>\n",
       "    </tr>\n",
       "    <tr>\n",
       "      <th>19</th>\n",
       "      <td>2015</td>\n",
       "      <td>6616</td>\n",
       "    </tr>\n",
       "    <tr>\n",
       "      <th>20</th>\n",
       "      <td>2016</td>\n",
       "      <td>6703</td>\n",
       "    </tr>\n",
       "    <tr>\n",
       "      <th>21</th>\n",
       "      <td>2017</td>\n",
       "      <td>8198</td>\n",
       "    </tr>\n",
       "    <tr>\n",
       "      <th>22</th>\n",
       "      <td>2018</td>\n",
       "      <td>6418</td>\n",
       "    </tr>\n",
       "  </tbody>\n",
       "</table>\n",
       "</div>"
      ],
      "text/plain": [
       "    year  reviews_count\n",
       "0   1996           6040\n",
       "1   1997           1916\n",
       "2   1998            507\n",
       "3   1999           2439\n",
       "4   2000          10061\n",
       "5   2001           3922\n",
       "6   2002           3478\n",
       "7   2003           4014\n",
       "8   2004           3279\n",
       "9   2005           5813\n",
       "10  2006           4059\n",
       "11  2007           7114\n",
       "12  2008           4351\n",
       "13  2009           4158\n",
       "14  2010           2301\n",
       "15  2011           1690\n",
       "16  2012           4656\n",
       "17  2013           1664\n",
       "18  2014           1439\n",
       "19  2015           6616\n",
       "20  2016           6703\n",
       "21  2017           8198\n",
       "22  2018           6418"
      ]
     },
     "execution_count": 401,
     "metadata": {},
     "output_type": "execute_result"
    }
   ],
   "source": [
    "plot_df = ratings.copy()\n",
    "plot_df[\"year\"] = ratings.timestamp.dt.year\n",
    "plot_df = plot_df.groupby(\"year\", as_index=False).count()[[\"year\", \"userId\"]]\n",
    "plot_df.columns = [\"year\", \"reviews_count\"]\n",
    "plot_df.head(25)"
   ]
  },
  {
   "cell_type": "markdown",
   "metadata": {},
   "source": [
    "> Tomamos una proporción 80/20 para dividir el dataset en train - test"
   ]
  },
  {
   "cell_type": "code",
   "execution_count": 402,
   "metadata": {},
   "outputs": [
    {
     "data": {
      "text/html": [
       "<div>\n",
       "<style scoped>\n",
       "    .dataframe tbody tr th:only-of-type {\n",
       "        vertical-align: middle;\n",
       "    }\n",
       "\n",
       "    .dataframe tbody tr th {\n",
       "        vertical-align: top;\n",
       "    }\n",
       "\n",
       "    .dataframe thead th {\n",
       "        text-align: right;\n",
       "    }\n",
       "</style>\n",
       "<table border=\"1\" class=\"dataframe\">\n",
       "  <thead>\n",
       "    <tr style=\"text-align: right;\">\n",
       "      <th></th>\n",
       "      <th>userId</th>\n",
       "      <th>movieId</th>\n",
       "      <th>rating</th>\n",
       "      <th>timestamp</th>\n",
       "    </tr>\n",
       "  </thead>\n",
       "  <tbody>\n",
       "    <tr>\n",
       "      <th>0</th>\n",
       "      <td>1</td>\n",
       "      <td>1</td>\n",
       "      <td>4.0</td>\n",
       "      <td>2000-07-30</td>\n",
       "    </tr>\n",
       "    <tr>\n",
       "      <th>1</th>\n",
       "      <td>1</td>\n",
       "      <td>3</td>\n",
       "      <td>4.0</td>\n",
       "      <td>2000-07-30</td>\n",
       "    </tr>\n",
       "    <tr>\n",
       "      <th>2</th>\n",
       "      <td>1</td>\n",
       "      <td>6</td>\n",
       "      <td>4.0</td>\n",
       "      <td>2000-07-30</td>\n",
       "    </tr>\n",
       "    <tr>\n",
       "      <th>3</th>\n",
       "      <td>1</td>\n",
       "      <td>47</td>\n",
       "      <td>5.0</td>\n",
       "      <td>2000-07-30</td>\n",
       "    </tr>\n",
       "    <tr>\n",
       "      <th>4</th>\n",
       "      <td>1</td>\n",
       "      <td>50</td>\n",
       "      <td>5.0</td>\n",
       "      <td>2000-07-30</td>\n",
       "    </tr>\n",
       "  </tbody>\n",
       "</table>\n",
       "</div>"
      ],
      "text/plain": [
       "   userId  movieId  rating  timestamp\n",
       "0       1        1     4.0 2000-07-30\n",
       "1       1        3     4.0 2000-07-30\n",
       "2       1        6     4.0 2000-07-30\n",
       "3       1       47     5.0 2000-07-30\n",
       "4       1       50     5.0 2000-07-30"
      ]
     },
     "execution_count": 402,
     "metadata": {},
     "output_type": "execute_result"
    }
   ],
   "source": [
    "train = ratings[(ratings.timestamp < datetime(year=2016, month=1, day=1))]\n",
    "train.head()"
   ]
  },
  {
   "cell_type": "code",
   "execution_count": 403,
   "metadata": {},
   "outputs": [
    {
     "data": {
      "text/plain": [
       "(79517, 4)"
      ]
     },
     "execution_count": 403,
     "metadata": {},
     "output_type": "execute_result"
    }
   ],
   "source": [
    "train.shape"
   ]
  },
  {
   "cell_type": "code",
   "execution_count": 404,
   "metadata": {},
   "outputs": [
    {
     "data": {
      "text/plain": [
       "514"
      ]
     },
     "execution_count": 404,
     "metadata": {},
     "output_type": "execute_result"
    }
   ],
   "source": [
    "train.userId.nunique()"
   ]
  },
  {
   "cell_type": "code",
   "execution_count": 405,
   "metadata": {},
   "outputs": [
    {
     "data": {
      "text/plain": [
       "7789"
      ]
     },
     "execution_count": 405,
     "metadata": {},
     "output_type": "execute_result"
    }
   ],
   "source": [
    "train.movieId.nunique()"
   ]
  },
  {
   "cell_type": "code",
   "execution_count": 406,
   "metadata": {},
   "outputs": [
    {
     "data": {
      "text/html": [
       "<div>\n",
       "<style scoped>\n",
       "    .dataframe tbody tr th:only-of-type {\n",
       "        vertical-align: middle;\n",
       "    }\n",
       "\n",
       "    .dataframe tbody tr th {\n",
       "        vertical-align: top;\n",
       "    }\n",
       "\n",
       "    .dataframe thead th {\n",
       "        text-align: right;\n",
       "    }\n",
       "</style>\n",
       "<table border=\"1\" class=\"dataframe\">\n",
       "  <thead>\n",
       "    <tr style=\"text-align: right;\">\n",
       "      <th></th>\n",
       "      <th>userId</th>\n",
       "      <th>movieId</th>\n",
       "      <th>rating</th>\n",
       "      <th>timestamp</th>\n",
       "    </tr>\n",
       "  </thead>\n",
       "  <tbody>\n",
       "    <tr>\n",
       "      <th>1119</th>\n",
       "      <td>10</td>\n",
       "      <td>296</td>\n",
       "      <td>1.0</td>\n",
       "      <td>2016-02-12</td>\n",
       "    </tr>\n",
       "    <tr>\n",
       "      <th>1120</th>\n",
       "      <td>10</td>\n",
       "      <td>356</td>\n",
       "      <td>3.5</td>\n",
       "      <td>2016-02-12</td>\n",
       "    </tr>\n",
       "    <tr>\n",
       "      <th>1121</th>\n",
       "      <td>10</td>\n",
       "      <td>588</td>\n",
       "      <td>4.0</td>\n",
       "      <td>2016-02-12</td>\n",
       "    </tr>\n",
       "    <tr>\n",
       "      <th>1122</th>\n",
       "      <td>10</td>\n",
       "      <td>597</td>\n",
       "      <td>3.5</td>\n",
       "      <td>2016-02-13</td>\n",
       "    </tr>\n",
       "    <tr>\n",
       "      <th>1123</th>\n",
       "      <td>10</td>\n",
       "      <td>912</td>\n",
       "      <td>4.0</td>\n",
       "      <td>2016-02-12</td>\n",
       "    </tr>\n",
       "  </tbody>\n",
       "</table>\n",
       "</div>"
      ],
      "text/plain": [
       "      userId  movieId  rating  timestamp\n",
       "1119      10      296     1.0 2016-02-12\n",
       "1120      10      356     3.5 2016-02-12\n",
       "1121      10      588     4.0 2016-02-12\n",
       "1122      10      597     3.5 2016-02-13\n",
       "1123      10      912     4.0 2016-02-12"
      ]
     },
     "execution_count": 406,
     "metadata": {},
     "output_type": "execute_result"
    }
   ],
   "source": [
    "test = ratings[ratings.timestamp >= datetime(year=2016, month=1, day=1)]\n",
    "test.head()"
   ]
  },
  {
   "cell_type": "code",
   "execution_count": 407,
   "metadata": {},
   "outputs": [
    {
     "data": {
      "text/plain": [
       "(21319, 4)"
      ]
     },
     "execution_count": 407,
     "metadata": {},
     "output_type": "execute_result"
    }
   ],
   "source": [
    "test.shape"
   ]
  },
  {
   "cell_type": "code",
   "execution_count": 408,
   "metadata": {},
   "outputs": [
    {
     "data": {
      "text/plain": [
       "120"
      ]
     },
     "execution_count": 408,
     "metadata": {},
     "output_type": "execute_result"
    }
   ],
   "source": [
    "test.userId.nunique()"
   ]
  },
  {
   "cell_type": "code",
   "execution_count": 409,
   "metadata": {},
   "outputs": [
    {
     "data": {
      "text/plain": [
       "5714"
      ]
     },
     "execution_count": 409,
     "metadata": {},
     "output_type": "execute_result"
    }
   ],
   "source": [
    "test.movieId.nunique()"
   ]
  },
  {
   "cell_type": "code",
   "execution_count": 410,
   "metadata": {},
   "outputs": [
    {
     "data": {
      "text/html": [
       "<div>\n",
       "<style scoped>\n",
       "    .dataframe tbody tr th:only-of-type {\n",
       "        vertical-align: middle;\n",
       "    }\n",
       "\n",
       "    .dataframe tbody tr th {\n",
       "        vertical-align: top;\n",
       "    }\n",
       "\n",
       "    .dataframe thead th {\n",
       "        text-align: right;\n",
       "    }\n",
       "</style>\n",
       "<table border=\"1\" class=\"dataframe\">\n",
       "  <thead>\n",
       "    <tr style=\"text-align: right;\">\n",
       "      <th></th>\n",
       "      <th>year</th>\n",
       "      <th>reviews_count</th>\n",
       "    </tr>\n",
       "  </thead>\n",
       "  <tbody>\n",
       "    <tr>\n",
       "      <th>0</th>\n",
       "      <td>1996</td>\n",
       "      <td>6040</td>\n",
       "    </tr>\n",
       "    <tr>\n",
       "      <th>1</th>\n",
       "      <td>1997</td>\n",
       "      <td>1916</td>\n",
       "    </tr>\n",
       "    <tr>\n",
       "      <th>2</th>\n",
       "      <td>1998</td>\n",
       "      <td>507</td>\n",
       "    </tr>\n",
       "    <tr>\n",
       "      <th>3</th>\n",
       "      <td>1999</td>\n",
       "      <td>2439</td>\n",
       "    </tr>\n",
       "    <tr>\n",
       "      <th>4</th>\n",
       "      <td>2000</td>\n",
       "      <td>10061</td>\n",
       "    </tr>\n",
       "    <tr>\n",
       "      <th>5</th>\n",
       "      <td>2001</td>\n",
       "      <td>3922</td>\n",
       "    </tr>\n",
       "    <tr>\n",
       "      <th>6</th>\n",
       "      <td>2002</td>\n",
       "      <td>3478</td>\n",
       "    </tr>\n",
       "    <tr>\n",
       "      <th>7</th>\n",
       "      <td>2003</td>\n",
       "      <td>4014</td>\n",
       "    </tr>\n",
       "    <tr>\n",
       "      <th>8</th>\n",
       "      <td>2004</td>\n",
       "      <td>3279</td>\n",
       "    </tr>\n",
       "    <tr>\n",
       "      <th>9</th>\n",
       "      <td>2005</td>\n",
       "      <td>5813</td>\n",
       "    </tr>\n",
       "    <tr>\n",
       "      <th>10</th>\n",
       "      <td>2006</td>\n",
       "      <td>4059</td>\n",
       "    </tr>\n",
       "    <tr>\n",
       "      <th>11</th>\n",
       "      <td>2007</td>\n",
       "      <td>7114</td>\n",
       "    </tr>\n",
       "    <tr>\n",
       "      <th>12</th>\n",
       "      <td>2008</td>\n",
       "      <td>4351</td>\n",
       "    </tr>\n",
       "    <tr>\n",
       "      <th>13</th>\n",
       "      <td>2009</td>\n",
       "      <td>4158</td>\n",
       "    </tr>\n",
       "    <tr>\n",
       "      <th>14</th>\n",
       "      <td>2010</td>\n",
       "      <td>2301</td>\n",
       "    </tr>\n",
       "    <tr>\n",
       "      <th>15</th>\n",
       "      <td>2011</td>\n",
       "      <td>1690</td>\n",
       "    </tr>\n",
       "    <tr>\n",
       "      <th>16</th>\n",
       "      <td>2012</td>\n",
       "      <td>4656</td>\n",
       "    </tr>\n",
       "    <tr>\n",
       "      <th>17</th>\n",
       "      <td>2013</td>\n",
       "      <td>1664</td>\n",
       "    </tr>\n",
       "    <tr>\n",
       "      <th>18</th>\n",
       "      <td>2014</td>\n",
       "      <td>1439</td>\n",
       "    </tr>\n",
       "    <tr>\n",
       "      <th>19</th>\n",
       "      <td>2015</td>\n",
       "      <td>6616</td>\n",
       "    </tr>\n",
       "  </tbody>\n",
       "</table>\n",
       "</div>"
      ],
      "text/plain": [
       "    year  reviews_count\n",
       "0   1996           6040\n",
       "1   1997           1916\n",
       "2   1998            507\n",
       "3   1999           2439\n",
       "4   2000          10061\n",
       "5   2001           3922\n",
       "6   2002           3478\n",
       "7   2003           4014\n",
       "8   2004           3279\n",
       "9   2005           5813\n",
       "10  2006           4059\n",
       "11  2007           7114\n",
       "12  2008           4351\n",
       "13  2009           4158\n",
       "14  2010           2301\n",
       "15  2011           1690\n",
       "16  2012           4656\n",
       "17  2013           1664\n",
       "18  2014           1439\n",
       "19  2015           6616"
      ]
     },
     "execution_count": 410,
     "metadata": {},
     "output_type": "execute_result"
    }
   ],
   "source": [
    "plot_df = train.copy()\n",
    "plot_df[\"year\"] = train.timestamp.dt.year\n",
    "plot_df = plot_df.groupby(\"year\", as_index=False).count()[[\"year\", \"userId\"]]\n",
    "plot_df.columns = [\"year\", \"reviews_count\"]\n",
    "plot_df.head(25)"
   ]
  },
  {
   "cell_type": "code",
   "execution_count": 411,
   "metadata": {},
   "outputs": [
    {
     "data": {
      "text/plain": [
       "(79517, 4)"
      ]
     },
     "execution_count": 411,
     "metadata": {},
     "output_type": "execute_result"
    }
   ],
   "source": [
    "train.shape"
   ]
  },
  {
   "cell_type": "markdown",
   "metadata": {},
   "source": [
    "> Definimos el conjunto de validación, en función de nuestro conjunto de entrenamiento. <span style=\"color:red\">Actualizar con dataset grande</span>"
   ]
  },
  {
   "cell_type": "code",
   "execution_count": 412,
   "metadata": {},
   "outputs": [
    {
     "data": {
      "text/html": [
       "<div>\n",
       "<style scoped>\n",
       "    .dataframe tbody tr th:only-of-type {\n",
       "        vertical-align: middle;\n",
       "    }\n",
       "\n",
       "    .dataframe tbody tr th {\n",
       "        vertical-align: top;\n",
       "    }\n",
       "\n",
       "    .dataframe thead th {\n",
       "        text-align: right;\n",
       "    }\n",
       "</style>\n",
       "<table border=\"1\" class=\"dataframe\">\n",
       "  <thead>\n",
       "    <tr style=\"text-align: right;\">\n",
       "      <th></th>\n",
       "      <th>userId</th>\n",
       "      <th>movieId</th>\n",
       "      <th>rating</th>\n",
       "      <th>timestamp</th>\n",
       "    </tr>\n",
       "  </thead>\n",
       "  <tbody>\n",
       "    <tr>\n",
       "      <th>232</th>\n",
       "      <td>2</td>\n",
       "      <td>318</td>\n",
       "      <td>3.0</td>\n",
       "      <td>2015-10-24</td>\n",
       "    </tr>\n",
       "    <tr>\n",
       "      <th>233</th>\n",
       "      <td>2</td>\n",
       "      <td>333</td>\n",
       "      <td>4.0</td>\n",
       "      <td>2015-10-24</td>\n",
       "    </tr>\n",
       "    <tr>\n",
       "      <th>234</th>\n",
       "      <td>2</td>\n",
       "      <td>1704</td>\n",
       "      <td>4.5</td>\n",
       "      <td>2015-10-24</td>\n",
       "    </tr>\n",
       "    <tr>\n",
       "      <th>235</th>\n",
       "      <td>2</td>\n",
       "      <td>3578</td>\n",
       "      <td>4.0</td>\n",
       "      <td>2015-10-24</td>\n",
       "    </tr>\n",
       "    <tr>\n",
       "      <th>236</th>\n",
       "      <td>2</td>\n",
       "      <td>6874</td>\n",
       "      <td>4.0</td>\n",
       "      <td>2015-10-24</td>\n",
       "    </tr>\n",
       "  </tbody>\n",
       "</table>\n",
       "</div>"
      ],
      "text/plain": [
       "     userId  movieId  rating  timestamp\n",
       "232       2      318     3.0 2015-10-24\n",
       "233       2      333     4.0 2015-10-24\n",
       "234       2     1704     4.5 2015-10-24\n",
       "235       2     3578     4.0 2015-10-24\n",
       "236       2     6874     4.0 2015-10-24"
      ]
     },
     "execution_count": 412,
     "metadata": {},
     "output_type": "execute_result"
    }
   ],
   "source": [
    "validation = train[train.timestamp >= datetime(year=2014, month=1, day=1)]\n",
    "validation.head()"
   ]
  },
  {
   "cell_type": "code",
   "execution_count": 413,
   "metadata": {},
   "outputs": [
    {
     "data": {
      "text/plain": [
       "(8055, 4)"
      ]
     },
     "execution_count": 413,
     "metadata": {},
     "output_type": "execute_result"
    }
   ],
   "source": [
    "validation.shape"
   ]
  },
  {
   "cell_type": "code",
   "execution_count": 414,
   "metadata": {},
   "outputs": [
    {
     "data": {
      "text/plain": [
       "69"
      ]
     },
     "execution_count": 414,
     "metadata": {},
     "output_type": "execute_result"
    }
   ],
   "source": [
    "validation.userId.nunique()"
   ]
  },
  {
   "cell_type": "code",
   "execution_count": 415,
   "metadata": {},
   "outputs": [
    {
     "data": {
      "text/plain": [
       "2732"
      ]
     },
     "execution_count": 415,
     "metadata": {},
     "output_type": "execute_result"
    }
   ],
   "source": [
    "validation.movieId.nunique()"
   ]
  },
  {
   "cell_type": "code",
   "execution_count": 416,
   "metadata": {},
   "outputs": [
    {
     "data": {
      "text/html": [
       "<div>\n",
       "<style scoped>\n",
       "    .dataframe tbody tr th:only-of-type {\n",
       "        vertical-align: middle;\n",
       "    }\n",
       "\n",
       "    .dataframe tbody tr th {\n",
       "        vertical-align: top;\n",
       "    }\n",
       "\n",
       "    .dataframe thead th {\n",
       "        text-align: right;\n",
       "    }\n",
       "</style>\n",
       "<table border=\"1\" class=\"dataframe\">\n",
       "  <thead>\n",
       "    <tr style=\"text-align: right;\">\n",
       "      <th></th>\n",
       "      <th>year</th>\n",
       "      <th>reviews_count</th>\n",
       "    </tr>\n",
       "  </thead>\n",
       "  <tbody>\n",
       "    <tr>\n",
       "      <th>0</th>\n",
       "      <td>2014</td>\n",
       "      <td>1439</td>\n",
       "    </tr>\n",
       "    <tr>\n",
       "      <th>1</th>\n",
       "      <td>2015</td>\n",
       "      <td>6616</td>\n",
       "    </tr>\n",
       "  </tbody>\n",
       "</table>\n",
       "</div>"
      ],
      "text/plain": [
       "   year  reviews_count\n",
       "0  2014           1439\n",
       "1  2015           6616"
      ]
     },
     "execution_count": 416,
     "metadata": {},
     "output_type": "execute_result"
    }
   ],
   "source": [
    "plot_df = validation.copy()\n",
    "plot_df[\"year\"] = validation.timestamp.dt.year\n",
    "plot_df = plot_df.groupby(\"year\", as_index=False).count()[[\"year\", \"userId\"]]\n",
    "plot_df.columns = [\"year\", \"reviews_count\"]\n",
    "plot_df.head(25)"
   ]
  },
  {
   "cell_type": "markdown",
   "metadata": {},
   "source": [
    "> Redefinimos el conjunto de entrenamiento. <span style=\"color:red\">Actualizar con dataset grande</span>"
   ]
  },
  {
   "cell_type": "code",
   "execution_count": 417,
   "metadata": {},
   "outputs": [
    {
     "data": {
      "text/html": [
       "<div>\n",
       "<style scoped>\n",
       "    .dataframe tbody tr th:only-of-type {\n",
       "        vertical-align: middle;\n",
       "    }\n",
       "\n",
       "    .dataframe tbody tr th {\n",
       "        vertical-align: top;\n",
       "    }\n",
       "\n",
       "    .dataframe thead th {\n",
       "        text-align: right;\n",
       "    }\n",
       "</style>\n",
       "<table border=\"1\" class=\"dataframe\">\n",
       "  <thead>\n",
       "    <tr style=\"text-align: right;\">\n",
       "      <th></th>\n",
       "      <th>userId</th>\n",
       "      <th>movieId</th>\n",
       "      <th>rating</th>\n",
       "      <th>timestamp</th>\n",
       "    </tr>\n",
       "  </thead>\n",
       "  <tbody>\n",
       "    <tr>\n",
       "      <th>0</th>\n",
       "      <td>1</td>\n",
       "      <td>1</td>\n",
       "      <td>4.0</td>\n",
       "      <td>2000-07-30</td>\n",
       "    </tr>\n",
       "    <tr>\n",
       "      <th>1</th>\n",
       "      <td>1</td>\n",
       "      <td>3</td>\n",
       "      <td>4.0</td>\n",
       "      <td>2000-07-30</td>\n",
       "    </tr>\n",
       "    <tr>\n",
       "      <th>2</th>\n",
       "      <td>1</td>\n",
       "      <td>6</td>\n",
       "      <td>4.0</td>\n",
       "      <td>2000-07-30</td>\n",
       "    </tr>\n",
       "    <tr>\n",
       "      <th>3</th>\n",
       "      <td>1</td>\n",
       "      <td>47</td>\n",
       "      <td>5.0</td>\n",
       "      <td>2000-07-30</td>\n",
       "    </tr>\n",
       "    <tr>\n",
       "      <th>4</th>\n",
       "      <td>1</td>\n",
       "      <td>50</td>\n",
       "      <td>5.0</td>\n",
       "      <td>2000-07-30</td>\n",
       "    </tr>\n",
       "  </tbody>\n",
       "</table>\n",
       "</div>"
      ],
      "text/plain": [
       "   userId  movieId  rating  timestamp\n",
       "0       1        1     4.0 2000-07-30\n",
       "1       1        3     4.0 2000-07-30\n",
       "2       1        6     4.0 2000-07-30\n",
       "3       1       47     5.0 2000-07-30\n",
       "4       1       50     5.0 2000-07-30"
      ]
     },
     "execution_count": 417,
     "metadata": {},
     "output_type": "execute_result"
    }
   ],
   "source": [
    "train = train[(train.timestamp < datetime(year=2014, month=1, day=1))]\n",
    "train.head()"
   ]
  },
  {
   "cell_type": "code",
   "execution_count": 418,
   "metadata": {},
   "outputs": [
    {
     "data": {
      "text/html": [
       "<div>\n",
       "<style scoped>\n",
       "    .dataframe tbody tr th:only-of-type {\n",
       "        vertical-align: middle;\n",
       "    }\n",
       "\n",
       "    .dataframe tbody tr th {\n",
       "        vertical-align: top;\n",
       "    }\n",
       "\n",
       "    .dataframe thead th {\n",
       "        text-align: right;\n",
       "    }\n",
       "</style>\n",
       "<table border=\"1\" class=\"dataframe\">\n",
       "  <thead>\n",
       "    <tr style=\"text-align: right;\">\n",
       "      <th></th>\n",
       "      <th>year</th>\n",
       "      <th>reviews_count</th>\n",
       "    </tr>\n",
       "  </thead>\n",
       "  <tbody>\n",
       "    <tr>\n",
       "      <th>0</th>\n",
       "      <td>1996</td>\n",
       "      <td>6040</td>\n",
       "    </tr>\n",
       "    <tr>\n",
       "      <th>1</th>\n",
       "      <td>1997</td>\n",
       "      <td>1916</td>\n",
       "    </tr>\n",
       "    <tr>\n",
       "      <th>2</th>\n",
       "      <td>1998</td>\n",
       "      <td>507</td>\n",
       "    </tr>\n",
       "    <tr>\n",
       "      <th>3</th>\n",
       "      <td>1999</td>\n",
       "      <td>2439</td>\n",
       "    </tr>\n",
       "    <tr>\n",
       "      <th>4</th>\n",
       "      <td>2000</td>\n",
       "      <td>10061</td>\n",
       "    </tr>\n",
       "    <tr>\n",
       "      <th>5</th>\n",
       "      <td>2001</td>\n",
       "      <td>3922</td>\n",
       "    </tr>\n",
       "    <tr>\n",
       "      <th>6</th>\n",
       "      <td>2002</td>\n",
       "      <td>3478</td>\n",
       "    </tr>\n",
       "    <tr>\n",
       "      <th>7</th>\n",
       "      <td>2003</td>\n",
       "      <td>4014</td>\n",
       "    </tr>\n",
       "    <tr>\n",
       "      <th>8</th>\n",
       "      <td>2004</td>\n",
       "      <td>3279</td>\n",
       "    </tr>\n",
       "    <tr>\n",
       "      <th>9</th>\n",
       "      <td>2005</td>\n",
       "      <td>5813</td>\n",
       "    </tr>\n",
       "    <tr>\n",
       "      <th>10</th>\n",
       "      <td>2006</td>\n",
       "      <td>4059</td>\n",
       "    </tr>\n",
       "    <tr>\n",
       "      <th>11</th>\n",
       "      <td>2007</td>\n",
       "      <td>7114</td>\n",
       "    </tr>\n",
       "    <tr>\n",
       "      <th>12</th>\n",
       "      <td>2008</td>\n",
       "      <td>4351</td>\n",
       "    </tr>\n",
       "    <tr>\n",
       "      <th>13</th>\n",
       "      <td>2009</td>\n",
       "      <td>4158</td>\n",
       "    </tr>\n",
       "    <tr>\n",
       "      <th>14</th>\n",
       "      <td>2010</td>\n",
       "      <td>2301</td>\n",
       "    </tr>\n",
       "    <tr>\n",
       "      <th>15</th>\n",
       "      <td>2011</td>\n",
       "      <td>1690</td>\n",
       "    </tr>\n",
       "    <tr>\n",
       "      <th>16</th>\n",
       "      <td>2012</td>\n",
       "      <td>4656</td>\n",
       "    </tr>\n",
       "    <tr>\n",
       "      <th>17</th>\n",
       "      <td>2013</td>\n",
       "      <td>1664</td>\n",
       "    </tr>\n",
       "  </tbody>\n",
       "</table>\n",
       "</div>"
      ],
      "text/plain": [
       "    year  reviews_count\n",
       "0   1996           6040\n",
       "1   1997           1916\n",
       "2   1998            507\n",
       "3   1999           2439\n",
       "4   2000          10061\n",
       "5   2001           3922\n",
       "6   2002           3478\n",
       "7   2003           4014\n",
       "8   2004           3279\n",
       "9   2005           5813\n",
       "10  2006           4059\n",
       "11  2007           7114\n",
       "12  2008           4351\n",
       "13  2009           4158\n",
       "14  2010           2301\n",
       "15  2011           1690\n",
       "16  2012           4656\n",
       "17  2013           1664"
      ]
     },
     "execution_count": 418,
     "metadata": {},
     "output_type": "execute_result"
    }
   ],
   "source": [
    "plot_df = train.copy()\n",
    "plot_df[\"year\"] = train.timestamp.dt.year\n",
    "plot_df = plot_df.groupby(\"year\", as_index=False).count()[[\"year\", \"userId\"]]\n",
    "plot_df.columns = [\"year\", \"reviews_count\"]\n",
    "plot_df.head(25)"
   ]
  },
  {
   "cell_type": "code",
   "execution_count": 419,
   "metadata": {},
   "outputs": [
    {
     "data": {
      "text/plain": [
       "(71462, 4)"
      ]
     },
     "execution_count": 419,
     "metadata": {},
     "output_type": "execute_result"
    }
   ],
   "source": [
    "train.shape"
   ]
  },
  {
   "cell_type": "markdown",
   "metadata": {},
   "source": [
    "¿Tenemos COLDSTAR? "
   ]
  },
  {
   "cell_type": "code",
   "execution_count": 420,
   "metadata": {},
   "outputs": [
    {
     "data": {
      "text/plain": [
       "109"
      ]
     },
     "execution_count": 420,
     "metadata": {},
     "output_type": "execute_result"
    }
   ],
   "source": [
    "test[~test.userId.isin(train.userId.unique())].userId.nunique()"
   ]
  },
  {
   "cell_type": "markdown",
   "metadata": {},
   "source": [
    "> Tenemos ### Usuarios que se encuentra en el dataset de test y no en el de train. <span style=\"color:red\">Actualizar con dataset grande</span>"
   ]
  },
  {
   "cell_type": "code",
   "execution_count": 421,
   "metadata": {},
   "outputs": [
    {
     "data": {
      "text/plain": [
       "55"
      ]
     },
     "execution_count": 421,
     "metadata": {},
     "output_type": "execute_result"
    }
   ],
   "source": [
    "validation[~validation.userId.isin(train.userId.unique())].userId.nunique()"
   ]
  },
  {
   "cell_type": "markdown",
   "metadata": {},
   "source": [
    "> Tenemos ### Usuarios que se encuentra en el dataset de validation y no en el de train. <span style=\"color:red\">Actualizar con dataset grande</span>"
   ]
  },
  {
   "cell_type": "markdown",
   "metadata": {},
   "source": [
    "#### Matriz de Interacciones"
   ]
  },
  {
   "cell_type": "code",
   "execution_count": 422,
   "metadata": {},
   "outputs": [
    {
     "data": {
      "text/html": [
       "<div>\n",
       "<style scoped>\n",
       "    .dataframe tbody tr th:only-of-type {\n",
       "        vertical-align: middle;\n",
       "    }\n",
       "\n",
       "    .dataframe tbody tr th {\n",
       "        vertical-align: top;\n",
       "    }\n",
       "\n",
       "    .dataframe thead th {\n",
       "        text-align: right;\n",
       "    }\n",
       "</style>\n",
       "<table border=\"1\" class=\"dataframe\">\n",
       "  <thead>\n",
       "    <tr style=\"text-align: right;\">\n",
       "      <th></th>\n",
       "      <th>userId</th>\n",
       "      <th>movieId</th>\n",
       "      <th>rating</th>\n",
       "    </tr>\n",
       "  </thead>\n",
       "  <tbody>\n",
       "    <tr>\n",
       "      <th>0</th>\n",
       "      <td>1</td>\n",
       "      <td>1</td>\n",
       "      <td>4.0</td>\n",
       "    </tr>\n",
       "    <tr>\n",
       "      <th>1</th>\n",
       "      <td>1</td>\n",
       "      <td>3</td>\n",
       "      <td>4.0</td>\n",
       "    </tr>\n",
       "    <tr>\n",
       "      <th>2</th>\n",
       "      <td>1</td>\n",
       "      <td>6</td>\n",
       "      <td>4.0</td>\n",
       "    </tr>\n",
       "    <tr>\n",
       "      <th>3</th>\n",
       "      <td>1</td>\n",
       "      <td>47</td>\n",
       "      <td>5.0</td>\n",
       "    </tr>\n",
       "    <tr>\n",
       "      <th>4</th>\n",
       "      <td>1</td>\n",
       "      <td>50</td>\n",
       "      <td>5.0</td>\n",
       "    </tr>\n",
       "  </tbody>\n",
       "</table>\n",
       "</div>"
      ],
      "text/plain": [
       "   userId  movieId  rating\n",
       "0       1        1     4.0\n",
       "1       1        3     4.0\n",
       "2       1        6     4.0\n",
       "3       1       47     5.0\n",
       "4       1       50     5.0"
      ]
     },
     "execution_count": 422,
     "metadata": {},
     "output_type": "execute_result"
    }
   ],
   "source": [
    "interactions_train = train[[\"userId\", \"movieId\", \"rating\"]].copy()\n",
    "interactions_train.head()"
   ]
  },
  {
   "cell_type": "code",
   "execution_count": 423,
   "metadata": {},
   "outputs": [],
   "source": [
    "interactions_matrix = interactions_train.pivot(index=\"userId\", columns=\"movieId\", values=\"rating\")"
   ]
  },
  {
   "cell_type": "code",
   "execution_count": 424,
   "metadata": {},
   "outputs": [
    {
     "data": {
      "text/html": [
       "<div>\n",
       "<style scoped>\n",
       "    .dataframe tbody tr th:only-of-type {\n",
       "        vertical-align: middle;\n",
       "    }\n",
       "\n",
       "    .dataframe tbody tr th {\n",
       "        vertical-align: top;\n",
       "    }\n",
       "\n",
       "    .dataframe thead th {\n",
       "        text-align: right;\n",
       "    }\n",
       "</style>\n",
       "<table border=\"1\" class=\"dataframe\">\n",
       "  <thead>\n",
       "    <tr style=\"text-align: right;\">\n",
       "      <th>movieId</th>\n",
       "      <th>1</th>\n",
       "      <th>2</th>\n",
       "      <th>3</th>\n",
       "      <th>4</th>\n",
       "      <th>5</th>\n",
       "      <th>6</th>\n",
       "      <th>7</th>\n",
       "      <th>8</th>\n",
       "      <th>9</th>\n",
       "      <th>10</th>\n",
       "      <th>...</th>\n",
       "      <th>104241</th>\n",
       "      <th>104245</th>\n",
       "      <th>104339</th>\n",
       "      <th>104841</th>\n",
       "      <th>104879</th>\n",
       "      <th>105037</th>\n",
       "      <th>105213</th>\n",
       "      <th>105504</th>\n",
       "      <th>105755</th>\n",
       "      <th>107348</th>\n",
       "    </tr>\n",
       "    <tr>\n",
       "      <th>userId</th>\n",
       "      <th></th>\n",
       "      <th></th>\n",
       "      <th></th>\n",
       "      <th></th>\n",
       "      <th></th>\n",
       "      <th></th>\n",
       "      <th></th>\n",
       "      <th></th>\n",
       "      <th></th>\n",
       "      <th></th>\n",
       "      <th></th>\n",
       "      <th></th>\n",
       "      <th></th>\n",
       "      <th></th>\n",
       "      <th></th>\n",
       "      <th></th>\n",
       "      <th></th>\n",
       "      <th></th>\n",
       "      <th></th>\n",
       "      <th></th>\n",
       "      <th></th>\n",
       "    </tr>\n",
       "  </thead>\n",
       "  <tbody>\n",
       "    <tr>\n",
       "      <th>1</th>\n",
       "      <td>4.0</td>\n",
       "      <td>NaN</td>\n",
       "      <td>4.0</td>\n",
       "      <td>NaN</td>\n",
       "      <td>NaN</td>\n",
       "      <td>4.0</td>\n",
       "      <td>NaN</td>\n",
       "      <td>NaN</td>\n",
       "      <td>NaN</td>\n",
       "      <td>NaN</td>\n",
       "      <td>...</td>\n",
       "      <td>NaN</td>\n",
       "      <td>NaN</td>\n",
       "      <td>NaN</td>\n",
       "      <td>NaN</td>\n",
       "      <td>NaN</td>\n",
       "      <td>NaN</td>\n",
       "      <td>NaN</td>\n",
       "      <td>NaN</td>\n",
       "      <td>NaN</td>\n",
       "      <td>NaN</td>\n",
       "    </tr>\n",
       "    <tr>\n",
       "      <th>3</th>\n",
       "      <td>NaN</td>\n",
       "      <td>NaN</td>\n",
       "      <td>NaN</td>\n",
       "      <td>NaN</td>\n",
       "      <td>NaN</td>\n",
       "      <td>NaN</td>\n",
       "      <td>NaN</td>\n",
       "      <td>NaN</td>\n",
       "      <td>NaN</td>\n",
       "      <td>NaN</td>\n",
       "      <td>...</td>\n",
       "      <td>NaN</td>\n",
       "      <td>NaN</td>\n",
       "      <td>NaN</td>\n",
       "      <td>NaN</td>\n",
       "      <td>NaN</td>\n",
       "      <td>NaN</td>\n",
       "      <td>NaN</td>\n",
       "      <td>NaN</td>\n",
       "      <td>NaN</td>\n",
       "      <td>NaN</td>\n",
       "    </tr>\n",
       "    <tr>\n",
       "      <th>4</th>\n",
       "      <td>NaN</td>\n",
       "      <td>NaN</td>\n",
       "      <td>NaN</td>\n",
       "      <td>NaN</td>\n",
       "      <td>NaN</td>\n",
       "      <td>NaN</td>\n",
       "      <td>NaN</td>\n",
       "      <td>NaN</td>\n",
       "      <td>NaN</td>\n",
       "      <td>NaN</td>\n",
       "      <td>...</td>\n",
       "      <td>NaN</td>\n",
       "      <td>NaN</td>\n",
       "      <td>NaN</td>\n",
       "      <td>NaN</td>\n",
       "      <td>NaN</td>\n",
       "      <td>NaN</td>\n",
       "      <td>NaN</td>\n",
       "      <td>NaN</td>\n",
       "      <td>NaN</td>\n",
       "      <td>NaN</td>\n",
       "    </tr>\n",
       "    <tr>\n",
       "      <th>5</th>\n",
       "      <td>4.0</td>\n",
       "      <td>NaN</td>\n",
       "      <td>NaN</td>\n",
       "      <td>NaN</td>\n",
       "      <td>NaN</td>\n",
       "      <td>NaN</td>\n",
       "      <td>NaN</td>\n",
       "      <td>NaN</td>\n",
       "      <td>NaN</td>\n",
       "      <td>NaN</td>\n",
       "      <td>...</td>\n",
       "      <td>NaN</td>\n",
       "      <td>NaN</td>\n",
       "      <td>NaN</td>\n",
       "      <td>NaN</td>\n",
       "      <td>NaN</td>\n",
       "      <td>NaN</td>\n",
       "      <td>NaN</td>\n",
       "      <td>NaN</td>\n",
       "      <td>NaN</td>\n",
       "      <td>NaN</td>\n",
       "    </tr>\n",
       "    <tr>\n",
       "      <th>6</th>\n",
       "      <td>NaN</td>\n",
       "      <td>4.0</td>\n",
       "      <td>5.0</td>\n",
       "      <td>3.0</td>\n",
       "      <td>5.0</td>\n",
       "      <td>4.0</td>\n",
       "      <td>4.0</td>\n",
       "      <td>3.0</td>\n",
       "      <td>NaN</td>\n",
       "      <td>3.0</td>\n",
       "      <td>...</td>\n",
       "      <td>NaN</td>\n",
       "      <td>NaN</td>\n",
       "      <td>NaN</td>\n",
       "      <td>NaN</td>\n",
       "      <td>NaN</td>\n",
       "      <td>NaN</td>\n",
       "      <td>NaN</td>\n",
       "      <td>NaN</td>\n",
       "      <td>NaN</td>\n",
       "      <td>NaN</td>\n",
       "    </tr>\n",
       "  </tbody>\n",
       "</table>\n",
       "<p>5 rows × 7122 columns</p>\n",
       "</div>"
      ],
      "text/plain": [
       "movieId  1       2       3       4       5       6       7       8       \\\n",
       "userId                                                                    \n",
       "1           4.0     NaN     4.0     NaN     NaN     4.0     NaN     NaN   \n",
       "3           NaN     NaN     NaN     NaN     NaN     NaN     NaN     NaN   \n",
       "4           NaN     NaN     NaN     NaN     NaN     NaN     NaN     NaN   \n",
       "5           4.0     NaN     NaN     NaN     NaN     NaN     NaN     NaN   \n",
       "6           NaN     4.0     5.0     3.0     5.0     4.0     4.0     3.0   \n",
       "\n",
       "movieId  9       10      ...  104241  104245  104339  104841  104879  105037  \\\n",
       "userId                   ...                                                   \n",
       "1           NaN     NaN  ...     NaN     NaN     NaN     NaN     NaN     NaN   \n",
       "3           NaN     NaN  ...     NaN     NaN     NaN     NaN     NaN     NaN   \n",
       "4           NaN     NaN  ...     NaN     NaN     NaN     NaN     NaN     NaN   \n",
       "5           NaN     NaN  ...     NaN     NaN     NaN     NaN     NaN     NaN   \n",
       "6           NaN     3.0  ...     NaN     NaN     NaN     NaN     NaN     NaN   \n",
       "\n",
       "movieId  105213  105504  105755  107348  \n",
       "userId                                   \n",
       "1           NaN     NaN     NaN     NaN  \n",
       "3           NaN     NaN     NaN     NaN  \n",
       "4           NaN     NaN     NaN     NaN  \n",
       "5           NaN     NaN     NaN     NaN  \n",
       "6           NaN     NaN     NaN     NaN  \n",
       "\n",
       "[5 rows x 7122 columns]"
      ]
     },
     "execution_count": 424,
     "metadata": {},
     "output_type": "execute_result"
    }
   ],
   "source": [
    "interactions_matrix.head()"
   ]
  },
  {
   "cell_type": "code",
   "execution_count": 425,
   "metadata": {},
   "outputs": [],
   "source": [
    "interactions_matrix = interactions_matrix.fillna(0)"
   ]
  },
  {
   "cell_type": "code",
   "execution_count": 426,
   "metadata": {},
   "outputs": [
    {
     "data": {
      "text/html": [
       "<div>\n",
       "<style scoped>\n",
       "    .dataframe tbody tr th:only-of-type {\n",
       "        vertical-align: middle;\n",
       "    }\n",
       "\n",
       "    .dataframe tbody tr th {\n",
       "        vertical-align: top;\n",
       "    }\n",
       "\n",
       "    .dataframe thead th {\n",
       "        text-align: right;\n",
       "    }\n",
       "</style>\n",
       "<table border=\"1\" class=\"dataframe\">\n",
       "  <thead>\n",
       "    <tr style=\"text-align: right;\">\n",
       "      <th>movieId</th>\n",
       "      <th>1</th>\n",
       "      <th>2</th>\n",
       "      <th>3</th>\n",
       "      <th>4</th>\n",
       "      <th>5</th>\n",
       "      <th>6</th>\n",
       "      <th>7</th>\n",
       "      <th>8</th>\n",
       "      <th>9</th>\n",
       "      <th>10</th>\n",
       "      <th>...</th>\n",
       "      <th>104241</th>\n",
       "      <th>104245</th>\n",
       "      <th>104339</th>\n",
       "      <th>104841</th>\n",
       "      <th>104879</th>\n",
       "      <th>105037</th>\n",
       "      <th>105213</th>\n",
       "      <th>105504</th>\n",
       "      <th>105755</th>\n",
       "      <th>107348</th>\n",
       "    </tr>\n",
       "    <tr>\n",
       "      <th>userId</th>\n",
       "      <th></th>\n",
       "      <th></th>\n",
       "      <th></th>\n",
       "      <th></th>\n",
       "      <th></th>\n",
       "      <th></th>\n",
       "      <th></th>\n",
       "      <th></th>\n",
       "      <th></th>\n",
       "      <th></th>\n",
       "      <th></th>\n",
       "      <th></th>\n",
       "      <th></th>\n",
       "      <th></th>\n",
       "      <th></th>\n",
       "      <th></th>\n",
       "      <th></th>\n",
       "      <th></th>\n",
       "      <th></th>\n",
       "      <th></th>\n",
       "      <th></th>\n",
       "    </tr>\n",
       "  </thead>\n",
       "  <tbody>\n",
       "    <tr>\n",
       "      <th>1</th>\n",
       "      <td>4.0</td>\n",
       "      <td>0.0</td>\n",
       "      <td>4.0</td>\n",
       "      <td>0.0</td>\n",
       "      <td>0.0</td>\n",
       "      <td>4.0</td>\n",
       "      <td>0.0</td>\n",
       "      <td>0.0</td>\n",
       "      <td>0.0</td>\n",
       "      <td>0.0</td>\n",
       "      <td>...</td>\n",
       "      <td>0.0</td>\n",
       "      <td>0.0</td>\n",
       "      <td>0.0</td>\n",
       "      <td>0.0</td>\n",
       "      <td>0.0</td>\n",
       "      <td>0.0</td>\n",
       "      <td>0.0</td>\n",
       "      <td>0.0</td>\n",
       "      <td>0.0</td>\n",
       "      <td>0.0</td>\n",
       "    </tr>\n",
       "    <tr>\n",
       "      <th>3</th>\n",
       "      <td>0.0</td>\n",
       "      <td>0.0</td>\n",
       "      <td>0.0</td>\n",
       "      <td>0.0</td>\n",
       "      <td>0.0</td>\n",
       "      <td>0.0</td>\n",
       "      <td>0.0</td>\n",
       "      <td>0.0</td>\n",
       "      <td>0.0</td>\n",
       "      <td>0.0</td>\n",
       "      <td>...</td>\n",
       "      <td>0.0</td>\n",
       "      <td>0.0</td>\n",
       "      <td>0.0</td>\n",
       "      <td>0.0</td>\n",
       "      <td>0.0</td>\n",
       "      <td>0.0</td>\n",
       "      <td>0.0</td>\n",
       "      <td>0.0</td>\n",
       "      <td>0.0</td>\n",
       "      <td>0.0</td>\n",
       "    </tr>\n",
       "    <tr>\n",
       "      <th>4</th>\n",
       "      <td>0.0</td>\n",
       "      <td>0.0</td>\n",
       "      <td>0.0</td>\n",
       "      <td>0.0</td>\n",
       "      <td>0.0</td>\n",
       "      <td>0.0</td>\n",
       "      <td>0.0</td>\n",
       "      <td>0.0</td>\n",
       "      <td>0.0</td>\n",
       "      <td>0.0</td>\n",
       "      <td>...</td>\n",
       "      <td>0.0</td>\n",
       "      <td>0.0</td>\n",
       "      <td>0.0</td>\n",
       "      <td>0.0</td>\n",
       "      <td>0.0</td>\n",
       "      <td>0.0</td>\n",
       "      <td>0.0</td>\n",
       "      <td>0.0</td>\n",
       "      <td>0.0</td>\n",
       "      <td>0.0</td>\n",
       "    </tr>\n",
       "    <tr>\n",
       "      <th>5</th>\n",
       "      <td>4.0</td>\n",
       "      <td>0.0</td>\n",
       "      <td>0.0</td>\n",
       "      <td>0.0</td>\n",
       "      <td>0.0</td>\n",
       "      <td>0.0</td>\n",
       "      <td>0.0</td>\n",
       "      <td>0.0</td>\n",
       "      <td>0.0</td>\n",
       "      <td>0.0</td>\n",
       "      <td>...</td>\n",
       "      <td>0.0</td>\n",
       "      <td>0.0</td>\n",
       "      <td>0.0</td>\n",
       "      <td>0.0</td>\n",
       "      <td>0.0</td>\n",
       "      <td>0.0</td>\n",
       "      <td>0.0</td>\n",
       "      <td>0.0</td>\n",
       "      <td>0.0</td>\n",
       "      <td>0.0</td>\n",
       "    </tr>\n",
       "    <tr>\n",
       "      <th>6</th>\n",
       "      <td>0.0</td>\n",
       "      <td>4.0</td>\n",
       "      <td>5.0</td>\n",
       "      <td>3.0</td>\n",
       "      <td>5.0</td>\n",
       "      <td>4.0</td>\n",
       "      <td>4.0</td>\n",
       "      <td>3.0</td>\n",
       "      <td>0.0</td>\n",
       "      <td>3.0</td>\n",
       "      <td>...</td>\n",
       "      <td>0.0</td>\n",
       "      <td>0.0</td>\n",
       "      <td>0.0</td>\n",
       "      <td>0.0</td>\n",
       "      <td>0.0</td>\n",
       "      <td>0.0</td>\n",
       "      <td>0.0</td>\n",
       "      <td>0.0</td>\n",
       "      <td>0.0</td>\n",
       "      <td>0.0</td>\n",
       "    </tr>\n",
       "  </tbody>\n",
       "</table>\n",
       "<p>5 rows × 7122 columns</p>\n",
       "</div>"
      ],
      "text/plain": [
       "movieId  1       2       3       4       5       6       7       8       \\\n",
       "userId                                                                    \n",
       "1           4.0     0.0     4.0     0.0     0.0     4.0     0.0     0.0   \n",
       "3           0.0     0.0     0.0     0.0     0.0     0.0     0.0     0.0   \n",
       "4           0.0     0.0     0.0     0.0     0.0     0.0     0.0     0.0   \n",
       "5           4.0     0.0     0.0     0.0     0.0     0.0     0.0     0.0   \n",
       "6           0.0     4.0     5.0     3.0     5.0     4.0     4.0     3.0   \n",
       "\n",
       "movieId  9       10      ...  104241  104245  104339  104841  104879  105037  \\\n",
       "userId                   ...                                                   \n",
       "1           0.0     0.0  ...     0.0     0.0     0.0     0.0     0.0     0.0   \n",
       "3           0.0     0.0  ...     0.0     0.0     0.0     0.0     0.0     0.0   \n",
       "4           0.0     0.0  ...     0.0     0.0     0.0     0.0     0.0     0.0   \n",
       "5           0.0     0.0  ...     0.0     0.0     0.0     0.0     0.0     0.0   \n",
       "6           0.0     3.0  ...     0.0     0.0     0.0     0.0     0.0     0.0   \n",
       "\n",
       "movieId  105213  105504  105755  107348  \n",
       "userId                                   \n",
       "1           0.0     0.0     0.0     0.0  \n",
       "3           0.0     0.0     0.0     0.0  \n",
       "4           0.0     0.0     0.0     0.0  \n",
       "5           0.0     0.0     0.0     0.0  \n",
       "6           0.0     0.0     0.0     0.0  \n",
       "\n",
       "[5 rows x 7122 columns]"
      ]
     },
     "execution_count": 426,
     "metadata": {},
     "output_type": "execute_result"
    }
   ],
   "source": [
    "interactions_matrix.head()"
   ]
  },
  {
   "cell_type": "code",
   "execution_count": 427,
   "metadata": {},
   "outputs": [
    {
     "data": {
      "text/plain": [
       "(459, 7122)"
      ]
     },
     "execution_count": 427,
     "metadata": {},
     "output_type": "execute_result"
    }
   ],
   "source": [
    "interactions_matrix.shape"
   ]
  },
  {
   "cell_type": "markdown",
   "metadata": {},
   "source": []
  },
  {
   "cell_type": "code",
   "execution_count": 428,
   "metadata": {},
   "outputs": [],
   "source": [
    "interactions_matrix_csr = csr_matrix(interactions_matrix.values)"
   ]
  },
  {
   "cell_type": "code",
   "execution_count": 429,
   "metadata": {},
   "outputs": [
    {
     "data": {
      "text/plain": [
       "<459x7122 sparse matrix of type '<class 'numpy.float64'>'\n",
       "\twith 71462 stored elements in Compressed Sparse Row format>"
      ]
     },
     "execution_count": 429,
     "metadata": {},
     "output_type": "execute_result"
    }
   ],
   "source": [
    "interactions_matrix_csr"
   ]
  },
  {
   "cell_type": "code",
   "execution_count": 430,
   "metadata": {},
   "outputs": [],
   "source": [
    "user_ids = list(interactions_matrix.index)\n",
    "user_map = {}\n",
    "counter = 0\n",
    "for i in user_ids:\n",
    "    user_map[i] = counter\n",
    "    counter += 1"
   ]
  },
  {
   "cell_type": "code",
   "execution_count": 431,
   "metadata": {},
   "outputs": [
    {
     "data": {
      "text/plain": [
       "{1: 0,\n",
       " 3: 1,\n",
       " 4: 2,\n",
       " 5: 3,\n",
       " 6: 4,\n",
       " 7: 5,\n",
       " 8: 6,\n",
       " 9: 7,\n",
       " 11: 8,\n",
       " 12: 9,\n",
       " 13: 10,\n",
       " 14: 11,\n",
       " 15: 12,\n",
       " 16: 13,\n",
       " 17: 14,\n",
       " 19: 15,\n",
       " 20: 16,\n",
       " 21: 17,\n",
       " 22: 18,\n",
       " 23: 19,\n",
       " 26: 20,\n",
       " 27: 21,\n",
       " 28: 22,\n",
       " 29: 23,\n",
       " 31: 24,\n",
       " 32: 25,\n",
       " 33: 26,\n",
       " 34: 27,\n",
       " 35: 28,\n",
       " 36: 29,\n",
       " 37: 30,\n",
       " 38: 31,\n",
       " 39: 32,\n",
       " 40: 33,\n",
       " 42: 34,\n",
       " 43: 35,\n",
       " 44: 36,\n",
       " 45: 37,\n",
       " 46: 38,\n",
       " 48: 39,\n",
       " 51: 40,\n",
       " 53: 41,\n",
       " 54: 42,\n",
       " 55: 43,\n",
       " 56: 44,\n",
       " 57: 45,\n",
       " 58: 46,\n",
       " 59: 47,\n",
       " 61: 48,\n",
       " 64: 49,\n",
       " 66: 50,\n",
       " 68: 51,\n",
       " 69: 52,\n",
       " 70: 53,\n",
       " 71: 54,\n",
       " 72: 55,\n",
       " 74: 56,\n",
       " 75: 57,\n",
       " 78: 58,\n",
       " 79: 59,\n",
       " 80: 60,\n",
       " 81: 61,\n",
       " 82: 62,\n",
       " 83: 63,\n",
       " 84: 64,\n",
       " 85: 65,\n",
       " 86: 66,\n",
       " 87: 67,\n",
       " 88: 68,\n",
       " 90: 69,\n",
       " 91: 70,\n",
       " 92: 71,\n",
       " 93: 72,\n",
       " 94: 73,\n",
       " 95: 74,\n",
       " 96: 75,\n",
       " 97: 76,\n",
       " 99: 77,\n",
       " 100: 78,\n",
       " 101: 79,\n",
       " 102: 80,\n",
       " 104: 81,\n",
       " 107: 82,\n",
       " 108: 83,\n",
       " 109: 84,\n",
       " 110: 85,\n",
       " 113: 86,\n",
       " 115: 87,\n",
       " 116: 88,\n",
       " 117: 89,\n",
       " 118: 90,\n",
       " 120: 91,\n",
       " 121: 92,\n",
       " 124: 93,\n",
       " 126: 94,\n",
       " 127: 95,\n",
       " 128: 96,\n",
       " 129: 97,\n",
       " 130: 98,\n",
       " 131: 99,\n",
       " 132: 100,\n",
       " 133: 101,\n",
       " 134: 102,\n",
       " 135: 103,\n",
       " 136: 104,\n",
       " 137: 105,\n",
       " 138: 106,\n",
       " 140: 107,\n",
       " 142: 108,\n",
       " 144: 109,\n",
       " 145: 110,\n",
       " 146: 111,\n",
       " 147: 112,\n",
       " 149: 113,\n",
       " 150: 114,\n",
       " 151: 115,\n",
       " 155: 116,\n",
       " 156: 117,\n",
       " 157: 118,\n",
       " 158: 119,\n",
       " 160: 120,\n",
       " 161: 121,\n",
       " 162: 122,\n",
       " 163: 123,\n",
       " 164: 124,\n",
       " 165: 125,\n",
       " 166: 126,\n",
       " 167: 127,\n",
       " 168: 128,\n",
       " 169: 129,\n",
       " 170: 130,\n",
       " 171: 131,\n",
       " 172: 132,\n",
       " 173: 133,\n",
       " 174: 134,\n",
       " 175: 135,\n",
       " 176: 136,\n",
       " 178: 137,\n",
       " 179: 138,\n",
       " 180: 139,\n",
       " 181: 140,\n",
       " 182: 141,\n",
       " 183: 142,\n",
       " 185: 143,\n",
       " 186: 144,\n",
       " 187: 145,\n",
       " 188: 146,\n",
       " 191: 147,\n",
       " 192: 148,\n",
       " 194: 149,\n",
       " 195: 150,\n",
       " 197: 151,\n",
       " 198: 152,\n",
       " 199: 153,\n",
       " 200: 154,\n",
       " 201: 155,\n",
       " 202: 156,\n",
       " 204: 157,\n",
       " 206: 158,\n",
       " 207: 159,\n",
       " 208: 160,\n",
       " 211: 161,\n",
       " 213: 162,\n",
       " 214: 163,\n",
       " 215: 164,\n",
       " 216: 165,\n",
       " 217: 166,\n",
       " 218: 167,\n",
       " 219: 168,\n",
       " 220: 169,\n",
       " 221: 170,\n",
       " 223: 171,\n",
       " 224: 172,\n",
       " 225: 173,\n",
       " 226: 174,\n",
       " 228: 175,\n",
       " 229: 176,\n",
       " 230: 177,\n",
       " 232: 178,\n",
       " 234: 179,\n",
       " 235: 180,\n",
       " 236: 181,\n",
       " 238: 182,\n",
       " 239: 183,\n",
       " 240: 184,\n",
       " 242: 185,\n",
       " 243: 186,\n",
       " 244: 187,\n",
       " 245: 188,\n",
       " 246: 189,\n",
       " 249: 190,\n",
       " 250: 191,\n",
       " 253: 192,\n",
       " 254: 193,\n",
       " 255: 194,\n",
       " 257: 195,\n",
       " 259: 196,\n",
       " 260: 197,\n",
       " 262: 198,\n",
       " 263: 199,\n",
       " 264: 200,\n",
       " 265: 201,\n",
       " 266: 202,\n",
       " 267: 203,\n",
       " 268: 204,\n",
       " 269: 205,\n",
       " 270: 206,\n",
       " 271: 207,\n",
       " 273: 208,\n",
       " 274: 209,\n",
       " 275: 210,\n",
       " 276: 211,\n",
       " 277: 212,\n",
       " 278: 213,\n",
       " 280: 214,\n",
       " 281: 215,\n",
       " 282: 216,\n",
       " 283: 217,\n",
       " 284: 218,\n",
       " 286: 219,\n",
       " 287: 220,\n",
       " 288: 221,\n",
       " 289: 222,\n",
       " 290: 223,\n",
       " 292: 224,\n",
       " 293: 225,\n",
       " 294: 226,\n",
       " 295: 227,\n",
       " 297: 228,\n",
       " 299: 229,\n",
       " 301: 230,\n",
       " 302: 231,\n",
       " 303: 232,\n",
       " 304: 233,\n",
       " 307: 234,\n",
       " 309: 235,\n",
       " 310: 236,\n",
       " 311: 237,\n",
       " 312: 238,\n",
       " 313: 239,\n",
       " 314: 240,\n",
       " 315: 241,\n",
       " 316: 242,\n",
       " 318: 243,\n",
       " 320: 244,\n",
       " 321: 245,\n",
       " 322: 246,\n",
       " 324: 247,\n",
       " 325: 248,\n",
       " 326: 249,\n",
       " 327: 250,\n",
       " 330: 251,\n",
       " 332: 252,\n",
       " 333: 253,\n",
       " 334: 254,\n",
       " 335: 255,\n",
       " 336: 256,\n",
       " 337: 257,\n",
       " 340: 258,\n",
       " 342: 259,\n",
       " 343: 260,\n",
       " 345: 261,\n",
       " 346: 262,\n",
       " 347: 263,\n",
       " 348: 264,\n",
       " 349: 265,\n",
       " 350: 266,\n",
       " 351: 267,\n",
       " 353: 268,\n",
       " 354: 269,\n",
       " 355: 270,\n",
       " 356: 271,\n",
       " 357: 272,\n",
       " 358: 273,\n",
       " 359: 274,\n",
       " 360: 275,\n",
       " 361: 276,\n",
       " 364: 277,\n",
       " 367: 278,\n",
       " 368: 279,\n",
       " 369: 280,\n",
       " 370: 281,\n",
       " 372: 282,\n",
       " 373: 283,\n",
       " 374: 284,\n",
       " 375: 285,\n",
       " 376: 286,\n",
       " 377: 287,\n",
       " 379: 288,\n",
       " 381: 289,\n",
       " 383: 290,\n",
       " 384: 291,\n",
       " 385: 292,\n",
       " 386: 293,\n",
       " 387: 294,\n",
       " 388: 295,\n",
       " 389: 296,\n",
       " 390: 297,\n",
       " 391: 298,\n",
       " 392: 299,\n",
       " 394: 300,\n",
       " 395: 301,\n",
       " 396: 302,\n",
       " 397: 303,\n",
       " 398: 304,\n",
       " 399: 305,\n",
       " 402: 306,\n",
       " 403: 307,\n",
       " 404: 308,\n",
       " 405: 309,\n",
       " 406: 310,\n",
       " 409: 311,\n",
       " 410: 312,\n",
       " 411: 313,\n",
       " 412: 314,\n",
       " 414: 315,\n",
       " 415: 316,\n",
       " 416: 317,\n",
       " 419: 318,\n",
       " 420: 319,\n",
       " 421: 320,\n",
       " 422: 321,\n",
       " 423: 322,\n",
       " 425: 323,\n",
       " 427: 324,\n",
       " 428: 325,\n",
       " 429: 326,\n",
       " 430: 327,\n",
       " 431: 328,\n",
       " 432: 329,\n",
       " 434: 330,\n",
       " 435: 331,\n",
       " 436: 332,\n",
       " 437: 333,\n",
       " 438: 334,\n",
       " 440: 335,\n",
       " 442: 336,\n",
       " 444: 337,\n",
       " 446: 338,\n",
       " 447: 339,\n",
       " 448: 340,\n",
       " 449: 341,\n",
       " 450: 342,\n",
       " 451: 343,\n",
       " 452: 344,\n",
       " 453: 345,\n",
       " 454: 346,\n",
       " 455: 347,\n",
       " 456: 348,\n",
       " 457: 349,\n",
       " 458: 350,\n",
       " 460: 351,\n",
       " 462: 352,\n",
       " 463: 353,\n",
       " 464: 354,\n",
       " 465: 355,\n",
       " 467: 356,\n",
       " 468: 357,\n",
       " 469: 358,\n",
       " 470: 359,\n",
       " 472: 360,\n",
       " 473: 361,\n",
       " 474: 362,\n",
       " 476: 363,\n",
       " 477: 364,\n",
       " 478: 365,\n",
       " 479: 366,\n",
       " 480: 367,\n",
       " 481: 368,\n",
       " 482: 369,\n",
       " 483: 370,\n",
       " 484: 371,\n",
       " 485: 372,\n",
       " 486: 373,\n",
       " 488: 374,\n",
       " 489: 375,\n",
       " 490: 376,\n",
       " 492: 377,\n",
       " 493: 378,\n",
       " 494: 379,\n",
       " 498: 380,\n",
       " 499: 381,\n",
       " 500: 382,\n",
       " 501: 383,\n",
       " 502: 384,\n",
       " 503: 385,\n",
       " 504: 386,\n",
       " 505: 387,\n",
       " 507: 388,\n",
       " 508: 389,\n",
       " 510: 390,\n",
       " 512: 391,\n",
       " 513: 392,\n",
       " 516: 393,\n",
       " 518: 394,\n",
       " 520: 395,\n",
       " 521: 396,\n",
       " 522: 397,\n",
       " 524: 398,\n",
       " 527: 399,\n",
       " 529: 400,\n",
       " 530: 401,\n",
       " 531: 402,\n",
       " 532: 403,\n",
       " 535: 404,\n",
       " 536: 405,\n",
       " 538: 406,\n",
       " 539: 407,\n",
       " 540: 408,\n",
       " 541: 409,\n",
       " 542: 410,\n",
       " 543: 411,\n",
       " 544: 412,\n",
       " 545: 413,\n",
       " 546: 414,\n",
       " 547: 415,\n",
       " 552: 416,\n",
       " 553: 417,\n",
       " 554: 418,\n",
       " 555: 419,\n",
       " 558: 420,\n",
       " 559: 421,\n",
       " 562: 422,\n",
       " 565: 423,\n",
       " 566: 424,\n",
       " 568: 425,\n",
       " 569: 426,\n",
       " 570: 427,\n",
       " 571: 428,\n",
       " 572: 429,\n",
       " 573: 430,\n",
       " 574: 431,\n",
       " 575: 432,\n",
       " 576: 433,\n",
       " 577: 434,\n",
       " 578: 435,\n",
       " 579: 436,\n",
       " 580: 437,\n",
       " 584: 438,\n",
       " 585: 439,\n",
       " 587: 440,\n",
       " 588: 441,\n",
       " 589: 442,\n",
       " 590: 443,\n",
       " 591: 444,\n",
       " 592: 445,\n",
       " 593: 446,\n",
       " 594: 447,\n",
       " 595: 448,\n",
       " 597: 449,\n",
       " 600: 450,\n",
       " 602: 451,\n",
       " 603: 452,\n",
       " 604: 453,\n",
       " 605: 454,\n",
       " 606: 455,\n",
       " 607: 456,\n",
       " 608: 457,\n",
       " 609: 458}"
      ]
     },
     "execution_count": 431,
     "metadata": {},
     "output_type": "execute_result"
    }
   ],
   "source": [
    "user_map"
   ]
  },
  {
   "cell_type": "markdown",
   "metadata": {},
   "source": [
    "#### Modelo"
   ]
  },
  {
   "cell_type": "code",
   "execution_count": 432,
   "metadata": {},
   "outputs": [],
   "source": [
    "model = LightFM(no_components=50, random_state=100, learning_rate=0.03, loss='logistic')"
   ]
  },
  {
   "cell_type": "code",
   "execution_count": 433,
   "metadata": {},
   "outputs": [
    {
     "name": "stdout",
     "output_type": "stream",
     "text": [
      "CPU times: total: 26.1 s\n",
      "Wall time: 45.9 s\n"
     ]
    }
   ],
   "source": [
    "%%time\n",
    "model = model.fit(interactions_matrix_csr, epochs=100,num_threads=6)"
   ]
  },
  {
   "cell_type": "code",
   "execution_count": 434,
   "metadata": {},
   "outputs": [
    {
     "data": {
      "text/plain": [
       "<lightfm.lightfm.LightFM at 0x1ea7f6d0d90>"
      ]
     },
     "execution_count": 434,
     "metadata": {},
     "output_type": "execute_result"
    }
   ],
   "source": [
    "model"
   ]
  },
  {
   "cell_type": "markdown",
   "metadata": {},
   "source": [
    "#### Metodos auxiliares\n",
    "Metodo para obtener las recomendaciones en caso de ColdStart"
   ]
  },
  {
   "cell_type": "code",
   "execution_count": 435,
   "metadata": {},
   "outputs": [],
   "source": [
    "def getColdStarRecomm(dataset, no_recom): \n",
    "    '''\n",
    "    Esta funcion recibe el dataset y retonar una lista de tamaño no_recom con recomendaciones mas populares \n",
    "    '''\n",
    "    recomm = dataset.groupby(\"movieId\", as_index=False).agg({\"userId\":\"nunique\"}).sort_values(by=\"userId\", ascending=False)\n",
    "    recomm.columns=[\"movieId\", \"popularity\"]\n",
    "    return recomm.movieId.values[:no_recom]"
   ]
  },
  {
   "cell_type": "markdown",
   "metadata": {},
   "source": [
    "Metodo para obtener los scores a partir del modelo"
   ]
  },
  {
   "cell_type": "code",
   "execution_count": 436,
   "metadata": {},
   "outputs": [],
   "source": [
    "def predict(user):\n",
    "    '''\n",
    "    Esta funcion recibe un usuario y retorna lista de scores\n",
    "    '''\n",
    "    user_predic = user_map[user]\n",
    "    n_users, n_items = interactions_matrix.shape\n",
    "    item_ids = np.arange(n_items)\n",
    "    return model.predict(user_ids=user_predic, item_ids = item_ids)"
   ]
  },
  {
   "cell_type": "markdown",
   "metadata": {},
   "source": [
    "Metodo para obtener las recomendaciones ordenadas"
   ]
  },
  {
   "cell_type": "code",
   "execution_count": 437,
   "metadata": {},
   "outputs": [],
   "source": [
    "def getOrderedMoviesId(preds, no_recom):\n",
    "    '''\n",
    "    Esta funcion recibe los scores predecidos y retorna lista ordenada de moviesId\n",
    "    '''\n",
    "    recomm = pd.Series(preds)\n",
    "    recomm.index = interactions_matrix.columns\n",
    "    return list(pd.Series(recomm.sort_values(ascending=False).index))[:no_recom]"
   ]
  },
  {
   "cell_type": "markdown",
   "metadata": {},
   "source": [
    "Metodo para eliminar de las recomendaciones las peliculas ya vistas"
   ]
  },
  {
   "cell_type": "code",
   "execution_count": 438,
   "metadata": {},
   "outputs": [],
   "source": [
    "def getNotWatchedMovieId(user, recomm):\n",
    "    '''\n",
    "    Esta funcion recibe las recomendaciones y retorna lista de recomendaciones sin las peliculas vistas por el usuario\n",
    "    '''\n",
    "    watched = train[train.userId == user].movieId.unique()\n",
    "    return [x for x in recomm if x not in watched][:20]"
   ]
  },
  {
   "cell_type": "code",
   "execution_count": 439,
   "metadata": {},
   "outputs": [],
   "source": [
    "def recomm(user, no_recom):\n",
    "    result = None\n",
    "    if user in list(interactions_matrix.index):\n",
    "        score = predict(user)\n",
    "        recomm = getOrderedMoviesId(score, no_recom)\n",
    "        result = getNotWatchedMovieId(user, recomm)\n",
    "    else:\n",
    "        result = getColdStarRecomm(train, 20)\n",
    "    return result"
   ]
  },
  {
   "cell_type": "markdown",
   "metadata": {},
   "source": [
    "#### Recomendaciones\n",
    "Generamos metricas para todos los ususarios de validation"
   ]
  },
  {
   "cell_type": "code",
   "execution_count": 440,
   "metadata": {},
   "outputs": [],
   "source": [
    "def recommAll_Validation(no_recom):\n",
    "    recomms_dict = {\n",
    "        'user_id': [],\n",
    "        'recomms': []\n",
    "    }\n",
    "    for user in validation.userId.unique():\n",
    "        recomms_dict['user_id'].append(user)\n",
    "        recomms_dict['recomms'].append(recomm(user, no_recom))\n",
    "    return pd.DataFrame(recomms_dict)\n"
   ]
  },
  {
   "cell_type": "code",
   "execution_count": 441,
   "metadata": {},
   "outputs": [
    {
     "data": {
      "text/html": [
       "<div>\n",
       "<style scoped>\n",
       "    .dataframe tbody tr th:only-of-type {\n",
       "        vertical-align: middle;\n",
       "    }\n",
       "\n",
       "    .dataframe tbody tr th {\n",
       "        vertical-align: top;\n",
       "    }\n",
       "\n",
       "    .dataframe thead th {\n",
       "        text-align: right;\n",
       "    }\n",
       "</style>\n",
       "<table border=\"1\" class=\"dataframe\">\n",
       "  <thead>\n",
       "    <tr style=\"text-align: right;\">\n",
       "      <th></th>\n",
       "      <th>user_id</th>\n",
       "      <th>recomms</th>\n",
       "    </tr>\n",
       "  </thead>\n",
       "  <tbody>\n",
       "    <tr>\n",
       "      <th>0</th>\n",
       "      <td>2</td>\n",
       "      <td>[296, 356, 318, 593, 480, 110, 589, 780, 260, 150, 2571, 592, 1, 457, 380, 527, 590, 50, 47, 2858]</td>\n",
       "    </tr>\n",
       "    <tr>\n",
       "      <th>1</th>\n",
       "      <td>21</td>\n",
       "      <td>[296, 356, 318, 110, 593, 480, 150, 592, 590, 380, 589, 457, 344, 780, 588, 153, 1, 527, 47, 377]</td>\n",
       "    </tr>\n",
       "    <tr>\n",
       "      <th>2</th>\n",
       "      <td>29</td>\n",
       "      <td>[110, 593, 480, 592, 590, 380, 457, 589, 344, 588, 153, 1, 527, 32, 47, 377, 349, 260, 231, 595]</td>\n",
       "    </tr>\n",
       "    <tr>\n",
       "      <th>3</th>\n",
       "      <td>60</td>\n",
       "      <td>[296, 356, 318, 593, 480, 110, 589, 780, 260, 150, 2571, 592, 1, 457, 380, 527, 590, 50, 47, 2858]</td>\n",
       "    </tr>\n",
       "    <tr>\n",
       "      <th>4</th>\n",
       "      <td>63</td>\n",
       "      <td>[296, 356, 318, 593, 480, 110, 589, 780, 260, 150, 2571, 592, 1, 457, 380, 527, 590, 50, 47, 2858]</td>\n",
       "    </tr>\n",
       "    <tr>\n",
       "      <th>...</th>\n",
       "      <td>...</td>\n",
       "      <td>...</td>\n",
       "    </tr>\n",
       "    <tr>\n",
       "      <th>64</th>\n",
       "      <td>573</td>\n",
       "      <td>[590, 344, 527, 32, 349, 161, 434, 292, 208, 454, 329, 253, 608, 858, 34, 339, 597, 300, 587, 539]</td>\n",
       "    </tr>\n",
       "    <tr>\n",
       "      <th>65</th>\n",
       "      <td>581</td>\n",
       "      <td>[296, 356, 318, 593, 480, 110, 589, 780, 260, 150, 2571, 592, 1, 457, 380, 527, 590, 50, 47, 2858]</td>\n",
       "    </tr>\n",
       "    <tr>\n",
       "      <th>66</th>\n",
       "      <td>582</td>\n",
       "      <td>[296, 356, 318, 593, 480, 110, 589, 780, 260, 150, 2571, 592, 1, 457, 380, 527, 590, 50, 47, 2858]</td>\n",
       "    </tr>\n",
       "    <tr>\n",
       "      <th>67</th>\n",
       "      <td>598</td>\n",
       "      <td>[296, 356, 318, 593, 480, 110, 589, 780, 260, 150, 2571, 592, 1, 457, 380, 527, 590, 50, 47, 2858]</td>\n",
       "    </tr>\n",
       "    <tr>\n",
       "      <th>68</th>\n",
       "      <td>601</td>\n",
       "      <td>[296, 356, 318, 593, 480, 110, 589, 780, 260, 150, 2571, 592, 1, 457, 380, 527, 590, 50, 47, 2858]</td>\n",
       "    </tr>\n",
       "  </tbody>\n",
       "</table>\n",
       "<p>69 rows × 2 columns</p>\n",
       "</div>"
      ],
      "text/plain": [
       "    user_id  \\\n",
       "0         2   \n",
       "1        21   \n",
       "2        29   \n",
       "3        60   \n",
       "4        63   \n",
       "..      ...   \n",
       "64      573   \n",
       "65      581   \n",
       "66      582   \n",
       "67      598   \n",
       "68      601   \n",
       "\n",
       "                                                                                               recomms  \n",
       "0   [296, 356, 318, 593, 480, 110, 589, 780, 260, 150, 2571, 592, 1, 457, 380, 527, 590, 50, 47, 2858]  \n",
       "1    [296, 356, 318, 110, 593, 480, 150, 592, 590, 380, 589, 457, 344, 780, 588, 153, 1, 527, 47, 377]  \n",
       "2     [110, 593, 480, 592, 590, 380, 457, 589, 344, 588, 153, 1, 527, 32, 47, 377, 349, 260, 231, 595]  \n",
       "3   [296, 356, 318, 593, 480, 110, 589, 780, 260, 150, 2571, 592, 1, 457, 380, 527, 590, 50, 47, 2858]  \n",
       "4   [296, 356, 318, 593, 480, 110, 589, 780, 260, 150, 2571, 592, 1, 457, 380, 527, 590, 50, 47, 2858]  \n",
       "..                                                                                                 ...  \n",
       "64  [590, 344, 527, 32, 349, 161, 434, 292, 208, 454, 329, 253, 608, 858, 34, 339, 597, 300, 587, 539]  \n",
       "65  [296, 356, 318, 593, 480, 110, 589, 780, 260, 150, 2571, 592, 1, 457, 380, 527, 590, 50, 47, 2858]  \n",
       "66  [296, 356, 318, 593, 480, 110, 589, 780, 260, 150, 2571, 592, 1, 457, 380, 527, 590, 50, 47, 2858]  \n",
       "67  [296, 356, 318, 593, 480, 110, 589, 780, 260, 150, 2571, 592, 1, 457, 380, 527, 590, 50, 47, 2858]  \n",
       "68  [296, 356, 318, 593, 480, 110, 589, 780, 260, 150, 2571, 592, 1, 457, 380, 527, 590, 50, 47, 2858]  \n",
       "\n",
       "[69 rows x 2 columns]"
      ]
     },
     "execution_count": 441,
     "metadata": {},
     "output_type": "execute_result"
    }
   ],
   "source": [
    "pd.options.display.max_colwidth = None\n",
    "df = recommAll_Validation(100)\n",
    "df"
   ]
  },
  {
   "cell_type": "code",
   "execution_count": 442,
   "metadata": {},
   "outputs": [
    {
     "data": {
      "text/plain": [
       "Index(['user_id', 'recomms'], dtype='object')"
      ]
     },
     "execution_count": 442,
     "metadata": {},
     "output_type": "execute_result"
    }
   ],
   "source": [
    "df.columns"
   ]
  },
  {
   "cell_type": "markdown",
   "metadata": {},
   "source": [
    "> Como de los ## usuarios del dataset validation, ## son usuarios nuevos, les asigna las recomendaciones coldstart <span style=\"color:red\">Actualizar con dataset grande</span>"
   ]
  },
  {
   "cell_type": "code",
   "execution_count": 443,
   "metadata": {},
   "outputs": [
    {
     "data": {
      "text/plain": [
       "69"
      ]
     },
     "execution_count": 443,
     "metadata": {},
     "output_type": "execute_result"
    }
   ],
   "source": [
    "df.user_id.nunique()"
   ]
  },
  {
   "cell_type": "markdown",
   "metadata": {},
   "source": [
    "#### Comparación"
   ]
  },
  {
   "cell_type": "markdown",
   "metadata": {},
   "source": [
    "> Primero generamos la recomendaciones ideales del conjunto de validación."
   ]
  },
  {
   "cell_type": "code",
   "execution_count": 444,
   "metadata": {},
   "outputs": [
    {
     "data": {
      "text/html": [
       "<div>\n",
       "<style scoped>\n",
       "    .dataframe tbody tr th:only-of-type {\n",
       "        vertical-align: middle;\n",
       "    }\n",
       "\n",
       "    .dataframe tbody tr th {\n",
       "        vertical-align: top;\n",
       "    }\n",
       "\n",
       "    .dataframe thead th {\n",
       "        text-align: right;\n",
       "    }\n",
       "</style>\n",
       "<table border=\"1\" class=\"dataframe\">\n",
       "  <thead>\n",
       "    <tr style=\"text-align: right;\">\n",
       "      <th></th>\n",
       "      <th>userId</th>\n",
       "      <th>movieId</th>\n",
       "      <th>rating</th>\n",
       "    </tr>\n",
       "  </thead>\n",
       "  <tbody>\n",
       "    <tr>\n",
       "      <th>232</th>\n",
       "      <td>2</td>\n",
       "      <td>318</td>\n",
       "      <td>3.0</td>\n",
       "    </tr>\n",
       "    <tr>\n",
       "      <th>233</th>\n",
       "      <td>2</td>\n",
       "      <td>333</td>\n",
       "      <td>4.0</td>\n",
       "    </tr>\n",
       "    <tr>\n",
       "      <th>234</th>\n",
       "      <td>2</td>\n",
       "      <td>1704</td>\n",
       "      <td>4.5</td>\n",
       "    </tr>\n",
       "    <tr>\n",
       "      <th>235</th>\n",
       "      <td>2</td>\n",
       "      <td>3578</td>\n",
       "      <td>4.0</td>\n",
       "    </tr>\n",
       "    <tr>\n",
       "      <th>236</th>\n",
       "      <td>2</td>\n",
       "      <td>6874</td>\n",
       "      <td>4.0</td>\n",
       "    </tr>\n",
       "  </tbody>\n",
       "</table>\n",
       "</div>"
      ],
      "text/plain": [
       "     userId  movieId  rating\n",
       "232       2      318     3.0\n",
       "233       2      333     4.0\n",
       "234       2     1704     4.5\n",
       "235       2     3578     4.0\n",
       "236       2     6874     4.0"
      ]
     },
     "execution_count": 444,
     "metadata": {},
     "output_type": "execute_result"
    }
   ],
   "source": [
    "interactions_validation = validation[[\"userId\", \"movieId\", \"rating\"]].copy()\n",
    "interactions_validation.head()"
   ]
  },
  {
   "cell_type": "code",
   "execution_count": 445,
   "metadata": {},
   "outputs": [
    {
     "data": {
      "text/plain": [
       "Index(['userId', 'movieId', 'rating'], dtype='object')"
      ]
     },
     "execution_count": 445,
     "metadata": {},
     "output_type": "execute_result"
    }
   ],
   "source": [
    "interactions_validation.columns"
   ]
  },
  {
   "cell_type": "code",
   "execution_count": 446,
   "metadata": {},
   "outputs": [
    {
     "data": {
      "text/html": [
       "<div>\n",
       "<style scoped>\n",
       "    .dataframe tbody tr th:only-of-type {\n",
       "        vertical-align: middle;\n",
       "    }\n",
       "\n",
       "    .dataframe tbody tr th {\n",
       "        vertical-align: top;\n",
       "    }\n",
       "\n",
       "    .dataframe thead th {\n",
       "        text-align: right;\n",
       "    }\n",
       "</style>\n",
       "<table border=\"1\" class=\"dataframe\">\n",
       "  <thead>\n",
       "    <tr style=\"text-align: right;\">\n",
       "      <th></th>\n",
       "      <th>userId</th>\n",
       "      <th>movieId</th>\n",
       "    </tr>\n",
       "  </thead>\n",
       "  <tbody>\n",
       "    <tr>\n",
       "      <th>0</th>\n",
       "      <td>2</td>\n",
       "      <td>[60756, 80906, 89774, 106782, 122882, 131724, 1704, 58559, 68157, 80489, 333, 3578, 6874, 46970, 48516, 74458, 79132, 86345, 112552, 8798, 91529, 99114, 115713, 318, 71535, 77455, 109487, 91658, 114060]</td>\n",
       "    </tr>\n",
       "    <tr>\n",
       "      <th>1</th>\n",
       "      <td>21</td>\n",
       "      <td>[10, 1270, 2011, 2012, 7573, 260, 356, 648, 1196, 1210, 1544, 1580, 2947, 2948, 2949, 2989, 2990, 2991, 2993, 3633, 3635, 3638, 3639, 3984, 4489, 4963, 5445, 7569, 7570, 8529, 8984, 33004, 33493, 53121, 53322, 58998, 68954, 78637, 101864, 111759, 111781, 135887, 364, 480, 588, 597, 743, 1198, 1291, 2115, 2424, 2529, 2571, 2628, 2671, 2763, 2916, 3022, 3253, 3868, 3869, 4005, 4306, 4545, 4896, 5218, 5378, 5418, 5574, 5816, 6539, 6934, 6942, 7143, 8360, 8368, 8644, 8665, 8798, 8972, 33615, 40815, 47566, 49272, 53125, 54286, 59315, 59615, 69644, 69844, 72998, 77561, 78499, 79185, 82202, 85259, 88125, 89745, 91630, 94677, ...]</td>\n",
       "    </tr>\n",
       "    <tr>\n",
       "      <th>2</th>\n",
       "      <td>29</td>\n",
       "      <td>[1408, 5464, 6502, 111362, 4223, 5010, 104841, 111759]</td>\n",
       "    </tr>\n",
       "    <tr>\n",
       "      <th>3</th>\n",
       "      <td>60</td>\n",
       "      <td>[527, 858, 58559, 318, 362, 783, 805, 1242, 2150, 2739, 3386, 3424, 6016, 48, 50, 60, 455, 832, 1203, 1562, 2067, 2724]</td>\n",
       "    </tr>\n",
       "    <tr>\n",
       "      <th>4</th>\n",
       "      <td>63</td>\n",
       "      <td>[1, 50, 260, 296, 318, 344, 745, 1080, 1136, 1148, 1196, 1198, 1208, 1220, 1223, 1270, 1288, 2078, 2716, 2788, 2858, 2959, 3949, 5669, 6104, 7361, 8874, 32587, 33779, 38038, 48774, 51255, 57669, 58559, 77455, 77800, 79702, 86290, 89753, 89904, 91529, 92494, 92535, 97913, 98491, 102217, 106696, 108932, 111781, 115617, 134853, 608, 1210, 1965, 2542, 2692, 6016, 6350, 7980, 48516, 64285, 81845, 96610, 102445, 47, 165, 357, 364, 367, 527, 588, 589, 592, 648, 778, 858, 912, 913, 953, 1036, 1084, 1193, 1201, 1202, 1203, 1213, 1221, 1262, 1282, 1291, 1617, 1968, 2115, 2329, 2791, 3088, 3435, 3481, 3535, 3751, ...]</td>\n",
       "    </tr>\n",
       "    <tr>\n",
       "      <th>...</th>\n",
       "      <td>...</td>\n",
       "      <td>...</td>\n",
       "    </tr>\n",
       "    <tr>\n",
       "      <th>64</th>\n",
       "      <td>573</td>\n",
       "      <td>[858, 109487, 111362, 112852]</td>\n",
       "    </tr>\n",
       "    <tr>\n",
       "      <th>65</th>\n",
       "      <td>581</td>\n",
       "      <td>[318, 527, 3147, 4896, 5816, 5995, 7361, 356, 2324, 2762, 2959, 3949, 4022, 4226, 4306, 4886, 4993, 4995, 5349, 5952, 6377, 7153, 8368, 44191, 79132, 81845, 92259, 109487, 112552, 1704, 59315, 60069, 68954, 116797, 134130, 2571, 4973, 5989, 7147, 48394]</td>\n",
       "    </tr>\n",
       "    <tr>\n",
       "      <th>66</th>\n",
       "      <td>582</td>\n",
       "      <td>[2571, 79091, 79132, 81834, 88125, 89745, 92259, 49272, 58559, 69844, 76093, 91529, 96079, 99114, 102125, 104841, 109487, 260, 1196, 48516, 54001, 60069, 68157, 74458, 81229, 81564, 87232, 91500, 91630, 94864, 109374, 134130, 4993, 5618, 44191, 48780, 68954, 73321, 115617, 84954, 97752, 97913, 76251, 77561, 85414, 96610]</td>\n",
       "    </tr>\n",
       "    <tr>\n",
       "      <th>67</th>\n",
       "      <td>598</td>\n",
       "      <td>[5816, 7361, 46578, 54001, 56367, 79132, 101577, 103543, 113829, 114265, 124851, 130490, 4963, 5418, 63082, 1197, 110771, 4226, 4306, 8360, 593]</td>\n",
       "    </tr>\n",
       "    <tr>\n",
       "      <th>68</th>\n",
       "      <td>601</td>\n",
       "      <td>[50, 318, 527, 858, 2028, 2571, 2959, 4226, 4886, 4993, 5952, 6377, 7153, 8961, 79132, 109487, 1221, 1262, 2019, 4963, 5989, 7361, 4995, 5445, 112556, 116797, 141846]</td>\n",
       "    </tr>\n",
       "  </tbody>\n",
       "</table>\n",
       "<p>69 rows × 2 columns</p>\n",
       "</div>"
      ],
      "text/plain": [
       "    userId  \\\n",
       "0        2   \n",
       "1       21   \n",
       "2       29   \n",
       "3       60   \n",
       "4       63   \n",
       "..     ...   \n",
       "64     573   \n",
       "65     581   \n",
       "66     582   \n",
       "67     598   \n",
       "68     601   \n",
       "\n",
       "                                                                                                                                                                                                                                                                                                                                                                                                                                                                                                                                                                                                                                                   movieId  \n",
       "0                                                                                                                                                                                                                                                                                                                                                                                                                                               [60756, 80906, 89774, 106782, 122882, 131724, 1704, 58559, 68157, 80489, 333, 3578, 6874, 46970, 48516, 74458, 79132, 86345, 112552, 8798, 91529, 99114, 115713, 318, 71535, 77455, 109487, 91658, 114060]  \n",
       "1   [10, 1270, 2011, 2012, 7573, 260, 356, 648, 1196, 1210, 1544, 1580, 2947, 2948, 2949, 2989, 2990, 2991, 2993, 3633, 3635, 3638, 3639, 3984, 4489, 4963, 5445, 7569, 7570, 8529, 8984, 33004, 33493, 53121, 53322, 58998, 68954, 78637, 101864, 111759, 111781, 135887, 364, 480, 588, 597, 743, 1198, 1291, 2115, 2424, 2529, 2571, 2628, 2671, 2763, 2916, 3022, 3253, 3868, 3869, 4005, 4306, 4545, 4896, 5218, 5378, 5418, 5574, 5816, 6539, 6934, 6942, 7143, 8360, 8368, 8644, 8665, 8798, 8972, 33615, 40815, 47566, 49272, 53125, 54286, 59315, 59615, 69644, 69844, 72998, 77561, 78499, 79185, 82202, 85259, 88125, 89745, 91630, 94677, ...]  \n",
       "2                                                                                                                                                                                                                                                                                                                                                                                                                                                                                                                                                                                                   [1408, 5464, 6502, 111362, 4223, 5010, 104841, 111759]  \n",
       "3                                                                                                                                                                                                                                                                                                                                                                                                                                                                                                                                  [527, 858, 58559, 318, 362, 783, 805, 1242, 2150, 2739, 3386, 3424, 6016, 48, 50, 60, 455, 832, 1203, 1562, 2067, 2724]  \n",
       "4                   [1, 50, 260, 296, 318, 344, 745, 1080, 1136, 1148, 1196, 1198, 1208, 1220, 1223, 1270, 1288, 2078, 2716, 2788, 2858, 2959, 3949, 5669, 6104, 7361, 8874, 32587, 33779, 38038, 48774, 51255, 57669, 58559, 77455, 77800, 79702, 86290, 89753, 89904, 91529, 92494, 92535, 97913, 98491, 102217, 106696, 108932, 111781, 115617, 134853, 608, 1210, 1965, 2542, 2692, 6016, 6350, 7980, 48516, 64285, 81845, 96610, 102445, 47, 165, 357, 364, 367, 527, 588, 589, 592, 648, 778, 858, 912, 913, 953, 1036, 1084, 1193, 1201, 1202, 1203, 1213, 1221, 1262, 1282, 1291, 1617, 1968, 2115, 2329, 2791, 3088, 3435, 3481, 3535, 3751, ...]  \n",
       "..                                                                                                                                                                                                                                                                                                                                                                                                                                                                                                                                                                                                                                                     ...  \n",
       "64                                                                                                                                                                                                                                                                                                                                                                                                                                                                                                                                                                                                                           [858, 109487, 111362, 112852]  \n",
       "65                                                                                                                                                                                                                                                                                                                                                                                           [318, 527, 3147, 4896, 5816, 5995, 7361, 356, 2324, 2762, 2959, 3949, 4022, 4226, 4306, 4886, 4993, 4995, 5349, 5952, 6377, 7153, 8368, 44191, 79132, 81845, 92259, 109487, 112552, 1704, 59315, 60069, 68954, 116797, 134130, 2571, 4973, 5989, 7147, 48394]  \n",
       "66                                                                                                                                                                                                                                                                                                                      [2571, 79091, 79132, 81834, 88125, 89745, 92259, 49272, 58559, 69844, 76093, 91529, 96079, 99114, 102125, 104841, 109487, 260, 1196, 48516, 54001, 60069, 68157, 74458, 81229, 81564, 87232, 91500, 91630, 94864, 109374, 134130, 4993, 5618, 44191, 48780, 68954, 73321, 115617, 84954, 97752, 97913, 76251, 77561, 85414, 96610]  \n",
       "67                                                                                                                                                                                                                                                                                                                                                                                                                                                                                                        [5816, 7361, 46578, 54001, 56367, 79132, 101577, 103543, 113829, 114265, 124851, 130490, 4963, 5418, 63082, 1197, 110771, 4226, 4306, 8360, 593]  \n",
       "68                                                                                                                                                                                                                                                                                                                                                                                                                                                                                  [50, 318, 527, 858, 2028, 2571, 2959, 4226, 4886, 4993, 5952, 6377, 7153, 8961, 79132, 109487, 1221, 1262, 2019, 4963, 5989, 7361, 4995, 5445, 112556, 116797, 141846]  \n",
       "\n",
       "[69 rows x 2 columns]"
      ]
     },
     "execution_count": 446,
     "metadata": {},
     "output_type": "execute_result"
    }
   ],
   "source": [
    "ideal_recomms = interactions_validation.sort_values(by=[\"userId\", \"rating\"], ascending=False)\\\n",
    "                  .groupby(\"userId\", as_index=False)\\\n",
    "                  .agg({\"movieId\": \"unique\"})\n",
    "ideal_recomms"
   ]
  },
  {
   "cell_type": "code",
   "execution_count": 447,
   "metadata": {},
   "outputs": [
    {
     "data": {
      "text/plain": [
       "Index(['userId', 'movieId'], dtype='object')"
      ]
     },
     "execution_count": 447,
     "metadata": {},
     "output_type": "execute_result"
    }
   ],
   "source": [
    "ideal_recomms.columns"
   ]
  },
  {
   "cell_type": "markdown",
   "metadata": {},
   "source": [
    "> Proximo paso sería hacer un nuevo dataframe, en donde combinariamos lo recomendado con la lista ideal para poder hacer la comparación."
   ]
  },
  {
   "cell_type": "code",
   "execution_count": 448,
   "metadata": {},
   "outputs": [
    {
     "data": {
      "text/html": [
       "<div>\n",
       "<style scoped>\n",
       "    .dataframe tbody tr th:only-of-type {\n",
       "        vertical-align: middle;\n",
       "    }\n",
       "\n",
       "    .dataframe tbody tr th {\n",
       "        vertical-align: top;\n",
       "    }\n",
       "\n",
       "    .dataframe thead th {\n",
       "        text-align: right;\n",
       "    }\n",
       "</style>\n",
       "<table border=\"1\" class=\"dataframe\">\n",
       "  <thead>\n",
       "    <tr style=\"text-align: right;\">\n",
       "      <th></th>\n",
       "      <th>user_id</th>\n",
       "      <th>recomms_df</th>\n",
       "      <th>recomms_ideal</th>\n",
       "    </tr>\n",
       "  </thead>\n",
       "  <tbody>\n",
       "    <tr>\n",
       "      <th>0</th>\n",
       "      <td>2</td>\n",
       "      <td>[296, 356, 318, 593, 480, 110, 589, 780, 260, 150, 2571, 592, 1, 457, 380, 527, 590, 50, 47, 2858]</td>\n",
       "      <td>[60756, 80906, 89774, 106782, 122882, 131724, 1704, 58559, 68157, 80489, 333, 3578, 6874, 46970, 48516, 74458, 79132, 86345, 112552, 8798, 91529, 99114, 115713, 318, 71535, 77455, 109487, 91658, 114060]</td>\n",
       "    </tr>\n",
       "    <tr>\n",
       "      <th>1</th>\n",
       "      <td>21</td>\n",
       "      <td>[296, 356, 318, 110, 593, 480, 150, 592, 590, 380, 589, 457, 344, 780, 588, 153, 1, 527, 47, 377]</td>\n",
       "      <td>[10, 1270, 2011, 2012, 7573, 260, 356, 648, 1196, 1210, 1544, 1580, 2947, 2948, 2949, 2989, 2990, 2991, 2993, 3633, 3635, 3638, 3639, 3984, 4489, 4963, 5445, 7569, 7570, 8529, 8984, 33004, 33493, 53121, 53322, 58998, 68954, 78637, 101864, 111759, 111781, 135887, 364, 480, 588, 597, 743, 1198, 1291, 2115, 2424, 2529, 2571, 2628, 2671, 2763, 2916, 3022, 3253, 3868, 3869, 4005, 4306, 4545, 4896, 5218, 5378, 5418, 5574, 5816, 6539, 6934, 6942, 7143, 8360, 8368, 8644, 8665, 8798, 8972, 33615, 40815, 47566, 49272, 53125, 54286, 59315, 59615, 69644, 69844, 72998, 77561, 78499, 79185, 82202, 85259, 88125, 89745, 91630, 94677, ...]</td>\n",
       "    </tr>\n",
       "    <tr>\n",
       "      <th>2</th>\n",
       "      <td>29</td>\n",
       "      <td>[110, 593, 480, 592, 590, 380, 457, 589, 344, 588, 153, 1, 527, 32, 47, 377, 349, 260, 231, 595]</td>\n",
       "      <td>[1408, 5464, 6502, 111362, 4223, 5010, 104841, 111759]</td>\n",
       "    </tr>\n",
       "    <tr>\n",
       "      <th>3</th>\n",
       "      <td>60</td>\n",
       "      <td>[296, 356, 318, 593, 480, 110, 589, 780, 260, 150, 2571, 592, 1, 457, 380, 527, 590, 50, 47, 2858]</td>\n",
       "      <td>[527, 858, 58559, 318, 362, 783, 805, 1242, 2150, 2739, 3386, 3424, 6016, 48, 50, 60, 455, 832, 1203, 1562, 2067, 2724]</td>\n",
       "    </tr>\n",
       "    <tr>\n",
       "      <th>4</th>\n",
       "      <td>63</td>\n",
       "      <td>[296, 356, 318, 593, 480, 110, 589, 780, 260, 150, 2571, 592, 1, 457, 380, 527, 590, 50, 47, 2858]</td>\n",
       "      <td>[1, 50, 260, 296, 318, 344, 745, 1080, 1136, 1148, 1196, 1198, 1208, 1220, 1223, 1270, 1288, 2078, 2716, 2788, 2858, 2959, 3949, 5669, 6104, 7361, 8874, 32587, 33779, 38038, 48774, 51255, 57669, 58559, 77455, 77800, 79702, 86290, 89753, 89904, 91529, 92494, 92535, 97913, 98491, 102217, 106696, 108932, 111781, 115617, 134853, 608, 1210, 1965, 2542, 2692, 6016, 6350, 7980, 48516, 64285, 81845, 96610, 102445, 47, 165, 357, 364, 367, 527, 588, 589, 592, 648, 778, 858, 912, 913, 953, 1036, 1084, 1193, 1201, 1202, 1203, 1213, 1221, 1262, 1282, 1291, 1617, 1968, 2115, 2329, 2791, 3088, 3435, 3481, 3535, 3751, ...]</td>\n",
       "    </tr>\n",
       "    <tr>\n",
       "      <th>...</th>\n",
       "      <td>...</td>\n",
       "      <td>...</td>\n",
       "      <td>...</td>\n",
       "    </tr>\n",
       "    <tr>\n",
       "      <th>64</th>\n",
       "      <td>573</td>\n",
       "      <td>[590, 344, 527, 32, 349, 161, 434, 292, 208, 454, 329, 253, 608, 858, 34, 339, 597, 300, 587, 539]</td>\n",
       "      <td>[858, 109487, 111362, 112852]</td>\n",
       "    </tr>\n",
       "    <tr>\n",
       "      <th>65</th>\n",
       "      <td>581</td>\n",
       "      <td>[296, 356, 318, 593, 480, 110, 589, 780, 260, 150, 2571, 592, 1, 457, 380, 527, 590, 50, 47, 2858]</td>\n",
       "      <td>[318, 527, 3147, 4896, 5816, 5995, 7361, 356, 2324, 2762, 2959, 3949, 4022, 4226, 4306, 4886, 4993, 4995, 5349, 5952, 6377, 7153, 8368, 44191, 79132, 81845, 92259, 109487, 112552, 1704, 59315, 60069, 68954, 116797, 134130, 2571, 4973, 5989, 7147, 48394]</td>\n",
       "    </tr>\n",
       "    <tr>\n",
       "      <th>66</th>\n",
       "      <td>582</td>\n",
       "      <td>[296, 356, 318, 593, 480, 110, 589, 780, 260, 150, 2571, 592, 1, 457, 380, 527, 590, 50, 47, 2858]</td>\n",
       "      <td>[2571, 79091, 79132, 81834, 88125, 89745, 92259, 49272, 58559, 69844, 76093, 91529, 96079, 99114, 102125, 104841, 109487, 260, 1196, 48516, 54001, 60069, 68157, 74458, 81229, 81564, 87232, 91500, 91630, 94864, 109374, 134130, 4993, 5618, 44191, 48780, 68954, 73321, 115617, 84954, 97752, 97913, 76251, 77561, 85414, 96610]</td>\n",
       "    </tr>\n",
       "    <tr>\n",
       "      <th>67</th>\n",
       "      <td>598</td>\n",
       "      <td>[296, 356, 318, 593, 480, 110, 589, 780, 260, 150, 2571, 592, 1, 457, 380, 527, 590, 50, 47, 2858]</td>\n",
       "      <td>[5816, 7361, 46578, 54001, 56367, 79132, 101577, 103543, 113829, 114265, 124851, 130490, 4963, 5418, 63082, 1197, 110771, 4226, 4306, 8360, 593]</td>\n",
       "    </tr>\n",
       "    <tr>\n",
       "      <th>68</th>\n",
       "      <td>601</td>\n",
       "      <td>[296, 356, 318, 593, 480, 110, 589, 780, 260, 150, 2571, 592, 1, 457, 380, 527, 590, 50, 47, 2858]</td>\n",
       "      <td>[50, 318, 527, 858, 2028, 2571, 2959, 4226, 4886, 4993, 5952, 6377, 7153, 8961, 79132, 109487, 1221, 1262, 2019, 4963, 5989, 7361, 4995, 5445, 112556, 116797, 141846]</td>\n",
       "    </tr>\n",
       "  </tbody>\n",
       "</table>\n",
       "<p>69 rows × 3 columns</p>\n",
       "</div>"
      ],
      "text/plain": [
       "    user_id  \\\n",
       "0         2   \n",
       "1        21   \n",
       "2        29   \n",
       "3        60   \n",
       "4        63   \n",
       "..      ...   \n",
       "64      573   \n",
       "65      581   \n",
       "66      582   \n",
       "67      598   \n",
       "68      601   \n",
       "\n",
       "                                                                                            recomms_df  \\\n",
       "0   [296, 356, 318, 593, 480, 110, 589, 780, 260, 150, 2571, 592, 1, 457, 380, 527, 590, 50, 47, 2858]   \n",
       "1    [296, 356, 318, 110, 593, 480, 150, 592, 590, 380, 589, 457, 344, 780, 588, 153, 1, 527, 47, 377]   \n",
       "2     [110, 593, 480, 592, 590, 380, 457, 589, 344, 588, 153, 1, 527, 32, 47, 377, 349, 260, 231, 595]   \n",
       "3   [296, 356, 318, 593, 480, 110, 589, 780, 260, 150, 2571, 592, 1, 457, 380, 527, 590, 50, 47, 2858]   \n",
       "4   [296, 356, 318, 593, 480, 110, 589, 780, 260, 150, 2571, 592, 1, 457, 380, 527, 590, 50, 47, 2858]   \n",
       "..                                                                                                 ...   \n",
       "64  [590, 344, 527, 32, 349, 161, 434, 292, 208, 454, 329, 253, 608, 858, 34, 339, 597, 300, 587, 539]   \n",
       "65  [296, 356, 318, 593, 480, 110, 589, 780, 260, 150, 2571, 592, 1, 457, 380, 527, 590, 50, 47, 2858]   \n",
       "66  [296, 356, 318, 593, 480, 110, 589, 780, 260, 150, 2571, 592, 1, 457, 380, 527, 590, 50, 47, 2858]   \n",
       "67  [296, 356, 318, 593, 480, 110, 589, 780, 260, 150, 2571, 592, 1, 457, 380, 527, 590, 50, 47, 2858]   \n",
       "68  [296, 356, 318, 593, 480, 110, 589, 780, 260, 150, 2571, 592, 1, 457, 380, 527, 590, 50, 47, 2858]   \n",
       "\n",
       "                                                                                                                                                                                                                                                                                                                                                                                                                                                                                                                                                                                                                                             recomms_ideal  \n",
       "0                                                                                                                                                                                                                                                                                                                                                                                                                                               [60756, 80906, 89774, 106782, 122882, 131724, 1704, 58559, 68157, 80489, 333, 3578, 6874, 46970, 48516, 74458, 79132, 86345, 112552, 8798, 91529, 99114, 115713, 318, 71535, 77455, 109487, 91658, 114060]  \n",
       "1   [10, 1270, 2011, 2012, 7573, 260, 356, 648, 1196, 1210, 1544, 1580, 2947, 2948, 2949, 2989, 2990, 2991, 2993, 3633, 3635, 3638, 3639, 3984, 4489, 4963, 5445, 7569, 7570, 8529, 8984, 33004, 33493, 53121, 53322, 58998, 68954, 78637, 101864, 111759, 111781, 135887, 364, 480, 588, 597, 743, 1198, 1291, 2115, 2424, 2529, 2571, 2628, 2671, 2763, 2916, 3022, 3253, 3868, 3869, 4005, 4306, 4545, 4896, 5218, 5378, 5418, 5574, 5816, 6539, 6934, 6942, 7143, 8360, 8368, 8644, 8665, 8798, 8972, 33615, 40815, 47566, 49272, 53125, 54286, 59315, 59615, 69644, 69844, 72998, 77561, 78499, 79185, 82202, 85259, 88125, 89745, 91630, 94677, ...]  \n",
       "2                                                                                                                                                                                                                                                                                                                                                                                                                                                                                                                                                                                                   [1408, 5464, 6502, 111362, 4223, 5010, 104841, 111759]  \n",
       "3                                                                                                                                                                                                                                                                                                                                                                                                                                                                                                                                  [527, 858, 58559, 318, 362, 783, 805, 1242, 2150, 2739, 3386, 3424, 6016, 48, 50, 60, 455, 832, 1203, 1562, 2067, 2724]  \n",
       "4                   [1, 50, 260, 296, 318, 344, 745, 1080, 1136, 1148, 1196, 1198, 1208, 1220, 1223, 1270, 1288, 2078, 2716, 2788, 2858, 2959, 3949, 5669, 6104, 7361, 8874, 32587, 33779, 38038, 48774, 51255, 57669, 58559, 77455, 77800, 79702, 86290, 89753, 89904, 91529, 92494, 92535, 97913, 98491, 102217, 106696, 108932, 111781, 115617, 134853, 608, 1210, 1965, 2542, 2692, 6016, 6350, 7980, 48516, 64285, 81845, 96610, 102445, 47, 165, 357, 364, 367, 527, 588, 589, 592, 648, 778, 858, 912, 913, 953, 1036, 1084, 1193, 1201, 1202, 1203, 1213, 1221, 1262, 1282, 1291, 1617, 1968, 2115, 2329, 2791, 3088, 3435, 3481, 3535, 3751, ...]  \n",
       "..                                                                                                                                                                                                                                                                                                                                                                                                                                                                                                                                                                                                                                                     ...  \n",
       "64                                                                                                                                                                                                                                                                                                                                                                                                                                                                                                                                                                                                                           [858, 109487, 111362, 112852]  \n",
       "65                                                                                                                                                                                                                                                                                                                                                                                           [318, 527, 3147, 4896, 5816, 5995, 7361, 356, 2324, 2762, 2959, 3949, 4022, 4226, 4306, 4886, 4993, 4995, 5349, 5952, 6377, 7153, 8368, 44191, 79132, 81845, 92259, 109487, 112552, 1704, 59315, 60069, 68954, 116797, 134130, 2571, 4973, 5989, 7147, 48394]  \n",
       "66                                                                                                                                                                                                                                                                                                                      [2571, 79091, 79132, 81834, 88125, 89745, 92259, 49272, 58559, 69844, 76093, 91529, 96079, 99114, 102125, 104841, 109487, 260, 1196, 48516, 54001, 60069, 68157, 74458, 81229, 81564, 87232, 91500, 91630, 94864, 109374, 134130, 4993, 5618, 44191, 48780, 68954, 73321, 115617, 84954, 97752, 97913, 76251, 77561, 85414, 96610]  \n",
       "67                                                                                                                                                                                                                                                                                                                                                                                                                                                                                                        [5816, 7361, 46578, 54001, 56367, 79132, 101577, 103543, 113829, 114265, 124851, 130490, 4963, 5418, 63082, 1197, 110771, 4226, 4306, 8360, 593]  \n",
       "68                                                                                                                                                                                                                                                                                                                                                                                                                                                                                  [50, 318, 527, 858, 2028, 2571, 2959, 4226, 4886, 4993, 5952, 6377, 7153, 8961, 79132, 109487, 1221, 1262, 2019, 4963, 5989, 7361, 4995, 5445, 112556, 116797, 141846]  \n",
       "\n",
       "[69 rows x 3 columns]"
      ]
     },
     "execution_count": 448,
     "metadata": {},
     "output_type": "execute_result"
    }
   ],
   "source": [
    "merged_df = pd.merge(df, ideal_recomms, left_on='user_id', right_on='userId', how='inner')\n",
    "merged_df = merged_df.rename(columns={'recomms': 'recomms_df', 'movieId': 'recomms_ideal'})\n",
    "merged_df = merged_df.drop(columns=['userId'])\n",
    "\n",
    "merged_df\n",
    "\n"
   ]
  },
  {
   "cell_type": "code",
   "execution_count": 449,
   "metadata": {},
   "outputs": [],
   "source": [
    "aps = []\n",
    "\n",
    "for pred, label in merged_df[[\"recomms_ideal\", \"recomms_df\"]].values:\n",
    "  n = len(pred)\n",
    "  arange = np.arange(n, dtype=np.int32) + 1.\n",
    "  rel_k = np.in1d(pred[:n], label)\n",
    "  tp = np.ones(rel_k.sum(), dtype=np.int32).cumsum()\n",
    "  denom = arange[rel_k]\n",
    "  ap = (tp / denom).sum() / len(label)\n",
    "  aps.append(ap)"
   ]
  },
  {
   "cell_type": "code",
   "execution_count": 450,
   "metadata": {},
   "outputs": [
    {
     "name": "stdout",
     "output_type": "stream",
     "text": [
      "mean average precision = 0.08557\n"
     ]
    }
   ],
   "source": [
    "MAP = np.mean(aps)\n",
    "print(f'mean average precision = {round(MAP, 5)}')"
   ]
  },
  {
   "cell_type": "markdown",
   "metadata": {},
   "source": [
    "#### Metricas en test"
   ]
  },
  {
   "cell_type": "code",
   "execution_count": 451,
   "metadata": {},
   "outputs": [],
   "source": [
    "def recommAll_test(no_recom):\n",
    "    recomms_dict = {\n",
    "        'user_id': [],\n",
    "        'recomms': []\n",
    "    }\n",
    "    for user in test.userId.unique():\n",
    "        recomms_dict['user_id'].append(user)\n",
    "        recomms_dict['recomms'].append(recomm(user, no_recom))\n",
    "    return pd.DataFrame(recomms_dict)"
   ]
  },
  {
   "cell_type": "code",
   "execution_count": 452,
   "metadata": {},
   "outputs": [
    {
     "data": {
      "text/html": [
       "<div>\n",
       "<style scoped>\n",
       "    .dataframe tbody tr th:only-of-type {\n",
       "        vertical-align: middle;\n",
       "    }\n",
       "\n",
       "    .dataframe tbody tr th {\n",
       "        vertical-align: top;\n",
       "    }\n",
       "\n",
       "    .dataframe thead th {\n",
       "        text-align: right;\n",
       "    }\n",
       "</style>\n",
       "<table border=\"1\" class=\"dataframe\">\n",
       "  <thead>\n",
       "    <tr style=\"text-align: right;\">\n",
       "      <th></th>\n",
       "      <th>user_id</th>\n",
       "      <th>recomms</th>\n",
       "    </tr>\n",
       "  </thead>\n",
       "  <tbody>\n",
       "    <tr>\n",
       "      <th>0</th>\n",
       "      <td>10</td>\n",
       "      <td>[296, 356, 318, 593, 480, 110, 589, 780, 260, 150, 2571, 592, 1, 457, 380, 527, 590, 50, 47, 2858]</td>\n",
       "    </tr>\n",
       "    <tr>\n",
       "      <th>1</th>\n",
       "      <td>15</td>\n",
       "      <td>[296, 356, 318, 110, 593, 480, 150, 592, 380, 590, 589, 457, 344, 780, 588, 1, 153, 527, 32, 47]</td>\n",
       "    </tr>\n",
       "    <tr>\n",
       "      <th>2</th>\n",
       "      <td>18</td>\n",
       "      <td>[296, 356, 318, 593, 480, 110, 589, 780, 260, 150, 2571, 592, 1, 457, 380, 527, 590, 50, 47, 2858]</td>\n",
       "    </tr>\n",
       "    <tr>\n",
       "      <th>3</th>\n",
       "      <td>21</td>\n",
       "      <td>[296, 356, 318, 110, 593, 480, 150, 592, 590, 380, 589, 457, 344, 780, 588, 153, 1, 527, 47, 377]</td>\n",
       "    </tr>\n",
       "    <tr>\n",
       "      <th>4</th>\n",
       "      <td>24</td>\n",
       "      <td>[296, 356, 318, 593, 480, 110, 589, 780, 260, 150, 2571, 592, 1, 457, 380, 527, 590, 50, 47, 2858]</td>\n",
       "    </tr>\n",
       "    <tr>\n",
       "      <th>...</th>\n",
       "      <td>...</td>\n",
       "      <td>...</td>\n",
       "    </tr>\n",
       "    <tr>\n",
       "      <th>115</th>\n",
       "      <td>586</td>\n",
       "      <td>[296, 356, 318, 593, 480, 110, 589, 780, 260, 150, 2571, 592, 1, 457, 380, 527, 590, 50, 47, 2858]</td>\n",
       "    </tr>\n",
       "    <tr>\n",
       "      <th>116</th>\n",
       "      <td>596</td>\n",
       "      <td>[296, 356, 318, 593, 480, 110, 589, 780, 260, 150, 2571, 592, 1, 457, 380, 527, 590, 50, 47, 2858]</td>\n",
       "    </tr>\n",
       "    <tr>\n",
       "      <th>117</th>\n",
       "      <td>599</td>\n",
       "      <td>[296, 356, 318, 593, 480, 110, 589, 780, 260, 150, 2571, 592, 1, 457, 380, 527, 590, 50, 47, 2858]</td>\n",
       "    </tr>\n",
       "    <tr>\n",
       "      <th>118</th>\n",
       "      <td>601</td>\n",
       "      <td>[296, 356, 318, 593, 480, 110, 589, 780, 260, 150, 2571, 592, 1, 457, 380, 527, 590, 50, 47, 2858]</td>\n",
       "    </tr>\n",
       "    <tr>\n",
       "      <th>119</th>\n",
       "      <td>610</td>\n",
       "      <td>[296, 356, 318, 593, 480, 110, 589, 780, 260, 150, 2571, 592, 1, 457, 380, 527, 590, 50, 47, 2858]</td>\n",
       "    </tr>\n",
       "  </tbody>\n",
       "</table>\n",
       "<p>120 rows × 2 columns</p>\n",
       "</div>"
      ],
      "text/plain": [
       "     user_id  \\\n",
       "0         10   \n",
       "1         15   \n",
       "2         18   \n",
       "3         21   \n",
       "4         24   \n",
       "..       ...   \n",
       "115      586   \n",
       "116      596   \n",
       "117      599   \n",
       "118      601   \n",
       "119      610   \n",
       "\n",
       "                                                                                                recomms  \n",
       "0    [296, 356, 318, 593, 480, 110, 589, 780, 260, 150, 2571, 592, 1, 457, 380, 527, 590, 50, 47, 2858]  \n",
       "1      [296, 356, 318, 110, 593, 480, 150, 592, 380, 590, 589, 457, 344, 780, 588, 1, 153, 527, 32, 47]  \n",
       "2    [296, 356, 318, 593, 480, 110, 589, 780, 260, 150, 2571, 592, 1, 457, 380, 527, 590, 50, 47, 2858]  \n",
       "3     [296, 356, 318, 110, 593, 480, 150, 592, 590, 380, 589, 457, 344, 780, 588, 153, 1, 527, 47, 377]  \n",
       "4    [296, 356, 318, 593, 480, 110, 589, 780, 260, 150, 2571, 592, 1, 457, 380, 527, 590, 50, 47, 2858]  \n",
       "..                                                                                                  ...  \n",
       "115  [296, 356, 318, 593, 480, 110, 589, 780, 260, 150, 2571, 592, 1, 457, 380, 527, 590, 50, 47, 2858]  \n",
       "116  [296, 356, 318, 593, 480, 110, 589, 780, 260, 150, 2571, 592, 1, 457, 380, 527, 590, 50, 47, 2858]  \n",
       "117  [296, 356, 318, 593, 480, 110, 589, 780, 260, 150, 2571, 592, 1, 457, 380, 527, 590, 50, 47, 2858]  \n",
       "118  [296, 356, 318, 593, 480, 110, 589, 780, 260, 150, 2571, 592, 1, 457, 380, 527, 590, 50, 47, 2858]  \n",
       "119  [296, 356, 318, 593, 480, 110, 589, 780, 260, 150, 2571, 592, 1, 457, 380, 527, 590, 50, 47, 2858]  \n",
       "\n",
       "[120 rows x 2 columns]"
      ]
     },
     "execution_count": 452,
     "metadata": {},
     "output_type": "execute_result"
    }
   ],
   "source": [
    "pd.options.display.max_colwidth = None\n",
    "df_test = recommAll_test(100)\n",
    "df_test"
   ]
  },
  {
   "cell_type": "code",
   "execution_count": 453,
   "metadata": {},
   "outputs": [
    {
     "data": {
      "text/html": [
       "<div>\n",
       "<style scoped>\n",
       "    .dataframe tbody tr th:only-of-type {\n",
       "        vertical-align: middle;\n",
       "    }\n",
       "\n",
       "    .dataframe tbody tr th {\n",
       "        vertical-align: top;\n",
       "    }\n",
       "\n",
       "    .dataframe thead th {\n",
       "        text-align: right;\n",
       "    }\n",
       "</style>\n",
       "<table border=\"1\" class=\"dataframe\">\n",
       "  <thead>\n",
       "    <tr style=\"text-align: right;\">\n",
       "      <th></th>\n",
       "      <th>userId</th>\n",
       "      <th>movieId</th>\n",
       "      <th>rating</th>\n",
       "    </tr>\n",
       "  </thead>\n",
       "  <tbody>\n",
       "    <tr>\n",
       "      <th>1119</th>\n",
       "      <td>10</td>\n",
       "      <td>296</td>\n",
       "      <td>1.0</td>\n",
       "    </tr>\n",
       "    <tr>\n",
       "      <th>1120</th>\n",
       "      <td>10</td>\n",
       "      <td>356</td>\n",
       "      <td>3.5</td>\n",
       "    </tr>\n",
       "    <tr>\n",
       "      <th>1121</th>\n",
       "      <td>10</td>\n",
       "      <td>588</td>\n",
       "      <td>4.0</td>\n",
       "    </tr>\n",
       "    <tr>\n",
       "      <th>1122</th>\n",
       "      <td>10</td>\n",
       "      <td>597</td>\n",
       "      <td>3.5</td>\n",
       "    </tr>\n",
       "    <tr>\n",
       "      <th>1123</th>\n",
       "      <td>10</td>\n",
       "      <td>912</td>\n",
       "      <td>4.0</td>\n",
       "    </tr>\n",
       "  </tbody>\n",
       "</table>\n",
       "</div>"
      ],
      "text/plain": [
       "      userId  movieId  rating\n",
       "1119      10      296     1.0\n",
       "1120      10      356     3.5\n",
       "1121      10      588     4.0\n",
       "1122      10      597     3.5\n",
       "1123      10      912     4.0"
      ]
     },
     "execution_count": 453,
     "metadata": {},
     "output_type": "execute_result"
    }
   ],
   "source": [
    "interactions_test = test[[\"userId\", \"movieId\", \"rating\"]].copy()\n",
    "interactions_test.head()"
   ]
  },
  {
   "cell_type": "code",
   "execution_count": 454,
   "metadata": {},
   "outputs": [
    {
     "data": {
      "text/html": [
       "<div>\n",
       "<style scoped>\n",
       "    .dataframe tbody tr th:only-of-type {\n",
       "        vertical-align: middle;\n",
       "    }\n",
       "\n",
       "    .dataframe tbody tr th {\n",
       "        vertical-align: top;\n",
       "    }\n",
       "\n",
       "    .dataframe thead th {\n",
       "        text-align: right;\n",
       "    }\n",
       "</style>\n",
       "<table border=\"1\" class=\"dataframe\">\n",
       "  <thead>\n",
       "    <tr style=\"text-align: right;\">\n",
       "      <th></th>\n",
       "      <th>userId</th>\n",
       "      <th>movieId</th>\n",
       "    </tr>\n",
       "  </thead>\n",
       "  <tbody>\n",
       "    <tr>\n",
       "      <th>0</th>\n",
       "      <td>10</td>\n",
       "      <td>[7458, 8533, 8869, 33794, 49272, 49286, 71579, 79091, 81845, 91529, 92259, 96079, 136020, 140110, 4306, 4447, 7169, 31685, 51705, 58559, 63992, 69406, 94070, 106696, 113275, 588, 912, 1907, 3578, 4993, 4995, 5952, 6535, 6942, 7149, 7153, 7154, 7375, 40819, 68954, 88163, 95167, 95449, 103335, 103339, 104374, 109853, 112006, 113394, 137595, 356, 597, 1784, 2671, 4246, 5377, 6377, 7293, 7451, 8529, 8636, 8665, 8969, 30749, 54286, 56367, 58047, 63113, 66203, 72330, 72720, 72737, 80549, 81847, 82167, 84374, 87222, 95543, 106489, 129428, 1088, 1247, 1307, 3882, 5066, 5620, 5943, 5957, 6155, 6266, 7151, 8808, 33145, 33679, 40629, 47099, 51662, 56949, 60397, 69844, ...]</td>\n",
       "    </tr>\n",
       "    <tr>\n",
       "      <th>1</th>\n",
       "      <td>15</td>\n",
       "      <td>[260, 318, 356, 527, 589, 1196, 1200, 1210, 1214, 1270, 2011, 3147, 3156, 3578, 4720, 4995, 5989, 33493, 84152, 122886, 152077, 166528, 1653, 2329, 2916, 48304, 48780, 84954, 104841, 111759, 112556, 134853, 296, 858, 1198, 1240, 2012, 2571, 2858, 3499, 3949, 4370, 5445, 64614, 71057, 97938, 101864, 105504, 109487, 134130, 47, 780, 1265, 2028, 3535, 4022, 4886, 4993, 5952, 6502, 7254, 8644, 56174, 60069, 68954, 70286, 79132, 85414, 103249, 158872, 160980, 166635, 293, 364, 588, 1527, 2081, 2762, 3753, 3994, 4306, 5618, 6377, 6874, 7438, 48774, 50872, 63859, 68237, 72998, 91500, 94864, 96610, 143385, 152081, 1, 2959, 8360, 8961, 71264, ...]</td>\n",
       "    </tr>\n",
       "    <tr>\n",
       "      <th>2</th>\n",
       "      <td>18</td>\n",
       "      <td>[50, 318, 923, 1201, 1203, 1209, 1221, 16, 47, 110, 235, 293, 356, 527, 589, 593, 608, 778, 904, 1080, 1136, 1148, 1193, 1206, 1207, 1210, 1212, 1213, 1219, 1222, 1223, 1227, 1234, 1247, 1356, 1374, 1732, 2324, 2542, 2571, 2762, 2951, 2959, 3052, 3275, 3578, 3681, 3949, 4011, 4226, 4993, 4995, 5008, 5120, 5995, 6300, 6440, 6539, 6807, 7147, 7153, 7254, 7843, 27716, 27878, 33794, 44191, 44199, 44665, 48516, 48780, 51540, 52604, 55118, 55290, 55765, 64197, 67255, 68073, 71108, 71899, 73017, 73323, 74458, 74510, 76251, 79132, 81788, 84392, 109487, 112334, 112552, 112852, 115713, 116797, 134130, 142488, 157108, 157110, 177593, ...]</td>\n",
       "    </tr>\n",
       "    <tr>\n",
       "      <th>3</th>\n",
       "      <td>21</td>\n",
       "      <td>[47997, 2717, 33679, 117529, 119145, 122886, 122896, 122922, 136020, 143385, 152081, 164179, 167036, 296, 541, 780, 2617, 6155, 30793, 32296, 34048, 36519, 50872, 51662, 53996, 60397, 63082, 68791, 69122, 69526, 72378, 73321, 78469, 79293, 79592, 87520, 90249, 91535, 95167, 96588, 108190, 112138, 114180, 115149, 116823, 122900, 122904, 135133, 135536, 138036, 164909, 166492, 168248, 902, 2052, 2953, 4700, 5219, 5254, 7373, 32587, 34150, 41566, 72641, 93510, 110553, 126548, 130450, 136016, 168252, 1573, 3697, 142536, 58025, 97913, 148675, 6874, 7438, 38038, 143245, 149380, 2174, 5266, 61160, 108932, 160565, 1391, 160872, 173307]</td>\n",
       "    </tr>\n",
       "    <tr>\n",
       "      <th>4</th>\n",
       "      <td>24</td>\n",
       "      <td>[6, 318, 356, 593, 1198, 1265, 3147, 5064, 6350, 27773, 50, 296, 608, 1197, 1246, 1396, 1527, 1580, 1704, 1784, 2028, 2115, 2424, 2571, 2686, 3578, 4027, 4262, 4489, 4855, 5418, 5673, 5791, 7143, 35836, 38061, 44191, 46976, 51662, 54286, 58559, 58998, 64957, 68358, 70286, 72011, 79132, 86882, 91529, 94777, 119145, 132660, 134130, 134853, 32, 165, 253, 316, 457, 552, 780, 1220, 1370, 1663, 1682, 2273, 2421, 2617, 2916, 4299, 4701, 4973, 4995, 7293, 31685, 33679, 34437, 49272, 52973, 57368, 59615, 61024, 91542, 96079, 102407, 111759, 122886, 733, 1297, 1639, 1653, 2134, 5445, 5903, 8784, 31696, 45672, 47610, 61132, 63113, ...]</td>\n",
       "    </tr>\n",
       "    <tr>\n",
       "      <th>...</th>\n",
       "      <td>...</td>\n",
       "      <td>...</td>\n",
       "    </tr>\n",
       "    <tr>\n",
       "      <th>115</th>\n",
       "      <td>586</td>\n",
       "      <td>[110, 318, 589, 1198, 1200, 1374, 1580, 1704, 2011, 2353, 2490, 2571, 3175, 3578, 3753, 3793, 4886, 4993, 5952, 6333, 6539, 7153, 8368, 8665, 33615, 45431, 45499, 45517, 47610, 50872, 59315, 59369, 59784, 60069, 62999, 63859, 68954, 76093, 77561, 79091, 86298, 86880, 87222, 93272, 95167, 96861, 98243, 101142, 103141, 106489, 106696, 110102, 112852, 117851, 118696, 120635, 122886, 122896, 122906, 122918, 122920, 122922, 122926, 134853, 135133, 136556, 149406, 152081, 160438, 166461, 168252, 168418, 179819, 187595, 161, 260, 380, 457, 553, 588, 1073, 1196, 1210, 1265, 1270, 1376, 1610, 3114, 5459, 27619, 33493, 41566, 42738, 52287, 54001, 54286, 54648, 58559, 65682, 78499, ...]</td>\n",
       "    </tr>\n",
       "    <tr>\n",
       "      <th>116</th>\n",
       "      <td>596</td>\n",
       "      <td>[2288, 3000, 4878, 5971, 31658, 33649, 57669, 110102, 122882, 122906, 122916, 166528, 167746, 168252, 904, 1192, 1356, 1688, 1748, 4226, 4342, 4720, 5444, 5618, 6350, 7615, 8874, 38061, 51255, 60069, 70286, 76093, 107406, 111913, 122886, 134853, 135569, 138036, 143355, 171917, 1, 34, 39, 260, 364, 527, 541, 581, 593, 595, 616, 919, 924, 1028, 1035, 1036, 1046, 1097, 1136, 1210, 1214, 1270, 1374, 1375, 1376, 1704, 1907, 2081, 2393, 2407, 2571, 2687, 2692, 2762, 2959, 3052, 3094, 3213, 3275, 3535, 3786, 3793, 3967, 3996, 4306, 4366, 4973, 4993, 5903, 6333, 6377, 6502, 6934, 8961, 27246, 27611, 33794, 34405, 37729, 39183, ...]</td>\n",
       "    </tr>\n",
       "    <tr>\n",
       "      <th>117</th>\n",
       "      <td>599</td>\n",
       "      <td>[112, 260, 293, 296, 741, 750, 924, 951, 1089, 1178, 1196, 1200, 1208, 1210, 1214, 1274, 1283, 1732, 1967, 2395, 2427, 2571, 2858, 2959, 3030, 3160, 3435, 3703, 3949, 4973, 6711, 6874, 6, 215, 541, 589, 720, 1080, 1129, 1136, 1148, 1206, 1215, 1223, 1249, 1377, 1704, 1945, 2692, 2716, 3087, 3334, 3379, 3468, 3503, 3741, 4226, 4467, 4848, 5669, 6440, 7387, 7748, 27156, 68945, 80463, 96004, 170355, 21, 47, 318, 329, 431, 480, 745, 858, 861, 912, 923, 928, 930, 1036, 1050, 1095, 1097, 1183, 1204, 1213, 1221, 1225, 1230, 1232, 1236, 1237, 1242, 1244, 1246, 1265, 1282, 1291, ...]</td>\n",
       "    </tr>\n",
       "    <tr>\n",
       "      <th>118</th>\n",
       "      <td>601</td>\n",
       "      <td>[904, 1197, 1203, 2324, 5618, 31658, 48516, 50872, 59315, 60069, 68954, 76093, 134853, 166024, 170705, 908, 953, 1704, 2355, 2762, 3578, 5971, 33794, 48780, 67255, 70286, 74458, 80463, 81834, 88810, 89745, 91529, 106782, 115617, 152081, 172591, 177765, 1, 47, 912, 1136, 1193, 1198, 1207, 1527, 1721, 1917, 3000, 4306, 6016, 44191, 48394, 49272, 54286, 63082, 68157, 72378, 72998, 74946, 78499, 80549, 81845, 95167, 99114, 112852, 122918, 168326, 170697, 174055, 176371, 1584, 3114, 46578, 122916]</td>\n",
       "    </tr>\n",
       "    <tr>\n",
       "      <th>119</th>\n",
       "      <td>610</td>\n",
       "      <td>[1, 6, 47, 111, 194, 215, 260, 293, 296, 377, 380, 407, 441, 480, 541, 589, 778, 784, 858, 903, 904, 1036, 1089, 1136, 1196, 1198, 1200, 1201, 1208, 1209, 1210, 1213, 1218, 1221, 1228, 1240, 1241, 1245, 1247, 1258, 1261, 1270, 1273, 1274, 1279, 1394, 1676, 1682, 1884, 1923, 1953, 1967, 2000, 2028, 2076, 2288, 2571, 2716, 2916, 2924, 2959, 2968, 2985, 3114, 3246, 3265, 3328, 3362, 3424, 3468, 3527, 3578, 3671, 3681, 3897, 3925, 3972, 3996, 4105, 4226, 4437, 4794, 4848, 4878, 4993, 5139, 5673, 5772, 5833, 5909, 5952, 5954, 6016, 6502, 6711, 7022, 7153, 7361, 7387, 8142, ...]</td>\n",
       "    </tr>\n",
       "  </tbody>\n",
       "</table>\n",
       "<p>120 rows × 2 columns</p>\n",
       "</div>"
      ],
      "text/plain": [
       "     userId  \\\n",
       "0        10   \n",
       "1        15   \n",
       "2        18   \n",
       "3        21   \n",
       "4        24   \n",
       "..      ...   \n",
       "115     586   \n",
       "116     596   \n",
       "117     599   \n",
       "118     601   \n",
       "119     610   \n",
       "\n",
       "                                                                                                                                                                                                                                                                                                                                                                                                                                                                                                                                                                                                                                                                                                          movieId  \n",
       "0                  [7458, 8533, 8869, 33794, 49272, 49286, 71579, 79091, 81845, 91529, 92259, 96079, 136020, 140110, 4306, 4447, 7169, 31685, 51705, 58559, 63992, 69406, 94070, 106696, 113275, 588, 912, 1907, 3578, 4993, 4995, 5952, 6535, 6942, 7149, 7153, 7154, 7375, 40819, 68954, 88163, 95167, 95449, 103335, 103339, 104374, 109853, 112006, 113394, 137595, 356, 597, 1784, 2671, 4246, 5377, 6377, 7293, 7451, 8529, 8636, 8665, 8969, 30749, 54286, 56367, 58047, 63113, 66203, 72330, 72720, 72737, 80549, 81847, 82167, 84374, 87222, 95543, 106489, 129428, 1088, 1247, 1307, 3882, 5066, 5620, 5943, 5957, 6155, 6266, 7151, 8808, 33145, 33679, 40629, 47099, 51662, 56949, 60397, 69844, ...]  \n",
       "1                                          [260, 318, 356, 527, 589, 1196, 1200, 1210, 1214, 1270, 2011, 3147, 3156, 3578, 4720, 4995, 5989, 33493, 84152, 122886, 152077, 166528, 1653, 2329, 2916, 48304, 48780, 84954, 104841, 111759, 112556, 134853, 296, 858, 1198, 1240, 2012, 2571, 2858, 3499, 3949, 4370, 5445, 64614, 71057, 97938, 101864, 105504, 109487, 134130, 47, 780, 1265, 2028, 3535, 4022, 4886, 4993, 5952, 6502, 7254, 8644, 56174, 60069, 68954, 70286, 79132, 85414, 103249, 158872, 160980, 166635, 293, 364, 588, 1527, 2081, 2762, 3753, 3994, 4306, 5618, 6377, 6874, 7438, 48774, 50872, 63859, 68237, 72998, 91500, 94864, 96610, 143385, 152081, 1, 2959, 8360, 8961, 71264, ...]  \n",
       "2                                                     [50, 318, 923, 1201, 1203, 1209, 1221, 16, 47, 110, 235, 293, 356, 527, 589, 593, 608, 778, 904, 1080, 1136, 1148, 1193, 1206, 1207, 1210, 1212, 1213, 1219, 1222, 1223, 1227, 1234, 1247, 1356, 1374, 1732, 2324, 2542, 2571, 2762, 2951, 2959, 3052, 3275, 3578, 3681, 3949, 4011, 4226, 4993, 4995, 5008, 5120, 5995, 6300, 6440, 6539, 6807, 7147, 7153, 7254, 7843, 27716, 27878, 33794, 44191, 44199, 44665, 48516, 48780, 51540, 52604, 55118, 55290, 55765, 64197, 67255, 68073, 71108, 71899, 73017, 73323, 74458, 74510, 76251, 79132, 81788, 84392, 109487, 112334, 112552, 112852, 115713, 116797, 134130, 142488, 157108, 157110, 177593, ...]  \n",
       "3                                                     [47997, 2717, 33679, 117529, 119145, 122886, 122896, 122922, 136020, 143385, 152081, 164179, 167036, 296, 541, 780, 2617, 6155, 30793, 32296, 34048, 36519, 50872, 51662, 53996, 60397, 63082, 68791, 69122, 69526, 72378, 73321, 78469, 79293, 79592, 87520, 90249, 91535, 95167, 96588, 108190, 112138, 114180, 115149, 116823, 122900, 122904, 135133, 135536, 138036, 164909, 166492, 168248, 902, 2052, 2953, 4700, 5219, 5254, 7373, 32587, 34150, 41566, 72641, 93510, 110553, 126548, 130450, 136016, 168252, 1573, 3697, 142536, 58025, 97913, 148675, 6874, 7438, 38038, 143245, 149380, 2174, 5266, 61160, 108932, 160565, 1391, 160872, 173307]  \n",
       "4                                                        [6, 318, 356, 593, 1198, 1265, 3147, 5064, 6350, 27773, 50, 296, 608, 1197, 1246, 1396, 1527, 1580, 1704, 1784, 2028, 2115, 2424, 2571, 2686, 3578, 4027, 4262, 4489, 4855, 5418, 5673, 5791, 7143, 35836, 38061, 44191, 46976, 51662, 54286, 58559, 58998, 64957, 68358, 70286, 72011, 79132, 86882, 91529, 94777, 119145, 132660, 134130, 134853, 32, 165, 253, 316, 457, 552, 780, 1220, 1370, 1663, 1682, 2273, 2421, 2617, 2916, 4299, 4701, 4973, 4995, 7293, 31685, 33679, 34437, 49272, 52973, 57368, 59615, 61024, 91542, 96079, 102407, 111759, 122886, 733, 1297, 1639, 1653, 2134, 5445, 5903, 8784, 31696, 45672, 47610, 61132, 63113, ...]  \n",
       "..                                                                                                                                                                                                                                                                                                                                                                                                                                                                                                                                                                                                                                                                                                            ...  \n",
       "115  [110, 318, 589, 1198, 1200, 1374, 1580, 1704, 2011, 2353, 2490, 2571, 3175, 3578, 3753, 3793, 4886, 4993, 5952, 6333, 6539, 7153, 8368, 8665, 33615, 45431, 45499, 45517, 47610, 50872, 59315, 59369, 59784, 60069, 62999, 63859, 68954, 76093, 77561, 79091, 86298, 86880, 87222, 93272, 95167, 96861, 98243, 101142, 103141, 106489, 106696, 110102, 112852, 117851, 118696, 120635, 122886, 122896, 122906, 122918, 122920, 122922, 122926, 134853, 135133, 136556, 149406, 152081, 160438, 166461, 168252, 168418, 179819, 187595, 161, 260, 380, 457, 553, 588, 1073, 1196, 1210, 1265, 1270, 1376, 1610, 3114, 5459, 27619, 33493, 41566, 42738, 52287, 54001, 54286, 54648, 58559, 65682, 78499, ...]  \n",
       "116                                                       [2288, 3000, 4878, 5971, 31658, 33649, 57669, 110102, 122882, 122906, 122916, 166528, 167746, 168252, 904, 1192, 1356, 1688, 1748, 4226, 4342, 4720, 5444, 5618, 6350, 7615, 8874, 38061, 51255, 60069, 70286, 76093, 107406, 111913, 122886, 134853, 135569, 138036, 143355, 171917, 1, 34, 39, 260, 364, 527, 541, 581, 593, 595, 616, 919, 924, 1028, 1035, 1036, 1046, 1097, 1136, 1210, 1214, 1270, 1374, 1375, 1376, 1704, 1907, 2081, 2393, 2407, 2571, 2687, 2692, 2762, 2959, 3052, 3094, 3213, 3275, 3535, 3786, 3793, 3967, 3996, 4306, 4366, 4973, 4993, 5903, 6333, 6377, 6502, 6934, 8961, 27246, 27611, 33794, 34405, 37729, 39183, ...]  \n",
       "117                                                                                                         [112, 260, 293, 296, 741, 750, 924, 951, 1089, 1178, 1196, 1200, 1208, 1210, 1214, 1274, 1283, 1732, 1967, 2395, 2427, 2571, 2858, 2959, 3030, 3160, 3435, 3703, 3949, 4973, 6711, 6874, 6, 215, 541, 589, 720, 1080, 1129, 1136, 1148, 1206, 1215, 1223, 1249, 1377, 1704, 1945, 2692, 2716, 3087, 3334, 3379, 3468, 3503, 3741, 4226, 4467, 4848, 5669, 6440, 7387, 7748, 27156, 68945, 80463, 96004, 170355, 21, 47, 318, 329, 431, 480, 745, 858, 861, 912, 923, 928, 930, 1036, 1050, 1095, 1097, 1183, 1204, 1213, 1221, 1225, 1230, 1232, 1236, 1237, 1242, 1244, 1246, 1265, 1282, 1291, ...]  \n",
       "118                                                                                                                                                                                             [904, 1197, 1203, 2324, 5618, 31658, 48516, 50872, 59315, 60069, 68954, 76093, 134853, 166024, 170705, 908, 953, 1704, 2355, 2762, 3578, 5971, 33794, 48780, 67255, 70286, 74458, 80463, 81834, 88810, 89745, 91529, 106782, 115617, 152081, 172591, 177765, 1, 47, 912, 1136, 1193, 1198, 1207, 1527, 1721, 1917, 3000, 4306, 6016, 44191, 48394, 49272, 54286, 63082, 68157, 72378, 72998, 74946, 78499, 80549, 81845, 95167, 99114, 112852, 122918, 168326, 170697, 174055, 176371, 1584, 3114, 46578, 122916]  \n",
       "119                                                                                                           [1, 6, 47, 111, 194, 215, 260, 293, 296, 377, 380, 407, 441, 480, 541, 589, 778, 784, 858, 903, 904, 1036, 1089, 1136, 1196, 1198, 1200, 1201, 1208, 1209, 1210, 1213, 1218, 1221, 1228, 1240, 1241, 1245, 1247, 1258, 1261, 1270, 1273, 1274, 1279, 1394, 1676, 1682, 1884, 1923, 1953, 1967, 2000, 2028, 2076, 2288, 2571, 2716, 2916, 2924, 2959, 2968, 2985, 3114, 3246, 3265, 3328, 3362, 3424, 3468, 3527, 3578, 3671, 3681, 3897, 3925, 3972, 3996, 4105, 4226, 4437, 4794, 4848, 4878, 4993, 5139, 5673, 5772, 5833, 5909, 5952, 5954, 6016, 6502, 6711, 7022, 7153, 7361, 7387, 8142, ...]  \n",
       "\n",
       "[120 rows x 2 columns]"
      ]
     },
     "execution_count": 454,
     "metadata": {},
     "output_type": "execute_result"
    }
   ],
   "source": [
    "ideal_recomms2 = interactions_test.sort_values(by=[\"userId\", \"rating\"], ascending=False)\\\n",
    "                  .groupby(\"userId\", as_index=False)\\\n",
    "                  .agg({\"movieId\": \"unique\"})\n",
    "ideal_recomms2"
   ]
  },
  {
   "cell_type": "code",
   "execution_count": 455,
   "metadata": {},
   "outputs": [
    {
     "data": {
      "text/html": [
       "<div>\n",
       "<style scoped>\n",
       "    .dataframe tbody tr th:only-of-type {\n",
       "        vertical-align: middle;\n",
       "    }\n",
       "\n",
       "    .dataframe tbody tr th {\n",
       "        vertical-align: top;\n",
       "    }\n",
       "\n",
       "    .dataframe thead th {\n",
       "        text-align: right;\n",
       "    }\n",
       "</style>\n",
       "<table border=\"1\" class=\"dataframe\">\n",
       "  <thead>\n",
       "    <tr style=\"text-align: right;\">\n",
       "      <th></th>\n",
       "      <th>user_id</th>\n",
       "      <th>recomms_df</th>\n",
       "      <th>recomms_ideal</th>\n",
       "    </tr>\n",
       "  </thead>\n",
       "  <tbody>\n",
       "    <tr>\n",
       "      <th>0</th>\n",
       "      <td>21</td>\n",
       "      <td>[296, 356, 318, 110, 593, 480, 150, 592, 590, 380, 589, 457, 344, 780, 588, 153, 1, 527, 47, 377]</td>\n",
       "      <td>[47997, 2717, 33679, 117529, 119145, 122886, 122896, 122922, 136020, 143385, 152081, 164179, 167036, 296, 541, 780, 2617, 6155, 30793, 32296, 34048, 36519, 50872, 51662, 53996, 60397, 63082, 68791, 69122, 69526, 72378, 73321, 78469, 79293, 79592, 87520, 90249, 91535, 95167, 96588, 108190, 112138, 114180, 115149, 116823, 122900, 122904, 135133, 135536, 138036, 164909, 166492, 168248, 902, 2052, 2953, 4700, 5219, 5254, 7373, 32587, 34150, 41566, 72641, 93510, 110553, 126548, 130450, 136016, 168252, 1573, 3697, 142536, 58025, 97913, 148675, 6874, 7438, 38038, 143245, 149380, 2174, 5266, 61160, 108932, 160565, 1391, 160872, 173307]</td>\n",
       "    </tr>\n",
       "    <tr>\n",
       "      <th>1</th>\n",
       "      <td>103</td>\n",
       "      <td>[296, 356, 318, 593, 480, 110, 589, 780, 260, 150, 2571, 592, 1, 457, 380, 527, 590, 50, 47, 2858]</td>\n",
       "      <td>[1206, 1222, 2997, 3160, 64614, 81932, 148626, 48516, 56782, 86882, 923, 1945, 4677, 6873, 61323, 69140, 96728, 116799, 367, 2018, 2421, 4254, 7367, 50912, 106766, 168250, 122886]</td>\n",
       "    </tr>\n",
       "    <tr>\n",
       "      <th>2</th>\n",
       "      <td>105</td>\n",
       "      <td>[296, 356, 318, 593, 480, 110, 589, 780, 260, 150, 2571, 592, 1, 457, 380, 527, 590, 50, 47, 2858]</td>\n",
       "      <td>[2131, 4788, 5889, 37731, 57183, 80124, 104780, 116897, 120138, 120478, 129514, 130970, 134095, 136445, 136447, 138835, 140265, 141816, 142020, 143511, 145994, 147196, 147250, 147286, 147300, 147326, 147328, 147330, 150548, 151769, 159811, 159817, 163072, 163112, 163386, 163925, 165959, 166183, 170597, 170705, 170777, 171011, 171749, 172577, 172583, 172585, 172587, 172589, 172637, 172793, 172909, 173351, 173355, 173619, 173963, 174551, 175293, 175387, 175397, 175431, 179133, 56060, 86345, 86347, 92535, 98604, 104069, 107408, 120625, 127098, 133712, 133716, 134326, 140038, 141818, 141830, 152081, 163134, 163645, 172825, 173535, 175435, 935, 75341, 101088, 118888, 118896, 122904, 141810, 141820, 147282, 152591, 170411, 175401, 178613, 8533, 54997, 158402]</td>\n",
       "    </tr>\n",
       "    <tr>\n",
       "      <th>3</th>\n",
       "      <td>112</td>\n",
       "      <td>[296, 356, 318, 593, 480, 110, 589, 780, 260, 150, 2571, 592, 1, 457, 380, 527, 590, 50, 47, 2858]</td>\n",
       "      <td>[91529, 6, 16, 253, 508, 68157, 79132, 19, 62, 104, 141, 288, 292, 454, 1356, 1393, 3717, 68954, 72998, 99114, 551, 778, 70286, 25, 208, 329, 21, 185, 2, 95, 161, 223, 339, 788, 17, 36, 39, 300, 357, 434]</td>\n",
       "    </tr>\n",
       "    <tr>\n",
       "      <th>4</th>\n",
       "      <td>119</td>\n",
       "      <td>[296, 356, 318, 593, 480, 110, 589, 780, 260, 150, 2571, 592, 1, 457, 380, 527, 590, 50, 47, 2858]</td>\n",
       "      <td>[67255, 103984, 136598, 138210, 148626, 318, 7458, 56174, 89087, 112552, 122904, 131023, 135532, 141004, 142488, 157699, 162350, 165551, 168252, 48774, 50872, 108689, 110718, 110730, 114795, 117533, 129354, 134853, 139385, 139642, 166461, 7454, 8464, 8622, 51077, 64839, 136562, 140711]</td>\n",
       "    </tr>\n",
       "    <tr>\n",
       "      <th>5</th>\n",
       "      <td>233</td>\n",
       "      <td>[296, 356, 318, 593, 480, 110, 589, 780, 260, 150, 2571, 592, 1, 457, 380, 527, 590, 50, 47, 2858]</td>\n",
       "      <td>[356, 177593, 2571, 3949, 58559, 50, 608, 858, 1206, 1298, 2028, 2324, 2997, 3081, 5418, 5952, 5954, 5995, 6377, 7371, 48516, 60069, 74458, 106100, 112183, 159817, 170705, 47, 364, 778, 924, 1059, 1721, 1921, 2692, 2762, 4239, 4262, 4995, 5816, 5956, 5989, 6016, 6874, 7438, 8368, 8961, 33794, 44555, 49272, 73017, 79132, 81591, 81845, 91529, 92259, 99114, 168266, 180031, 183897, 1, 110, 648, 1136, 1193, 1225, 1580, 1884, 2858, 3285, 6365, 6539, 7458, 27803, 32587, 44191, 54286, 55765, 55872, 57669, 58025, 59315, 69122, 69134, 70286, 86298, 91658, 96020, 109487, 122904, 134214, 178061, 780, 1089, 3948, 6863, 6934, 51086, 72998, 78103, ...]</td>\n",
       "    </tr>\n",
       "    <tr>\n",
       "      <th>6</th>\n",
       "      <td>249</td>\n",
       "      <td>[592, 590, 153, 165, 316, 349, 231, 161, 292, 454, 329, 185, 10, 34, 339, 597, 300, 587, 539, 39]</td>\n",
       "      <td>[96821, 139385, 164179, 166528, 168252, 187593, 1193, 7438, 122904, 122906, 122912, 122916, 122918, 122920, 122922, 122926, 128360, 137857, 142488, 143355, 148626, 152081, 152970, 158238, 158872, 160718, 166534, 166643, 171763, 175569, 176371, 179819, 185029, 541, 4896, 7254, 8914, 81834, 88125, 108729, 115149, 116823, 122890, 122924, 135133, 135569, 140715, 152077, 157296, 159093, 159755, 161131, 167746, 168254, 168266, 169984, 176101, 182715, 184253, 2717, 120799, 142422, 149352, 160080, 162478, 162606, 167370, 182823, 184015, 135567, 143367, 146210, 148888, 152091, 156609, 160954, 170813, 170875, 173941, 185435, 143365]</td>\n",
       "    </tr>\n",
       "    <tr>\n",
       "      <th>7</th>\n",
       "      <td>285</td>\n",
       "      <td>[296, 356, 318, 593, 480, 110, 589, 780, 260, 150, 2571, 592, 1, 457, 380, 527, 590, 50, 47, 2858]</td>\n",
       "      <td>[858, 903, 904, 912, 1104, 1252, 1968, 1276, 949, 1304, 1945, 3296, 109374, 474, 7265, 113207, 4091, 1285]</td>\n",
       "    </tr>\n",
       "    <tr>\n",
       "      <th>8</th>\n",
       "      <td>292</td>\n",
       "      <td>[150, 527, 316, 47, 50, 648, 292, 208, 454, 329, 185, 2858, 736, 339, 300, 539, 288, 39, 410, 95]</td>\n",
       "      <td>[106487, 116823, 1278, 2302, 56775, 102903, 108190, 115617, 119145, 122900, 135133, 166528, 440, 73321, 103335, 130490, 113378, 114180, 2291, 122882, 164909, 1573, 64614, 70286, 102407, 130576, 113345, 129937, 165549, 127323, 118900]</td>\n",
       "    </tr>\n",
       "    <tr>\n",
       "      <th>9</th>\n",
       "      <td>298</td>\n",
       "      <td>[296, 356, 318, 593, 480, 110, 589, 780, 260, 150, 2571, 592, 1, 457, 380, 527, 590, 50, 47, 2858]</td>\n",
       "      <td>[6283, 1247, 1274, 2858, 50610, 122886, 741, 1220, 1476, 1968, 2115, 2335, 2772, 7099, 136449, 156371, 413, 562, 1320, 1387, 1587, 1916, 2019, 2144, 2193, 2195, 2416, 2628, 2826, 3477, 5378, 33493, 37384, 47640, 54745, 65982, 93363, 96588, 102993, 103048, 103980, 104241, 122904, 122920, 127198, 127202, 133771, 139385, 141688, 163, 208, 780, 1275, 1285, 1439, 1584, 2572, 2599, 2694, 3254, 3617, 3791, 4558, 4900, 36537, 44840, 54256, 61160, 64231, 70663, 76060, 79134, 102033, 103539, 104211, 105213, 108945, 112370, 115713, 135567, 136020, 153, 539, 1466, 1526, 1690, 1746, 1855, 5283, 5363, 5573, 7048, 34523, 47518, 56012, 56801, 58655, 68600, 71135, 84615, ...]</td>\n",
       "    </tr>\n",
       "    <tr>\n",
       "      <th>10</th>\n",
       "      <td>318</td>\n",
       "      <td>[318, 110, 150, 592, 380, 589, 457, 588, 1, 316, 47, 50, 349, 231, 161, 434, 292, 367, 454, 329]</td>\n",
       "      <td>[1274, 26073, 171495, 179135, 184245, 3569, 3683, 8484, 8724, 26048, 26713, 72356, 87660, 117533, 120478, 134853, 135143, 143896, 148424, 150696, 158238, 159976, 165969, 171011, 173317, 176371, 177593, 188833, 535, 1024, 1639, 3000, 3006, 3728, 3845, 4300, 5475, 5838, 7206, 7209, 27186, 32917, 48001, 49917, 70533, 72714, 72720, 85213, 86922, 91860, 94953, 100277, 102742, 108729, 114678, 117364, 122906, 134214, 134881, 143859, 147002, 158972, 162578, 166528, 168492, 173197, 176, 1289, 4007, 32906, 47446, 48638, 56587, 70984, 84187, 86279, 109187, 133771, 142456, 143355, 152065, 155774, 158842, 160563, 160684, 168612, 182715, 188675, 2952, 4241, 4825, 7228, 7265, 64497, 71867, 95558, 102125, 104243, 106873, 111360, ...]</td>\n",
       "    </tr>\n",
       "    <tr>\n",
       "      <th>11</th>\n",
       "      <td>326</td>\n",
       "      <td>[593, 480, 150, 592, 590, 380, 589, 457, 344, 780, 588, 153, 1, 47, 32, 165, 316, 377, 349, 260]</td>\n",
       "      <td>[8665, 133771, 139385, 1246, 117466, 142488, 116897, 134130, 142448, 146656]</td>\n",
       "    </tr>\n",
       "    <tr>\n",
       "      <th>12</th>\n",
       "      <td>341</td>\n",
       "      <td>[296, 356, 318, 593, 480, 110, 589, 780, 260, 150, 2571, 592, 1, 457, 380, 527, 590, 50, 47, 2858]</td>\n",
       "      <td>[59900, 380, 2502, 6537, 114662, 136020, 1036, 1370, 4447, 4816, 5816, 47099, 94677, 119145, 788, 3624, 3751, 5218, 115149, 2720, 3988, 5459, 6218, 6373, 6863, 135137, 69122]</td>\n",
       "    </tr>\n",
       "    <tr>\n",
       "      <th>13</th>\n",
       "      <td>443</td>\n",
       "      <td>[296, 356, 318, 593, 480, 110, 589, 780, 260, 150, 2571, 592, 1, 457, 380, 527, 590, 50, 47, 2858]</td>\n",
       "      <td>[318, 356, 608, 5952, 7153, 96430, 106918, 110, 1, 260, 296, 79132]</td>\n",
       "    </tr>\n",
       "    <tr>\n",
       "      <th>14</th>\n",
       "      <td>448</td>\n",
       "      <td>[318, 110, 588, 527, 595, 292, 364, 253, 34, 39, 2028, 141, 266, 225, 62, 1721, 25, 6, 1197, 293]</td>\n",
       "      <td>[923, 152105, 778, 3498, 89305, 104913, 114935, 115617, 122904, 134130, 134393, 134853, 134881, 135861, 155659, 157296, 158872, 113532, 119145, 122900, 129659, 134859, 138210, 139385, 143385, 3284, 79091, 96588, 102819, 103335, 109895, 115149, 115216, 118354, 118572, 118924, 122882, 122892, 122920, 123947, 127204, 129354, 130576, 133419, 134368, 135536, 136020, 136562, 137857, 139415, 139642, 140725, 140928, 142222, 142448, 143859, 145150, 148482, 148592, 149406, 150401, 151777, 152083, 156609, 157122, 159193, 160573, 59369, 114818, 117466, 117529, 119155, 120783, 127136, 127198, 129428, 134021, 135137, 135569, 135887, 136816, 140110, 141422, 142997, 143257, 144620, 145839, 148956, 149590, 150604, 152077, 152085, 152091, 155812, 156553, 156706, 157200, 157270, 157340, 159077, ...]</td>\n",
       "    </tr>\n",
       "    <tr>\n",
       "      <th>15</th>\n",
       "      <td>462</td>\n",
       "      <td>[110, 480, 150, 590, 380, 457, 344, 780, 588, 153, 165, 316, 349, 595, 648, 161, 434, 292, 367, 208]</td>\n",
       "      <td>[1241, 100556, 152711, 160644, 162414, 167064, 168250, 187717, 44555, 61323, 80862, 91077, 103107, 142488, 146656, 158966, 164917, 171763, 183317, 188189, 1968, 2527, 8949, 48385, 60333, 88744, 103624, 112623, 127136, 134214, 148982, 164179, 179813, 183199, 184721, 1198, 2144, 2997, 5205, 5902, 98809, 111360, 139644, 148626, 161127, 2145, 5212, 55820, 122926, 151311, 122882, 122902, 140928, 189713, 6528, 143355, 164655, 173145, 69757, 91542, 118696, 143859, 1097, 4979, 54648]</td>\n",
       "    </tr>\n",
       "    <tr>\n",
       "      <th>16</th>\n",
       "      <td>511</td>\n",
       "      <td>[296, 356, 318, 593, 480, 110, 589, 780, 260, 150, 2571, 592, 1, 457, 380, 527, 590, 50, 47, 2858]</td>\n",
       "      <td>[139385, 1653, 2628, 51086, 55814, 55908, 56941, 59387, 90866, 94677, 97752, 105844, 112623, 115149, 119145, 122882, 122916, 164179, 5349, 6534, 41569, 53953, 56757, 95207, 103253, 107406, 114935, 1970, 50601, 96737]</td>\n",
       "    </tr>\n",
       "    <tr>\n",
       "      <th>17</th>\n",
       "      <td>537</td>\n",
       "      <td>[296, 356, 318, 593, 480, 110, 589, 780, 260, 150, 2571, 592, 1, 457, 380, 527, 590, 50, 47, 2858]</td>\n",
       "      <td>[55946]</td>\n",
       "    </tr>\n",
       "    <tr>\n",
       "      <th>18</th>\n",
       "      <td>582</td>\n",
       "      <td>[296, 356, 318, 593, 480, 110, 589, 780, 260, 150, 2571, 592, 1, 457, 380, 527, 590, 50, 47, 2858]</td>\n",
       "      <td>[8368, 40815, 59315, 68358, 122886, 593, 2959, 4226, 91658, 116797]</td>\n",
       "    </tr>\n",
       "    <tr>\n",
       "      <th>19</th>\n",
       "      <td>601</td>\n",
       "      <td>[296, 356, 318, 593, 480, 110, 589, 780, 260, 150, 2571, 592, 1, 457, 380, 527, 590, 50, 47, 2858]</td>\n",
       "      <td>[904, 1197, 1203, 2324, 5618, 31658, 48516, 50872, 59315, 60069, 68954, 76093, 134853, 166024, 170705, 908, 953, 1704, 2355, 2762, 3578, 5971, 33794, 48780, 67255, 70286, 74458, 80463, 81834, 88810, 89745, 91529, 106782, 115617, 152081, 172591, 177765, 1, 47, 912, 1136, 1193, 1198, 1207, 1527, 1721, 1917, 3000, 4306, 6016, 44191, 48394, 49272, 54286, 63082, 68157, 72378, 72998, 74946, 78499, 80549, 81845, 95167, 99114, 112852, 122918, 168326, 170697, 174055, 176371, 1584, 3114, 46578, 122916]</td>\n",
       "    </tr>\n",
       "  </tbody>\n",
       "</table>\n",
       "</div>"
      ],
      "text/plain": [
       "    user_id  \\\n",
       "0        21   \n",
       "1       103   \n",
       "2       105   \n",
       "3       112   \n",
       "4       119   \n",
       "5       233   \n",
       "6       249   \n",
       "7       285   \n",
       "8       292   \n",
       "9       298   \n",
       "10      318   \n",
       "11      326   \n",
       "12      341   \n",
       "13      443   \n",
       "14      448   \n",
       "15      462   \n",
       "16      511   \n",
       "17      537   \n",
       "18      582   \n",
       "19      601   \n",
       "\n",
       "                                                                                              recomms_df  \\\n",
       "0      [296, 356, 318, 110, 593, 480, 150, 592, 590, 380, 589, 457, 344, 780, 588, 153, 1, 527, 47, 377]   \n",
       "1     [296, 356, 318, 593, 480, 110, 589, 780, 260, 150, 2571, 592, 1, 457, 380, 527, 590, 50, 47, 2858]   \n",
       "2     [296, 356, 318, 593, 480, 110, 589, 780, 260, 150, 2571, 592, 1, 457, 380, 527, 590, 50, 47, 2858]   \n",
       "3     [296, 356, 318, 593, 480, 110, 589, 780, 260, 150, 2571, 592, 1, 457, 380, 527, 590, 50, 47, 2858]   \n",
       "4     [296, 356, 318, 593, 480, 110, 589, 780, 260, 150, 2571, 592, 1, 457, 380, 527, 590, 50, 47, 2858]   \n",
       "5     [296, 356, 318, 593, 480, 110, 589, 780, 260, 150, 2571, 592, 1, 457, 380, 527, 590, 50, 47, 2858]   \n",
       "6      [592, 590, 153, 165, 316, 349, 231, 161, 292, 454, 329, 185, 10, 34, 339, 597, 300, 587, 539, 39]   \n",
       "7     [296, 356, 318, 593, 480, 110, 589, 780, 260, 150, 2571, 592, 1, 457, 380, 527, 590, 50, 47, 2858]   \n",
       "8      [150, 527, 316, 47, 50, 648, 292, 208, 454, 329, 185, 2858, 736, 339, 300, 539, 288, 39, 410, 95]   \n",
       "9     [296, 356, 318, 593, 480, 110, 589, 780, 260, 150, 2571, 592, 1, 457, 380, 527, 590, 50, 47, 2858]   \n",
       "10      [318, 110, 150, 592, 380, 589, 457, 588, 1, 316, 47, 50, 349, 231, 161, 434, 292, 367, 454, 329]   \n",
       "11      [593, 480, 150, 592, 590, 380, 589, 457, 344, 780, 588, 153, 1, 47, 32, 165, 316, 377, 349, 260]   \n",
       "12    [296, 356, 318, 593, 480, 110, 589, 780, 260, 150, 2571, 592, 1, 457, 380, 527, 590, 50, 47, 2858]   \n",
       "13    [296, 356, 318, 593, 480, 110, 589, 780, 260, 150, 2571, 592, 1, 457, 380, 527, 590, 50, 47, 2858]   \n",
       "14     [318, 110, 588, 527, 595, 292, 364, 253, 34, 39, 2028, 141, 266, 225, 62, 1721, 25, 6, 1197, 293]   \n",
       "15  [110, 480, 150, 590, 380, 457, 344, 780, 588, 153, 165, 316, 349, 595, 648, 161, 434, 292, 367, 208]   \n",
       "16    [296, 356, 318, 593, 480, 110, 589, 780, 260, 150, 2571, 592, 1, 457, 380, 527, 590, 50, 47, 2858]   \n",
       "17    [296, 356, 318, 593, 480, 110, 589, 780, 260, 150, 2571, 592, 1, 457, 380, 527, 590, 50, 47, 2858]   \n",
       "18    [296, 356, 318, 593, 480, 110, 589, 780, 260, 150, 2571, 592, 1, 457, 380, 527, 590, 50, 47, 2858]   \n",
       "19    [296, 356, 318, 593, 480, 110, 589, 780, 260, 150, 2571, 592, 1, 457, 380, 527, 590, 50, 47, 2858]   \n",
       "\n",
       "                                                                                                                                                                                                                                                                                                                                                                                                                                                                                                                                                                                                                                                                                                                                                                                                              recomms_ideal  \n",
       "0                                                                                                                                                               [47997, 2717, 33679, 117529, 119145, 122886, 122896, 122922, 136020, 143385, 152081, 164179, 167036, 296, 541, 780, 2617, 6155, 30793, 32296, 34048, 36519, 50872, 51662, 53996, 60397, 63082, 68791, 69122, 69526, 72378, 73321, 78469, 79293, 79592, 87520, 90249, 91535, 95167, 96588, 108190, 112138, 114180, 115149, 116823, 122900, 122904, 135133, 135536, 138036, 164909, 166492, 168248, 902, 2052, 2953, 4700, 5219, 5254, 7373, 32587, 34150, 41566, 72641, 93510, 110553, 126548, 130450, 136016, 168252, 1573, 3697, 142536, 58025, 97913, 148675, 6874, 7438, 38038, 143245, 149380, 2174, 5266, 61160, 108932, 160565, 1391, 160872, 173307]  \n",
       "1                                                                                                                                                                                                                                                                                                                                                                                                                                                                                                                                                                                                                                       [1206, 1222, 2997, 3160, 64614, 81932, 148626, 48516, 56782, 86882, 923, 1945, 4677, 6873, 61323, 69140, 96728, 116799, 367, 2018, 2421, 4254, 7367, 50912, 106766, 168250, 122886]  \n",
       "2                               [2131, 4788, 5889, 37731, 57183, 80124, 104780, 116897, 120138, 120478, 129514, 130970, 134095, 136445, 136447, 138835, 140265, 141816, 142020, 143511, 145994, 147196, 147250, 147286, 147300, 147326, 147328, 147330, 150548, 151769, 159811, 159817, 163072, 163112, 163386, 163925, 165959, 166183, 170597, 170705, 170777, 171011, 171749, 172577, 172583, 172585, 172587, 172589, 172637, 172793, 172909, 173351, 173355, 173619, 173963, 174551, 175293, 175387, 175397, 175431, 179133, 56060, 86345, 86347, 92535, 98604, 104069, 107408, 120625, 127098, 133712, 133716, 134326, 140038, 141818, 141830, 152081, 163134, 163645, 172825, 173535, 175435, 935, 75341, 101088, 118888, 118896, 122904, 141810, 141820, 147282, 152591, 170411, 175401, 178613, 8533, 54997, 158402]  \n",
       "3                                                                                                                                                                                                                                                                                                                                                                                                                                                                                                                                                                                                              [91529, 6, 16, 253, 508, 68157, 79132, 19, 62, 104, 141, 288, 292, 454, 1356, 1393, 3717, 68954, 72998, 99114, 551, 778, 70286, 25, 208, 329, 21, 185, 2, 95, 161, 223, 339, 788, 17, 36, 39, 300, 357, 434]  \n",
       "4                                                                                                                                                                                                                                                                                                                                                                                                                                                                                                                            [67255, 103984, 136598, 138210, 148626, 318, 7458, 56174, 89087, 112552, 122904, 131023, 135532, 141004, 142488, 157699, 162350, 165551, 168252, 48774, 50872, 108689, 110718, 110730, 114795, 117533, 129354, 134853, 139385, 139642, 166461, 7454, 8464, 8622, 51077, 64839, 136562, 140711]  \n",
       "5                                                                                                                                                     [356, 177593, 2571, 3949, 58559, 50, 608, 858, 1206, 1298, 2028, 2324, 2997, 3081, 5418, 5952, 5954, 5995, 6377, 7371, 48516, 60069, 74458, 106100, 112183, 159817, 170705, 47, 364, 778, 924, 1059, 1721, 1921, 2692, 2762, 4239, 4262, 4995, 5816, 5956, 5989, 6016, 6874, 7438, 8368, 8961, 33794, 44555, 49272, 73017, 79132, 81591, 81845, 91529, 92259, 99114, 168266, 180031, 183897, 1, 110, 648, 1136, 1193, 1225, 1580, 1884, 2858, 3285, 6365, 6539, 7458, 27803, 32587, 44191, 54286, 55765, 55872, 57669, 58025, 59315, 69122, 69134, 70286, 86298, 91658, 96020, 109487, 122904, 134214, 178061, 780, 1089, 3948, 6863, 6934, 51086, 72998, 78103, ...]  \n",
       "6                                                                                                                                                                    [96821, 139385, 164179, 166528, 168252, 187593, 1193, 7438, 122904, 122906, 122912, 122916, 122918, 122920, 122922, 122926, 128360, 137857, 142488, 143355, 148626, 152081, 152970, 158238, 158872, 160718, 166534, 166643, 171763, 175569, 176371, 179819, 185029, 541, 4896, 7254, 8914, 81834, 88125, 108729, 115149, 116823, 122890, 122924, 135133, 135569, 140715, 152077, 157296, 159093, 159755, 161131, 167746, 168254, 168266, 169984, 176101, 182715, 184253, 2717, 120799, 142422, 149352, 160080, 162478, 162606, 167370, 182823, 184015, 135567, 143367, 146210, 148888, 152091, 156609, 160954, 170813, 170875, 173941, 185435, 143365]  \n",
       "7                                                                                                                                                                                                                                                                                                                                                                                                                                                                                                                                                                                                                                                                                                                [858, 903, 904, 912, 1104, 1252, 1968, 1276, 949, 1304, 1945, 3296, 109374, 474, 7265, 113207, 4091, 1285]  \n",
       "8                                                                                                                                                                                                                                                                                                                                                                                                                                                                                                                                                                                 [106487, 116823, 1278, 2302, 56775, 102903, 108190, 115617, 119145, 122900, 135133, 166528, 440, 73321, 103335, 130490, 113378, 114180, 2291, 122882, 164909, 1573, 64614, 70286, 102407, 130576, 113345, 129937, 165549, 127323, 118900]  \n",
       "9                                                                                                                               [6283, 1247, 1274, 2858, 50610, 122886, 741, 1220, 1476, 1968, 2115, 2335, 2772, 7099, 136449, 156371, 413, 562, 1320, 1387, 1587, 1916, 2019, 2144, 2193, 2195, 2416, 2628, 2826, 3477, 5378, 33493, 37384, 47640, 54745, 65982, 93363, 96588, 102993, 103048, 103980, 104241, 122904, 122920, 127198, 127202, 133771, 139385, 141688, 163, 208, 780, 1275, 1285, 1439, 1584, 2572, 2599, 2694, 3254, 3617, 3791, 4558, 4900, 36537, 44840, 54256, 61160, 64231, 70663, 76060, 79134, 102033, 103539, 104211, 105213, 108945, 112370, 115713, 135567, 136020, 153, 539, 1466, 1526, 1690, 1746, 1855, 5283, 5363, 5573, 7048, 34523, 47518, 56012, 56801, 58655, 68600, 71135, 84615, ...]  \n",
       "10                                                                  [1274, 26073, 171495, 179135, 184245, 3569, 3683, 8484, 8724, 26048, 26713, 72356, 87660, 117533, 120478, 134853, 135143, 143896, 148424, 150696, 158238, 159976, 165969, 171011, 173317, 176371, 177593, 188833, 535, 1024, 1639, 3000, 3006, 3728, 3845, 4300, 5475, 5838, 7206, 7209, 27186, 32917, 48001, 49917, 70533, 72714, 72720, 85213, 86922, 91860, 94953, 100277, 102742, 108729, 114678, 117364, 122906, 134214, 134881, 143859, 147002, 158972, 162578, 166528, 168492, 173197, 176, 1289, 4007, 32906, 47446, 48638, 56587, 70984, 84187, 86279, 109187, 133771, 142456, 143355, 152065, 155774, 158842, 160563, 160684, 168612, 182715, 188675, 2952, 4241, 4825, 7228, 7265, 64497, 71867, 95558, 102125, 104243, 106873, 111360, ...]  \n",
       "11                                                                                                                                                                                                                                                                                                                                                                                                                                                                                                                                                                                                                                                                                                                                             [8665, 133771, 139385, 1246, 117466, 142488, 116897, 134130, 142448, 146656]  \n",
       "12                                                                                                                                                                                                                                                                                                                                                                                                                                                                                                                                                                                                                                           [59900, 380, 2502, 6537, 114662, 136020, 1036, 1370, 4447, 4816, 5816, 47099, 94677, 119145, 788, 3624, 3751, 5218, 115149, 2720, 3988, 5459, 6218, 6373, 6863, 135137, 69122]  \n",
       "13                                                                                                                                                                                                                                                                                                                                                                                                                                                                                                                                                                                                                                                                                                                                                      [318, 356, 608, 5952, 7153, 96430, 106918, 110, 1, 260, 296, 79132]  \n",
       "14  [923, 152105, 778, 3498, 89305, 104913, 114935, 115617, 122904, 134130, 134393, 134853, 134881, 135861, 155659, 157296, 158872, 113532, 119145, 122900, 129659, 134859, 138210, 139385, 143385, 3284, 79091, 96588, 102819, 103335, 109895, 115149, 115216, 118354, 118572, 118924, 122882, 122892, 122920, 123947, 127204, 129354, 130576, 133419, 134368, 135536, 136020, 136562, 137857, 139415, 139642, 140725, 140928, 142222, 142448, 143859, 145150, 148482, 148592, 149406, 150401, 151777, 152083, 156609, 157122, 159193, 160573, 59369, 114818, 117466, 117529, 119155, 120783, 127136, 127198, 129428, 134021, 135137, 135569, 135887, 136816, 140110, 141422, 142997, 143257, 144620, 145839, 148956, 149590, 150604, 152077, 152085, 152091, 155812, 156553, 156706, 157200, 157270, 157340, 159077, ...]  \n",
       "15                                                                                                                                                                                                                                                                                                                         [1241, 100556, 152711, 160644, 162414, 167064, 168250, 187717, 44555, 61323, 80862, 91077, 103107, 142488, 146656, 158966, 164917, 171763, 183317, 188189, 1968, 2527, 8949, 48385, 60333, 88744, 103624, 112623, 127136, 134214, 148982, 164179, 179813, 183199, 184721, 1198, 2144, 2997, 5205, 5902, 98809, 111360, 139644, 148626, 161127, 2145, 5212, 55820, 122926, 151311, 122882, 122902, 140928, 189713, 6528, 143355, 164655, 173145, 69757, 91542, 118696, 143859, 1097, 4979, 54648]  \n",
       "16                                                                                                                                                                                                                                                                                                                                                                                                                                                                                                                                                                                                 [139385, 1653, 2628, 51086, 55814, 55908, 56941, 59387, 90866, 94677, 97752, 105844, 112623, 115149, 119145, 122882, 122916, 164179, 5349, 6534, 41569, 53953, 56757, 95207, 103253, 107406, 114935, 1970, 50601, 96737]  \n",
       "17                                                                                                                                                                                                                                                                                                                                                                                                                                                                                                                                                                                                                                                                                                                                                                                                                  [55946]  \n",
       "18                                                                                                                                                                                                                                                                                                                                                                                                                                                                                                                                                                                                                                                                                                                                                      [8368, 40815, 59315, 68358, 122886, 593, 2959, 4226, 91658, 116797]  \n",
       "19                                                                                                                                                                                                                                                                                                        [904, 1197, 1203, 2324, 5618, 31658, 48516, 50872, 59315, 60069, 68954, 76093, 134853, 166024, 170705, 908, 953, 1704, 2355, 2762, 3578, 5971, 33794, 48780, 67255, 70286, 74458, 80463, 81834, 88810, 89745, 91529, 106782, 115617, 152081, 172591, 177765, 1, 47, 912, 1136, 1193, 1198, 1207, 1527, 1721, 1917, 3000, 4306, 6016, 44191, 48394, 49272, 54286, 63082, 68157, 72378, 72998, 74946, 78499, 80549, 81845, 95167, 99114, 112852, 122918, 168326, 170697, 174055, 176371, 1584, 3114, 46578, 122916]  "
      ]
     },
     "execution_count": 455,
     "metadata": {},
     "output_type": "execute_result"
    }
   ],
   "source": [
    "merged_df_test = pd.merge(df, ideal_recomms2, left_on='user_id', right_on='userId', how='inner')\n",
    "merged_df_test = merged_df_test.rename(columns={'recomms': 'recomms_df', 'movieId': 'recomms_ideal'})\n",
    "merged_df_test = merged_df_test.drop(columns=['userId'])\n",
    "\n",
    "merged_df_test"
   ]
  },
  {
   "cell_type": "code",
   "execution_count": 456,
   "metadata": {},
   "outputs": [],
   "source": [
    "aps = []\n",
    "\n",
    "for pred, label in merged_df_test[[\"recomms_ideal\",\"recomms_df\"]].values:\n",
    "  n = len(pred)\n",
    "  arange = np.arange(n, dtype=np.int32) + 1.\n",
    "  rel_k = np.in1d(pred[:n], label)\n",
    "  tp = np.ones(rel_k.sum(), dtype=np.int32).cumsum()\n",
    "  denom = arange[rel_k]\n",
    "  ap = (tp / denom).sum() / len(label)\n",
    "  aps.append(ap)"
   ]
  },
  {
   "cell_type": "code",
   "execution_count": 457,
   "metadata": {},
   "outputs": [
    {
     "name": "stdout",
     "output_type": "stream",
     "text": [
      "mean average precision = 0.02377\n"
     ]
    }
   ],
   "source": [
    "MAP = np.mean(aps)\n",
    "print(f'mean average precision = {round(MAP, 5)}')"
   ]
  }
 ],
 "metadata": {
  "kernelspec": {
   "display_name": "Python 3",
   "language": "python",
   "name": "python3"
  },
  "language_info": {
   "codemirror_mode": {
    "name": "ipython",
    "version": 3
   },
   "file_extension": ".py",
   "mimetype": "text/x-python",
   "name": "python",
   "nbconvert_exporter": "python",
   "pygments_lexer": "ipython3",
   "version": "3.11.3"
  }
 },
 "nbformat": 4,
 "nbformat_minor": 2
}
